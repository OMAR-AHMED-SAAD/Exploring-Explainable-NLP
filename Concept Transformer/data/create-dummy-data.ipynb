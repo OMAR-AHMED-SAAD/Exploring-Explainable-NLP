{
 "cells": [
  {
   "cell_type": "code",
   "execution_count": 1,
   "metadata": {},
   "outputs": [],
   "source": [
    "import pandas as pd\n",
    "import numpy as np"
   ]
  },
  {
   "cell_type": "code",
   "execution_count": 2,
   "metadata": {},
   "outputs": [],
   "source": [
    "data=pd.read_csv('traits-train-data.csv')"
   ]
  },
  {
   "cell_type": "code",
   "execution_count": 3,
   "metadata": {},
   "outputs": [
    {
     "data": {
      "text/html": [
       "<div>\n",
       "<style scoped>\n",
       "    .dataframe tbody tr th:only-of-type {\n",
       "        vertical-align: middle;\n",
       "    }\n",
       "\n",
       "    .dataframe tbody tr th {\n",
       "        vertical-align: top;\n",
       "    }\n",
       "\n",
       "    .dataframe thead th {\n",
       "        text-align: right;\n",
       "    }\n",
       "</style>\n",
       "<table border=\"1\" class=\"dataframe\">\n",
       "  <thead>\n",
       "    <tr style=\"text-align: right;\">\n",
       "      <th></th>\n",
       "      <th>source_id</th>\n",
       "      <th>guid</th>\n",
       "      <th>doc_id</th>\n",
       "      <th>scale</th>\n",
       "      <th>raw_text</th>\n",
       "      <th>text</th>\n",
       "      <th>lexical</th>\n",
       "      <th>structural</th>\n",
       "      <th>other</th>\n",
       "      <th>label_type</th>\n",
       "      <th>label</th>\n",
       "      <th>set</th>\n",
       "      <th>label_mapped_to_big5</th>\n",
       "      <th>facet</th>\n",
       "    </tr>\n",
       "  </thead>\n",
       "  <tbody>\n",
       "    <tr>\n",
       "      <th>0</th>\n",
       "      <td>IPIP</td>\n",
       "      <td>irarelyfeeldepressed</td>\n",
       "      <td>Q1001</td>\n",
       "      <td>BFAS</td>\n",
       "      <td>Rarely feel depressed</td>\n",
       "      <td>I rarely feel depressed.</td>\n",
       "      <td>1</td>\n",
       "      <td>1</td>\n",
       "      <td>1</td>\n",
       "      <td>hard</td>\n",
       "      <td>neuroticism</td>\n",
       "      <td>train</td>\n",
       "      <td>neuroticism</td>\n",
       "      <td>anxiety</td>\n",
       "    </tr>\n",
       "    <tr>\n",
       "      <th>1</th>\n",
       "      <td>IPIP</td>\n",
       "      <td>ialwaysknowwhatiamdoing</td>\n",
       "      <td>Q1026</td>\n",
       "      <td>BFAS</td>\n",
       "      <td>Always know what I am doing</td>\n",
       "      <td>I always know what I am doing.</td>\n",
       "      <td>1</td>\n",
       "      <td>1</td>\n",
       "      <td>1</td>\n",
       "      <td>hard</td>\n",
       "      <td>conscientiousness</td>\n",
       "      <td>train</td>\n",
       "      <td>conscientiousness</td>\n",
       "      <td>industriousness/perseverance/persistence</td>\n",
       "    </tr>\n",
       "  </tbody>\n",
       "</table>\n",
       "</div>"
      ],
      "text/plain": [
       "  source_id                     guid doc_id scale  \\\n",
       "0      IPIP     irarelyfeeldepressed  Q1001  BFAS   \n",
       "1      IPIP  ialwaysknowwhatiamdoing  Q1026  BFAS   \n",
       "\n",
       "                      raw_text                            text  lexical  \\\n",
       "0        Rarely feel depressed        I rarely feel depressed.        1   \n",
       "1  Always know what I am doing  I always know what I am doing.        1   \n",
       "\n",
       "   structural  other label_type              label    set  \\\n",
       "0           1      1       hard        neuroticism  train   \n",
       "1           1      1       hard  conscientiousness  train   \n",
       "\n",
       "  label_mapped_to_big5                                     facet  \n",
       "0          neuroticism                                   anxiety  \n",
       "1    conscientiousness  industriousness/perseverance/persistence  "
      ]
     },
     "execution_count": 3,
     "metadata": {},
     "output_type": "execute_result"
    }
   ],
   "source": [
    "data.head(n=2)"
   ]
  },
  {
   "cell_type": "code",
   "execution_count": 4,
   "metadata": {},
   "outputs": [
    {
     "name": "stdout",
     "output_type": "stream",
     "text": [
      "<class 'pandas.core.frame.DataFrame'>\n",
      "RangeIndex: 733 entries, 0 to 732\n",
      "Data columns (total 14 columns):\n",
      " #   Column                Non-Null Count  Dtype \n",
      "---  ------                --------------  ----- \n",
      " 0   source_id             733 non-null    object\n",
      " 1   guid                  733 non-null    object\n",
      " 2   doc_id                733 non-null    object\n",
      " 3   scale                 733 non-null    object\n",
      " 4   raw_text              733 non-null    object\n",
      " 5   text                  733 non-null    object\n",
      " 6   lexical               733 non-null    int64 \n",
      " 7   structural            733 non-null    int64 \n",
      " 8   other                 733 non-null    int64 \n",
      " 9   label_type            733 non-null    object\n",
      " 10  label                 733 non-null    object\n",
      " 11  set                   733 non-null    object\n",
      " 12  label_mapped_to_big5  733 non-null    object\n",
      " 13  facet                 733 non-null    object\n",
      "dtypes: int64(3), object(11)\n",
      "memory usage: 80.3+ KB\n"
     ]
    }
   ],
   "source": [
    "data.info()"
   ]
  },
  {
   "cell_type": "code",
   "execution_count": 5,
   "metadata": {},
   "outputs": [
    {
     "data": {
      "text/plain": [
       "label\n",
       "extraversion         158\n",
       "conscientiousness    153\n",
       "agreeableness        152\n",
       "openness             140\n",
       "neuroticism          130\n",
       "Name: count, dtype: int64"
      ]
     },
     "execution_count": 5,
     "metadata": {},
     "output_type": "execute_result"
    }
   ],
   "source": [
    "data.label.value_counts()"
   ]
  },
  {
   "cell_type": "code",
   "execution_count": 6,
   "metadata": {},
   "outputs": [],
   "source": [
    "cleaned_data = data.dropna()"
   ]
  },
  {
   "cell_type": "code",
   "execution_count": 7,
   "metadata": {},
   "outputs": [
    {
     "name": "stdout",
     "output_type": "stream",
     "text": [
      "<class 'pandas.core.frame.DataFrame'>\n",
      "RangeIndex: 733 entries, 0 to 732\n",
      "Data columns (total 14 columns):\n",
      " #   Column                Non-Null Count  Dtype \n",
      "---  ------                --------------  ----- \n",
      " 0   source_id             733 non-null    object\n",
      " 1   guid                  733 non-null    object\n",
      " 2   doc_id                733 non-null    object\n",
      " 3   scale                 733 non-null    object\n",
      " 4   raw_text              733 non-null    object\n",
      " 5   text                  733 non-null    object\n",
      " 6   lexical               733 non-null    int64 \n",
      " 7   structural            733 non-null    int64 \n",
      " 8   other                 733 non-null    int64 \n",
      " 9   label_type            733 non-null    object\n",
      " 10  label                 733 non-null    object\n",
      " 11  set                   733 non-null    object\n",
      " 12  label_mapped_to_big5  733 non-null    object\n",
      " 13  facet                 733 non-null    object\n",
      "dtypes: int64(3), object(11)\n",
      "memory usage: 80.3+ KB\n"
     ]
    }
   ],
   "source": [
    "cleaned_data.info()"
   ]
  },
  {
   "cell_type": "code",
   "execution_count": 8,
   "metadata": {},
   "outputs": [],
   "source": [
    "# extract text and labels from the data\n",
    "cleaned_data= cleaned_data[['text','label']]"
   ]
  },
  {
   "cell_type": "code",
   "execution_count": 9,
   "metadata": {},
   "outputs": [
    {
     "data": {
      "text/html": [
       "<div>\n",
       "<style scoped>\n",
       "    .dataframe tbody tr th:only-of-type {\n",
       "        vertical-align: middle;\n",
       "    }\n",
       "\n",
       "    .dataframe tbody tr th {\n",
       "        vertical-align: top;\n",
       "    }\n",
       "\n",
       "    .dataframe thead th {\n",
       "        text-align: right;\n",
       "    }\n",
       "</style>\n",
       "<table border=\"1\" class=\"dataframe\">\n",
       "  <thead>\n",
       "    <tr style=\"text-align: right;\">\n",
       "      <th></th>\n",
       "      <th>text</th>\n",
       "      <th>label</th>\n",
       "    </tr>\n",
       "  </thead>\n",
       "  <tbody>\n",
       "    <tr>\n",
       "      <th>0</th>\n",
       "      <td>I rarely feel depressed.</td>\n",
       "      <td>neuroticism</td>\n",
       "    </tr>\n",
       "    <tr>\n",
       "      <th>1</th>\n",
       "      <td>I always know what I am doing.</td>\n",
       "      <td>conscientiousness</td>\n",
       "    </tr>\n",
       "  </tbody>\n",
       "</table>\n",
       "</div>"
      ],
      "text/plain": [
       "                             text              label\n",
       "0        I rarely feel depressed.        neuroticism\n",
       "1  I always know what I am doing.  conscientiousness"
      ]
     },
     "execution_count": 9,
     "metadata": {},
     "output_type": "execute_result"
    }
   ],
   "source": [
    "cleaned_data.head(n=2)"
   ]
  },
  {
   "cell_type": "code",
   "execution_count": 10,
   "metadata": {},
   "outputs": [],
   "source": [
    "# add a new column to the dataframe to encode the labels\n",
    "cleaned_data['label_id'] = cleaned_data['label'].factorize()[0]"
   ]
  },
  {
   "cell_type": "code",
   "execution_count": 11,
   "metadata": {},
   "outputs": [
    {
     "data": {
      "text/html": [
       "<div>\n",
       "<style scoped>\n",
       "    .dataframe tbody tr th:only-of-type {\n",
       "        vertical-align: middle;\n",
       "    }\n",
       "\n",
       "    .dataframe tbody tr th {\n",
       "        vertical-align: top;\n",
       "    }\n",
       "\n",
       "    .dataframe thead th {\n",
       "        text-align: right;\n",
       "    }\n",
       "</style>\n",
       "<table border=\"1\" class=\"dataframe\">\n",
       "  <thead>\n",
       "    <tr style=\"text-align: right;\">\n",
       "      <th></th>\n",
       "      <th>text</th>\n",
       "      <th>label</th>\n",
       "      <th>label_id</th>\n",
       "    </tr>\n",
       "  </thead>\n",
       "  <tbody>\n",
       "    <tr>\n",
       "      <th>0</th>\n",
       "      <td>I rarely feel depressed.</td>\n",
       "      <td>neuroticism</td>\n",
       "      <td>0</td>\n",
       "    </tr>\n",
       "    <tr>\n",
       "      <th>1</th>\n",
       "      <td>I always know what I am doing.</td>\n",
       "      <td>conscientiousness</td>\n",
       "      <td>1</td>\n",
       "    </tr>\n",
       "    <tr>\n",
       "      <th>2</th>\n",
       "      <td>I do not put my mind on the task at hand.</td>\n",
       "      <td>conscientiousness</td>\n",
       "      <td>1</td>\n",
       "    </tr>\n",
       "    <tr>\n",
       "      <th>3</th>\n",
       "      <td>I keep things tidy.</td>\n",
       "      <td>conscientiousness</td>\n",
       "      <td>1</td>\n",
       "    </tr>\n",
       "    <tr>\n",
       "      <th>4</th>\n",
       "      <td>I laugh a lot.</td>\n",
       "      <td>extraversion</td>\n",
       "      <td>2</td>\n",
       "    </tr>\n",
       "    <tr>\n",
       "      <th>5</th>\n",
       "      <td>I rarely get caught up in the excitement.</td>\n",
       "      <td>extraversion</td>\n",
       "      <td>2</td>\n",
       "    </tr>\n",
       "    <tr>\n",
       "      <th>6</th>\n",
       "      <td>I am not a very enthusiastic person.</td>\n",
       "      <td>extraversion</td>\n",
       "      <td>2</td>\n",
       "    </tr>\n",
       "    <tr>\n",
       "      <th>7</th>\n",
       "      <td>I see myself as a good leader.</td>\n",
       "      <td>extraversion</td>\n",
       "      <td>2</td>\n",
       "    </tr>\n",
       "    <tr>\n",
       "      <th>8</th>\n",
       "      <td>I can talk others into doing things.</td>\n",
       "      <td>extraversion</td>\n",
       "      <td>2</td>\n",
       "    </tr>\n",
       "    <tr>\n",
       "      <th>9</th>\n",
       "      <td>I do not have an assertive personality.</td>\n",
       "      <td>extraversion</td>\n",
       "      <td>2</td>\n",
       "    </tr>\n",
       "  </tbody>\n",
       "</table>\n",
       "</div>"
      ],
      "text/plain": [
       "                                        text              label  label_id\n",
       "0                   I rarely feel depressed.        neuroticism         0\n",
       "1             I always know what I am doing.  conscientiousness         1\n",
       "2  I do not put my mind on the task at hand.  conscientiousness         1\n",
       "3                        I keep things tidy.  conscientiousness         1\n",
       "4                             I laugh a lot.       extraversion         2\n",
       "5  I rarely get caught up in the excitement.       extraversion         2\n",
       "6       I am not a very enthusiastic person.       extraversion         2\n",
       "7             I see myself as a good leader.       extraversion         2\n",
       "8       I can talk others into doing things.       extraversion         2\n",
       "9    I do not have an assertive personality.       extraversion         2"
      ]
     },
     "execution_count": 11,
     "metadata": {},
     "output_type": "execute_result"
    }
   ],
   "source": [
    "cleaned_data.head(n=10)"
   ]
  },
  {
   "cell_type": "code",
   "execution_count": 12,
   "metadata": {},
   "outputs": [],
   "source": [
    "# add a new column to the dataframe to mention enterpreneur or not randomly\n",
    "cleaned_data['enterpreneur'] = np.random.randint(2, size=cleaned_data.shape[0])"
   ]
  },
  {
   "cell_type": "code",
   "execution_count": 13,
   "metadata": {},
   "outputs": [
    {
     "data": {
      "text/html": [
       "<div>\n",
       "<style scoped>\n",
       "    .dataframe tbody tr th:only-of-type {\n",
       "        vertical-align: middle;\n",
       "    }\n",
       "\n",
       "    .dataframe tbody tr th {\n",
       "        vertical-align: top;\n",
       "    }\n",
       "\n",
       "    .dataframe thead th {\n",
       "        text-align: right;\n",
       "    }\n",
       "</style>\n",
       "<table border=\"1\" class=\"dataframe\">\n",
       "  <thead>\n",
       "    <tr style=\"text-align: right;\">\n",
       "      <th></th>\n",
       "      <th>text</th>\n",
       "      <th>label</th>\n",
       "      <th>label_id</th>\n",
       "      <th>enterpreneur</th>\n",
       "    </tr>\n",
       "  </thead>\n",
       "  <tbody>\n",
       "    <tr>\n",
       "      <th>0</th>\n",
       "      <td>I rarely feel depressed.</td>\n",
       "      <td>neuroticism</td>\n",
       "      <td>0</td>\n",
       "      <td>1</td>\n",
       "    </tr>\n",
       "    <tr>\n",
       "      <th>1</th>\n",
       "      <td>I always know what I am doing.</td>\n",
       "      <td>conscientiousness</td>\n",
       "      <td>1</td>\n",
       "      <td>1</td>\n",
       "    </tr>\n",
       "    <tr>\n",
       "      <th>2</th>\n",
       "      <td>I do not put my mind on the task at hand.</td>\n",
       "      <td>conscientiousness</td>\n",
       "      <td>1</td>\n",
       "      <td>1</td>\n",
       "    </tr>\n",
       "    <tr>\n",
       "      <th>3</th>\n",
       "      <td>I keep things tidy.</td>\n",
       "      <td>conscientiousness</td>\n",
       "      <td>1</td>\n",
       "      <td>1</td>\n",
       "    </tr>\n",
       "    <tr>\n",
       "      <th>4</th>\n",
       "      <td>I laugh a lot.</td>\n",
       "      <td>extraversion</td>\n",
       "      <td>2</td>\n",
       "      <td>1</td>\n",
       "    </tr>\n",
       "    <tr>\n",
       "      <th>5</th>\n",
       "      <td>I rarely get caught up in the excitement.</td>\n",
       "      <td>extraversion</td>\n",
       "      <td>2</td>\n",
       "      <td>1</td>\n",
       "    </tr>\n",
       "    <tr>\n",
       "      <th>6</th>\n",
       "      <td>I am not a very enthusiastic person.</td>\n",
       "      <td>extraversion</td>\n",
       "      <td>2</td>\n",
       "      <td>1</td>\n",
       "    </tr>\n",
       "    <tr>\n",
       "      <th>7</th>\n",
       "      <td>I see myself as a good leader.</td>\n",
       "      <td>extraversion</td>\n",
       "      <td>2</td>\n",
       "      <td>1</td>\n",
       "    </tr>\n",
       "    <tr>\n",
       "      <th>8</th>\n",
       "      <td>I can talk others into doing things.</td>\n",
       "      <td>extraversion</td>\n",
       "      <td>2</td>\n",
       "      <td>0</td>\n",
       "    </tr>\n",
       "    <tr>\n",
       "      <th>9</th>\n",
       "      <td>I do not have an assertive personality.</td>\n",
       "      <td>extraversion</td>\n",
       "      <td>2</td>\n",
       "      <td>1</td>\n",
       "    </tr>\n",
       "  </tbody>\n",
       "</table>\n",
       "</div>"
      ],
      "text/plain": [
       "                                        text              label  label_id  \\\n",
       "0                   I rarely feel depressed.        neuroticism         0   \n",
       "1             I always know what I am doing.  conscientiousness         1   \n",
       "2  I do not put my mind on the task at hand.  conscientiousness         1   \n",
       "3                        I keep things tidy.  conscientiousness         1   \n",
       "4                             I laugh a lot.       extraversion         2   \n",
       "5  I rarely get caught up in the excitement.       extraversion         2   \n",
       "6       I am not a very enthusiastic person.       extraversion         2   \n",
       "7             I see myself as a good leader.       extraversion         2   \n",
       "8       I can talk others into doing things.       extraversion         2   \n",
       "9    I do not have an assertive personality.       extraversion         2   \n",
       "\n",
       "   enterpreneur  \n",
       "0             1  \n",
       "1             1  \n",
       "2             1  \n",
       "3             1  \n",
       "4             1  \n",
       "5             1  \n",
       "6             1  \n",
       "7             1  \n",
       "8             0  \n",
       "9             1  "
      ]
     },
     "execution_count": 13,
     "metadata": {},
     "output_type": "execute_result"
    }
   ],
   "source": [
    "cleaned_data.head(n=10)"
   ]
  },
  {
   "cell_type": "code",
   "execution_count": 14,
   "metadata": {},
   "outputs": [],
   "source": [
    "# rename the enterpreneur column to be target\n",
    "cleaned_data.rename(columns={'enterpreneur':'target'}, inplace=True)"
   ]
  },
  {
   "cell_type": "code",
   "execution_count": 15,
   "metadata": {},
   "outputs": [
    {
     "data": {
      "text/html": [
       "<div>\n",
       "<style scoped>\n",
       "    .dataframe tbody tr th:only-of-type {\n",
       "        vertical-align: middle;\n",
       "    }\n",
       "\n",
       "    .dataframe tbody tr th {\n",
       "        vertical-align: top;\n",
       "    }\n",
       "\n",
       "    .dataframe thead th {\n",
       "        text-align: right;\n",
       "    }\n",
       "</style>\n",
       "<table border=\"1\" class=\"dataframe\">\n",
       "  <thead>\n",
       "    <tr style=\"text-align: right;\">\n",
       "      <th></th>\n",
       "      <th>text</th>\n",
       "      <th>label</th>\n",
       "      <th>label_id</th>\n",
       "      <th>target</th>\n",
       "    </tr>\n",
       "  </thead>\n",
       "  <tbody>\n",
       "    <tr>\n",
       "      <th>0</th>\n",
       "      <td>I rarely feel depressed.</td>\n",
       "      <td>neuroticism</td>\n",
       "      <td>0</td>\n",
       "      <td>1</td>\n",
       "    </tr>\n",
       "    <tr>\n",
       "      <th>1</th>\n",
       "      <td>I always know what I am doing.</td>\n",
       "      <td>conscientiousness</td>\n",
       "      <td>1</td>\n",
       "      <td>1</td>\n",
       "    </tr>\n",
       "  </tbody>\n",
       "</table>\n",
       "</div>"
      ],
      "text/plain": [
       "                             text              label  label_id  target\n",
       "0        I rarely feel depressed.        neuroticism         0       1\n",
       "1  I always know what I am doing.  conscientiousness         1       1"
      ]
     },
     "execution_count": 15,
     "metadata": {},
     "output_type": "execute_result"
    }
   ],
   "source": [
    "cleaned_data.head(n=2)"
   ]
  },
  {
   "cell_type": "code",
   "execution_count": 16,
   "metadata": {},
   "outputs": [],
   "source": [
    "# save the cleaned data to a new csv file\n",
    "cleaned_data.to_csv('cleaned-dummy-data.csv', index=False)"
   ]
  },
  {
   "cell_type": "code",
   "execution_count": 17,
   "metadata": {},
   "outputs": [
    {
     "data": {
      "text/html": [
       "<div>\n",
       "<style scoped>\n",
       "    .dataframe tbody tr th:only-of-type {\n",
       "        vertical-align: middle;\n",
       "    }\n",
       "\n",
       "    .dataframe tbody tr th {\n",
       "        vertical-align: top;\n",
       "    }\n",
       "\n",
       "    .dataframe thead th {\n",
       "        text-align: right;\n",
       "    }\n",
       "</style>\n",
       "<table border=\"1\" class=\"dataframe\">\n",
       "  <thead>\n",
       "    <tr style=\"text-align: right;\">\n",
       "      <th></th>\n",
       "      <th>text</th>\n",
       "      <th>label</th>\n",
       "      <th>label_id</th>\n",
       "      <th>target</th>\n",
       "    </tr>\n",
       "  </thead>\n",
       "  <tbody>\n",
       "    <tr>\n",
       "      <th>0</th>\n",
       "      <td>I rarely feel depressed.</td>\n",
       "      <td>neuroticism</td>\n",
       "      <td>0</td>\n",
       "      <td>1</td>\n",
       "    </tr>\n",
       "    <tr>\n",
       "      <th>1</th>\n",
       "      <td>I always know what I am doing.</td>\n",
       "      <td>conscientiousness</td>\n",
       "      <td>1</td>\n",
       "      <td>1</td>\n",
       "    </tr>\n",
       "  </tbody>\n",
       "</table>\n",
       "</div>"
      ],
      "text/plain": [
       "                             text              label  label_id  target\n",
       "0        I rarely feel depressed.        neuroticism         0       1\n",
       "1  I always know what I am doing.  conscientiousness         1       1"
      ]
     },
     "execution_count": 17,
     "metadata": {},
     "output_type": "execute_result"
    }
   ],
   "source": [
    "cleaned_data.head(n=2)"
   ]
  },
  {
   "cell_type": "code",
   "execution_count": null,
   "metadata": {},
   "outputs": [],
   "source": []
  }
 ],
 "metadata": {
  "kernelspec": {
   "display_name": ".venv",
   "language": "python",
   "name": "python3"
  },
  "language_info": {
   "codemirror_mode": {
    "name": "ipython",
    "version": 3
   },
   "file_extension": ".py",
   "mimetype": "text/x-python",
   "name": "python",
   "nbconvert_exporter": "python",
   "pygments_lexer": "ipython3",
   "version": "3.11.4"
  }
 },
 "nbformat": 4,
 "nbformat_minor": 2
}
