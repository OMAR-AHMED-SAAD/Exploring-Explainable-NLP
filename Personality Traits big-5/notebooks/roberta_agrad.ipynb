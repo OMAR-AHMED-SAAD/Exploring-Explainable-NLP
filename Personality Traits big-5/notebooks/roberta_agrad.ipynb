{
 "cells": [
  {
   "cell_type": "code",
   "execution_count": 1,
   "metadata": {},
   "outputs": [
    {
     "name": "stdout",
     "output_type": "stream",
     "text": [
      "Sat Mar 30 15:30:02 2024       \n",
      "+-----------------------------------------------------------------------------+\n",
      "| NVIDIA-SMI 525.116.04   Driver Version: 525.116.04   CUDA Version: 12.0     |\n",
      "|-------------------------------+----------------------+----------------------+\n",
      "| GPU  Name        Persistence-M| Bus-Id        Disp.A | Volatile Uncorr. ECC |\n",
      "| Fan  Temp  Perf  Pwr:Usage/Cap|         Memory-Usage | GPU-Util  Compute M. |\n",
      "|                               |                      |               MIG M. |\n",
      "|===============================+======================+======================|\n",
      "|   0  NVIDIA RTX A4000    Off  | 00000000:00:05.0 Off |                  Off |\n",
      "| 41%   41C    P8    15W / 140W |      1MiB / 16376MiB |      0%      Default |\n",
      "|                               |                      |                  N/A |\n",
      "+-------------------------------+----------------------+----------------------+\n",
      "                                                                               \n",
      "+-----------------------------------------------------------------------------+\n",
      "| Processes:                                                                  |\n",
      "|  GPU   GI   CI        PID   Type   Process name                  GPU Memory |\n",
      "|        ID   ID                                                   Usage      |\n",
      "|=============================================================================|\n",
      "|  No running processes found                                                 |\n",
      "+-----------------------------------------------------------------------------+\n"
     ]
    }
   ],
   "source": [
    "!nvidia-smi"
   ]
  },
  {
   "cell_type": "markdown",
   "metadata": {},
   "source": [
    "## Roberta Base Model"
   ]
  },
  {
   "cell_type": "code",
   "execution_count": 2,
   "metadata": {},
   "outputs": [],
   "source": [
    "import os\n",
    "import pandas as pd\n",
    "import numpy as np\n",
    "\n",
    "import torch\n",
    "import torch.nn as nn\n",
    "import torch.optim as optim\n",
    "from torch.utils.data import Dataset, DataLoader, random_split\n",
    "\n",
    "from transformers import AutoTokenizer, AutoModel\n",
    "from transformers import Trainer, TrainingArguments\n",
    "\n",
    "\n",
    "from tqdm import tqdm\n"
   ]
  },
  {
   "cell_type": "markdown",
   "metadata": {},
   "source": [
    "## Notebook Variables"
   ]
  },
  {
   "cell_type": "code",
   "execution_count": 3,
   "metadata": {},
   "outputs": [],
   "source": [
    "# setting the model name\n",
    "PRE_TRAINED_MODEL_NAME = 'roberta-base'\n",
    "\n",
    "# setting the dataset\n",
    "dataset='essays_cleaned.csv'\n",
    "\n",
    "# setting the data path\n",
    "if os.path.exists(f'/datasets/essays/{dataset}'):\n",
    "    DATAPATH=f'/datasets/essays/{dataset}'\n",
    "else:\n",
    "    DATAPATH=f'../data/{dataset}'\n",
    "\n",
    "# setting the checkpoint path \n",
    "if os.path.exists('ckpts'):\n",
    "    CHECKPOINTPATH = 'ckpts/Persnality_trait4'\n",
    "else:\n",
    "    CHECKPOINTPATH = '../checkpoints/Persnality_traits4'\n",
    "\n",
    "# training parameters\n",
    "MAX_LEN = 512\n",
    "TRAIN_BATCH_SIZE = 18\n",
    "VALID_BATCH_SIZE = 16\n",
    "TEST_BATCH_SIZE = 16\n",
    "EPOCHS = 40\n",
    "THRESHOLD = 0.5 # threshold for the sigmoid function\n",
    "\n",
    "# TOKENIZER\n",
    "tokenizer = AutoTokenizer.from_pretrained(PRE_TRAINED_MODEL_NAME)\n",
    "\n",
    "# setting the device\n",
    "device = torch.device(\"cuda\" if torch.cuda.is_available() else \"cpu\")\n",
    "\n",
    "# setting the random seed\n",
    "torch.manual_seed(17)\n",
    "torch.cuda.manual_seed(17)\n",
    "torch.cuda.manual_seed_all(17)\n",
    "np.random.seed(17)"
   ]
  },
  {
   "cell_type": "code",
   "execution_count": 4,
   "metadata": {},
   "outputs": [
    {
     "data": {
      "text/plain": [
       "('/datasets/essays/essays_cleaned.csv', 'ckpts/Persnality_trait4')"
      ]
     },
     "execution_count": 4,
     "metadata": {},
     "output_type": "execute_result"
    }
   ],
   "source": [
    "DATAPATH,CHECKPOINTPATH"
   ]
  },
  {
   "cell_type": "markdown",
   "metadata": {},
   "source": [
    "### Loading dataset"
   ]
  },
  {
   "cell_type": "code",
   "execution_count": 5,
   "metadata": {},
   "outputs": [],
   "source": [
    "# loading the data\n",
    "df = pd.read_csv(DATAPATH,encoding=\"utf-8\")"
   ]
  },
  {
   "cell_type": "code",
   "execution_count": 6,
   "metadata": {},
   "outputs": [],
   "source": [
    "# create a dataset class\n",
    "class EssayDataset(Dataset):\n",
    "    def __init__(self, df,target_list, max_len=MAX_LEN,tokenizer=tokenizer,):\n",
    "        self.df = df\n",
    "        self.max_len = max_len\n",
    "        self.text = list(df['TEXT'])\n",
    "        self.tokenizer = tokenizer\n",
    "        self.targets = self.df[target_list].values\n",
    "    def __len__(self):\n",
    "        return len(self.df)\n",
    "\n",
    "    def __getitem__(self, idx):\n",
    "        text = self.text[idx]\n",
    "        # textRight=text\n",
    "        # if(len(text)>self.max_len):\n",
    "        #     textRight=textRight[:self.max_len]\n",
    "        inputs1 = self.tokenizer.encode_plus(\n",
    "            text,\n",
    "            max_length=self.max_len,\n",
    "            padding='max_length',\n",
    "            truncation=True,\n",
    "            return_attention_mask=True,\n",
    "            return_token_type_ids=True,\n",
    "            return_tensors='pt'\n",
    "          \n",
    "        )\n",
    "    \n",
    "        return {\n",
    "            'text': text,\n",
    "            'input_ids_roberta': inputs1['input_ids'].flatten(),\n",
    "            'attention_mask_roberta': inputs1['attention_mask'].flatten(),\n",
    "            'token_type_ids_roberta': inputs1['token_type_ids'].flatten(),\n",
    "            'targets': torch.FloatTensor(self.targets[idx])\n",
    "        }"
   ]
  },
  {
   "cell_type": "code",
   "execution_count": 7,
   "metadata": {},
   "outputs": [
    {
     "name": "stdout",
     "output_type": "stream",
     "text": [
      "Target list: ['cEXT', 'cNEU', 'cAGR', 'cCON', 'cOPN']\n"
     ]
    }
   ],
   "source": [
    "# get the targets list\n",
    "target_list = list(df.columns[1:])\n",
    "print(f'Target list: {target_list}')\n",
    "# create the datasets\n",
    "dataset= EssayDataset(df,target_list)\n",
    "\n",
    "# split data\n",
    "train_size = int(0.7 * len(df))\n",
    "test_size = int(0.15 * len(df))\n",
    "val_size = len(df) - train_size - test_size\n",
    "\n",
    "train_dataset, test_dataset, val_dataset = random_split(dataset, [train_size, test_size, val_size])\n",
    "\n",
    "# create the dataloaders\n",
    "train_data_loader = DataLoader(train_dataset, batch_size=TRAIN_BATCH_SIZE, shuffle=True)\n",
    "test_data_loader = DataLoader(test_dataset, batch_size=TEST_BATCH_SIZE, shuffle=True)\n",
    "val_data_loader = DataLoader(val_dataset, batch_size=VALID_BATCH_SIZE, shuffle=True)\n"
   ]
  },
  {
   "cell_type": "code",
   "execution_count": 8,
   "metadata": {},
   "outputs": [
    {
     "name": "stdout",
     "output_type": "stream",
     "text": [
      "Input ids shape: torch.Size([18, 512]) Attention mask shape: torch.Size([18, 512]) Token type ids shape: torch.Size([18, 512]) Targets shape: torch.Size([18, 5])\n"
     ]
    },
    {
     "data": {
      "text/plain": [
       "{'text': ['College is so cool I really cannot remember the last time I felt so many emotions at the same time I Have already met so many incredible and different people I cannot even begin to describe all of them I am definately having mixed thoughts about having a boyfriend at this moment because of all the new people I have met and would definately like to meet get to know and date My boyfriend is totally mad because he is so jealous I hate jealous people I wish everyone would just I do not know go along with it I ate the grosests food in jester cafeteria today and had the weirdest conversation with two very interesting and cool guys that I have already met from camptexas That was like almost the most fun I Have had in a really long time I Am so glad I decided to go and was not to scared I was so scared about coming to UT  because it is so big and I just did not know if I could adjust after going to such a small catholic school I Am so glad to be away from old people and meeting knew ones High school was such an almost horrible experience I hope college is so much better So I Am in this room with these two guys one who I met at camptexas and he looks exactly like the guy from rookie of the year he does not know it but I have this incredible horrible obssesion with him He is just the hottest guy I have ever seen So I met this really cool guy from tarytown in New York which is like the place I Have been obssessed with since forever He is a guy I would really like to hang out with This other guy who is rookie of the years roomate is totally obssessed with Britany Spears I really cannot stand her but I think it is just because I am so jealous that he likes her more than me And Drew has almost naked women pictures all over his wall that makes me very jealous and I was just thinking about jealous people The music is blasting in my ear I do not know who it is Drew complains a lot about college ruled spirals and needing more space I really hate that my roomate and myself do not have much in common Everyone else seems to be like best friends with their roomates I need a really good girl friend to hang out with Or maybe I Am just ment to have guy friends I guess it would be okay with me I get along with  them better I think classes are going to be really fun and not too hard Which is really a relief because I though it would be really hard I Have seen so many interesting people I miss my parents like crazy and my dogs and sisters I would never trade this experience for going to UTEP that would really suck I really miss my friend Bianca and Anne I think for labor day we are going to San Antonio if Anne and Lianna and Vero come up I was thinking about Noodles the other day I wonder how she is This is got to be one of the funnest assigments I have ever done I really think I might double major whith something in Psychology because the human mind is an incredible thing Well my 20 minutes seem to be up that kind of sucks I guess I could really write forever I need to go write my parents and some friends emails and then read a little for Biology and probably go to sleep I Am really tired ',\n",
       "  'I do not feel well at all I wonder if it was the tequila from last night or worrying about a girl Sometimes I do not know why I am still with her Can you still have feelings for someone that you find annoying Why am I doing this Writing Assignment now my stomach and head are killing me I should have tried to pawn it off on one of my roommates for ten dollars or something because who wants to right about what they think I Am more interested in what other people think about I mean I alrdy know what I think about its boring to me what about the people I do not know what do they think about that is what I want to know I know that girl down there is thinking about something some psycologist needs to figure out how to read girls that is what they should be working on why learn about depression figure out what girls think about Honestly I do not think a single man can tell me what a girl is thinking at any given time half the time they hate you other half they love you and it can switch just as fast What Is the deal with that  I am still feeling bad my stomach will not stop hurting I think I need to get something to eat I need to get feeling better because I already have plans for tonight and it sucks going out when you do not feel well When I go out and I do not feel well I get extremely annoyed with everyone that I am with Its probably because they are having more fun then I am I have noticed that school is obsessed with talking about politics in every class I go to we talk about Bush and Kerry YES 3 more minutes to go on the assignment but too much politics in my opinion half the time it has no correlation with the subject at hand In my Spanish class we had a 30 minute discussion about economic poilices how does that help me with Hola Como estas This assignment is not bad its like the people that have journals who put there mind on paper      ',\n",
       "  'Ever since I came to Austin about three weeks ago the way I think has been sort of different than it used to be when I lived in Houston I feel more free and independent physically and emotionally Now that I am no longer in high school I feel that I can be my own person and that no one is judging me The only time I feel like I have to put on a fake persona is when I am around some of the sorority girls in my dorm A lot of them seem to be superficial like some of the people I knew in high school Maybe I just care too much about what other people think about me Hopefully being in the UT environment will change the way I feel In fact as I mentioned earlier I feel that my mind is freer That makes me really happy My roommate just walked into the room and I am really glad she is my roommate She is probably not someone I would have hung out with in high school but since I Have been hanging out with her for the past few weeks it makes me wonder what I maybe missed out on as far as friends are concerened in high school For example she is a liberal and I am a conservative which has begun to make me more openminded in some of my views I Have also realized how much my parents have been an influence in my life It feels so strange to not see them everyday like I was used to I think it is good for me though because separating from them is helping me mature and grow emotionally Overall I love college life so far because I am discovering myself and learning about different values that I am glad I am becoming familiar with I am really glad that I am a motivated person who wants to learn and wants to be challenged It gives me a sense of reward when I accomplish something I have been working hard on My favorite subject to study is Calculus because it makes me feel content when I complete a homework assignment and I understood what I did Especially when I learn and apply a new concept Even if I did not understand everything I learned I go to prof or TA and ask them how to do it Then I understand the concept and I am satisfied with myself I do not like English because sometimes I never feel good about what I wrote leaving me with an unsatisfied feeling I guess I Am just one of those people that feels complete when I conquer a task But maybe that is how everybody is Sometimes I base my selfworth on if I did a good job on something or not Its selfdestructing at times because I am a perfectionist and I tend to have expectations too high for myself ',\n",
       "  'stream of consciousness we studied about that in junior english what am I thinking mowed the lawn hot sun sweating boyfriend says I do not have enough time for him parents say I spend too much time with him and goofing off  i have not had time to do anything but work and go to school i have to work today at 230 till close this is fun I like this assignment parents are eating lunch they are always on my back about something or another it seems they make me so mad  I cannot wait to get out of here and get my own place and have my own rules clean house when I want to and not when they tell me to i love them but I need freedom why will not they move my curfew up why do I even have a curfew I am 18 years old and I should be able to stay out later than 1230 i love billy so much it tears me up that we fight so much walking on campus gees yesterday was a bad day every thing went wrong i have to host three parties today at work i wonder what packages they are billy has my license I need to get it back today i wonder where they came up with that name I wish I could be a famous singer then I would not have to work so hard at getting money and a decent job I hate rita what gives her the right to say that we have sucky cashiers like she is any better herself she cannot keep employees and not many people like her she is so rude i wonder if it is true about her husband that is sad that her stepson thinks she is his real mom I cannot believe they have not told him yet  he is what almost about 11 or so 3mins left i wonder what our next poject in here is it says on the syllabus when I am done I will look i hope it is fun and not borring and hard to understand like my mythology teacher and english assignments time is almost up then I will call billy back and take a shower and go to work    ',\n",
       "  'I kind of do not know what to write I am sitting here next to a guy who knows just everything about computer I feel like I am stupid because my typing speed and I did not even know how to get on UT web page Oh well I will learn how to do that later that is why I am here I really like computer I learned a lot about it in past two months I really hope I still have AOL so I can talk to some of my friends up there I wrote like thousands of emails But my email box was empty I cannot believe it Did all those friends of mine forget about me Oh well they are not really friends I do not even know what they look like I do not really care but I like emails I like getting attentions  I really miss my boyfriend he is in Houston and I am going back tomorrow Coming to college can be so much trouble I hate facing problems on my own I need someone like watch my back or something I need my boyfriends support He can be so sweet sometime he makes me forget all the problems I always call him when I am in stress taking to him makes me feel comfortable Man my phone bill is going to scare me but I cannot help to call him he means a lot to me he is black My parents do not really know about him I wonder what will happen if I tell them Like all other Chinese parents they probably kill me or something I wish my parents understand but I do not expect too much I know how it is like they do not really know much about other race They did not even like my exboyfriend because he is half Vietnamese half white I been typing for a long time but there is like so little on the screen oh well I am going to type a little longer I wonder how does the instructor know how long did I write is there is clock in this program or something it like counts the how long I been writing I am like so surprised myself I am writing a home work on the day I got it and the due day is like a month away or something I need to study more in college I wonder if I can I am afraid to promise myself because I might not do it oh well  let us see how things go My life is so hard I wish I can write like everyone else I wish English was my first language no I do not I am happy I can speak two language but it was so painful when I did not know how to speak English it will always be a scar for me mentally I mean I always talk about how hard it was I do not know if people like to hear it Man this page is wide Is there a way I can make it narrow I been writing for so long this thing is such a pain but I know it is good for me I can improve my writing or something but it is for psychology class Anyway it is cool ok I been writing for a while I think it is enough I am going to stop okay bye until next time    gone sleeping P ',\n",
       "  'I think that I am just supposed to write whatever flows from my mind for this one so here I go I really like the theory that writing about a problem helps you sort it out It is interesting to me that putting that problem onto paper helps symbolically remove it from the mind Theories like that always seem to capture my imagination I am a huge fan of symbolism I miss my girlfriend a lot I think about her multiple times each day she just pops into my head all the time I wish I could have called her today but I just did not have time I just realized that I called her my girlfriend I guess we are broken up now but more because life drew us apart than any conscious decision I am dying for some reason to call her and tell her that I love her I have not said that in a long time I think it will make her incredibly happy to hear it I hope she has not given up on us although that is extremely unlikely I have not been able to talk with her much lately because she has been grounded but when we spoke the other day she still sounded like she cares We Have been through so much I think she always will care about me It seems almost corny to say We Have been through so much because everyone says that about their sign other But with Christal and I its not like we have just been through a time where we fought with our parents or ended up almost splitting up we have walked as close to Hell as I care to come There are still some things I hate remembering and I block from my mind Every now and then I will remember something which seemed to have vanished from my memory and I am amazed I did not remember such intense emotion before I was reminded I suppose it is repression it is very odd I do not like to think about a lot of the things we went through its just an emotional roller coaster I do not want to ride again I still imagine myself with Christal automatically when I think of the rest of my life and who I will be with I cannot wait until semester when we can spend more time together I just got a flash of memory of what it is like to be a couple who sees each other and spends together a lot I miss her being an active everyday part of my life She is still an everyday part of my life but only in my thoughts Not in physical reality I will definitely call her tomorrow after my dreaded chemistry test I am sure I could be studying so much better right now if I had talked with her today I am scared that when she finds out about Shea it will hurt her incredibly the odd thing is I would do it again But it remains to be seen if I would do it again after we talk I feel so out of touch with her She changed so much in the wake of everything that happened I feel like I need to get to know my best friend again I am sure that her core personality is still the same though I just feel weird because we have both changed and grown so much apart from one another I am scared that we grew into two people who are not supposed to be together ',\n",
       "  'Autumn will be here soon I wake up get myself together look out the window at the morning roar of the bitter city Down Down the elivator once again floor 13 now floor 1 I step ouside and inhale a cold rush of life crystalizing in my lungs This is where I realsize that everyday is but a breath That single inhale was a day was a life Old postcards line my smile I am a story and I tear up when I thumb through my dusty file cabnet of experiences My eyes desperately search for ideas while I know they are all within some governing organ I possess Heart or head it does not matter but I find it odd that my eyes do the searching My little fan is growling at me Its probably upset that I always leave it on Let me turn it off really quick Ok Done I heard a door shut The people in my dorm are an infestation I cannot STAND them I try so hard to see the good within everyone but how can I if they are all the same Everyday I walk around the autumn grasping campus and I look Look at people the sky the earth the buildings but the people I LOOK at the people They make me laugh We are so strange I see people trying to avoid the world as they bounce down the gravel paths with an iPod pumping sound into their skulls People who try to look sexy People who look mad at the world and sneer at you the person mearly trying to understand some fraction on their existance and importance People look at me too What is it that I possess that makes their eyes flick up for even an instance to make contact with mine My heart races when they do that Its kind of a love I love them for that one milisecond I understand them for one lapse of time But did they look at me because I was looking toward them Am I attractive to them Am I mysterious Scary Sexy Sometimes people LOOK at me That Is my job I absolutely hate being in here Trapped between machine and the cement walls around me I cannot stand the fact that our society is ruled by technology and media I do not watch TV I do not keep up with any news I listen to music and read books entertainment is all I need on media terms We should kill our TVs though As one of my favorite bands says I wish the world was flat like the old days I have to say Amen We need to evolve backwards We need to get back to the old way of life religion and appreciate the earth and sky appreciate our unique existence in the universe We need to notice our equality before we notice the differences But I suppose its just wishfull thinking ',\n",
       "  'It seems a bit strange just to be writing to be writing but I am it is probably very interesting to read back over it after you are done writing it I am so used to being in English classes were you have to keep thinking about what you are writing that it seems strange to me right now that I am just writing thoughts as they are coming out of my mind with no real point are concern of where this is going I have done an assignment like this for a writing course before but its purpose was to help us learn to let our thoughts flow more vividly on the paper so I am a bit curious about what this could tell about myself I honestly hate computers and typing so I cannot say I am enjoying myself too much right now The clock seems to always move very slow when you are doing something just to do it for a timed amount of time I suppose I will just keep rambling on though to get to that twenty minutes I really did wait until almost the last possible second to do this today Its around four right now so I will be sending this in just minutes before it is supposed to be turned in This week has really drained me and I am so glad it is friday I can actually get some sleep now and go out and unwind and have some fun I really wanted to cut back on the partying this year but so far I Am not off to a good start at least I Am not going out every night though I have a job now though so I suppose that occupies a good part of my time Its a pain trying to balance that and school but at least this gives me money to go out now and have a good time I Am a little more self dependent then I was last year I Am not having to call home all the time and ask for money I just have a couple more minutes so I am trying to think of something to say right now My mind just feels like mush My whole body needs sleep and rest but I am going to just go out and wear it out anyway I Am young I should have fun while I still can That is exactly what I am going to do now because I have reached my little time limit so I hope you have had a great time reading my ramblings from my little mind ',\n",
       "  'It was the second one for this job at the astronomy lab I would be really excited if I got this job Mostly because the people seem really laid back and fun Also because I want to know about the stars That would be neat to be able to impress people with my boundless knowledge about the boundless sky I think I have a pretty good chance at getting the job I was the very first person to call after she put the advertisement in She told me to come in for an informal interview mostly to show me around the place and introduce me to people By the time I got there 5 other people had called Today she said she had spoke to about 30 people and narrowed it down among me and two other people I think the interview went pretty well I concentrated on sending out a hire me vibe I wonder if being the first caller will increase my chances What a cool job So John has asked me to go see Giant with him tonight I think Ill go I hope he does not fall for me That sounds conceited but almost all of the guys that I want to be just friends with have a nasty habit of falling madly in love with me its really annoying Maybe I should concentrate on being just friends with all the boys and that way the ones that I want to fall madly in love with me will this sounds like the null hypothesis that we learned about in biology the other day Its something like making a hypothesis based on past data its based on the theory that all populations are alike and any abnormalities are due to chance alone So if all the boys that I Am just friends with fall for me all the boys that I continue to be just friends with will fall for me At least in some way I think I Am a likeable person I think people feel relaxed around me People are always telling me things and then saying I cannot believe I just told you that things just tend to slip out So I may go see Giant tonight I think James Dean is in that My sister used to be a huge James Dean fan That Is a main reason why I Am going I love my sister She is so smart and I was thinking last Monday night that she has influenced me in many wonderful ways I was at my friends house last night and Jeremy started playing blackbird on the guitar My sister and I shared a room for a while and she would always play that song as I was falling asleep Not because she wanted to play me a lullaby or anything just because she was trying to teach herself guitar which she did very well by the way The other song she used to always play was um  I forget the name but this guy was playing it on the street today Today it made me smile while the other night Black Bird almost made me cry I was in a sad emotional mood I think I get moody right before and right after my period The other night was right after What was that  song its by pink Floyd Oh well I really want to get my CD player back its up in Denton at my x boyfriends place because I was not going to need it this summer so I let him borrow it Ill see him in a couple of weeks I have mixed feelings about seeing him I Am excited but scarred that I Am really not going to like him anymore I think hes going to move to Austin over Christmas I hope that works out I also hope we can find some happy medium to our relationship He was one of the reasons that I was so down the other night I think I was lonely for a male companion or something And I sort of have this crush on that guy Jeremy His roommates are Jill and Leslie Jeremy and Jill used to date but John Jeremys best friend who I Am going to the movies with tonight says that Jeremy broke up with Jill and that is why john is glad that Jill has found another really nice guy to date But I think that makes Jeremy sort of regret breaking up with her because you can tell by watching them how much they still care for each other Its kind of frustrating since I kind of like Jeremy now This sounds like some sort of soap opera I Have never been into watching those although my sister used to watch Days of our Lives religiously I Am wondering if anyone is really going to read this since there is no wrong or right answer The assignment was to write for at least 20 minutes and that is it So is somebody going to read this or are you just going to check off names to see that it was done I think another reason I want to get this job other than making money well I guess it is making money because there are a lot of things I want to buy Every time I go to the book store I see this little disc man that I really want I do not have a CD player here remember  and I could use it in my car this summer I really want a CD player for my car Well if I get hired today I will go out and reward myself by buying that disc man I went to my friend Jeds ranch this weekend I came up with this awesome idea I want to get a climbing harness and rig up some ropes so I can throw the rope over a tree limb hook it back to me and hitch myself up and sit among the tree branches I think this is an awesome idea so it probably already exists in some form or fashion Basically Ill need all the things they use to rappel down cliffs I Am going to go the gym to check out the equipment and how it works to decide what kind of design Ill need My 20 minutes are up I think I went over but I do not know by how much Would Not it suck if I accidentally hit the clear button instead of the submit button I will have to be very careful I just remembered that the other song my sister used to play was Wish you were here by pink Floyd ',\n",
       "  'Wow I cannot believe I waited this long to write this paper I was in a shock when I found out that this was due tomorrow Deadlines motivate me more than ever I told myself that I was going to do this earlier or on some sleepless night but I guess getting it done is what is most important I just played some Starcraft with my roommate I used to play this game with all my friends from school before War Craft III came out for the computer This game ruined any chances for me to finish my homework Id have to say this game was the devil It made my parents really mad when they would walk into my room and find me playing in the middle of the game I told them I would shut it off after that game but it was too addicting My parents somehow figured out that I started a new game and threatened to throw my computer out This was not a very good feeling Well anyway this girl from high school asked me to go to the homecoming dance with her less than 24 hours ago Somehow all of my friends managed to find out in that amount of time This was extremely strange because I did not tell anybody about this news I tried asking them where they heard this gossip but they refused to answer my questions This aggravated me just a little bit because my curiosity was at its peak A few friends from Houston already know I mean what is the big deal I do not understand why gossip can travel so fast I guess it is because everyone wants to become involved in other peoples lives I think this knowledge makes them feel superior to others I find myself talking on instant messenger and the opening statement would be what is up The basis of a conversation is what is going on with the other persons life This type of conversation does not really achieve much but it makes you feel like you belong Figuring gossip about yourself is a strange thing You never know who is watching and points out the smallest detail to tell another person I figured my actions did not speak THAT loud But any kind of gossip sparks a conversation like no other It immediately captures the center of attention I think people should be more concerned about figuring who they are This is not an easy task Starting college this year has sure caused a lot of changes Changes in friendship responsibility and so on College is a good way of determining who your real friends are These are truly hard to find I knew this girl that had about 3 parties a year There would be over fifty people over at her house and she seemed to be enjoying their company But one time at lunch I saw her sitting by herself and she was by herself for a little while today too Its crazy how things can turn right around like that Well my hall is being pretty loud right now playing music or what not My friendship with existing friends have sure been tested and I think that the conversation we had strengthened our relationship We hardly ever talk about serious matters so this was refreshing to me I hang out with a bunch of guys that are not really open to their feelings We seem like a bunch where we tell each other everything but we know that were just buddies I mean well be there for the other person in a heartbeat but no one really knows what the other is thinking especially about relationships Wed always give one of the guys a hard time because we found out who he liked or what not I always thought that we would support them and tell them to do what he felt But this was never the case Three out of the four guys go to school here in Austin but the fourth person is in San Antonio I can tell he really misses the guys from high school and all of his gaming friends Everyone makes fun of him about his intelligence but I feel obliged to back him up I know its all in fun but after a while I think its just mean I miss the guy too I hope he makes it to Austin next year ',\n",
       "  'Wow my mind goes blank when someone asks me what I Am thinking Its really strange that that guy just stopped by He is really friendly but kind of creepy He just comes in and talks to everybody Its ok I Am the same way Ill sit and talk to anyone Maybe I should close the door so I will not get distracted but then Garrett will not see that I Am here when he gets back Oh well he can knock I Am so tired but I do not think I can sleep tonight Its so loud in our hall at night Ill just have to start taking naps during the day when everyone is in class Yeah right rest  I Am always in class or studying I spend more time studying than I spend in class seems backwards I cannot wait until this weekend Need to ask professor about ahhhh Namos calling Need to go to admissions office and claim CTC credit and change major Need to ask Pennebaker about experiments Hope Namo stops by I Am kind of bored This weekend will be fun I have not seen friends from home in a couple of weeks so it will be good to hang out with them But what about Keith  I do not know how he is going to act now that we broke up Should I tell him about Matt  Who cares  I should call Uncle David about kayaking he really wants to go and it will be a good stress reliever Hope I have time good memory I think Matt would really like it too I do not really want to go home have not been gone long enough Why was not anyone in the comp lab earlier to help me Now Ill have to go again tomorrow Its ok tomorrows easy Cannot wait to swim laps again its a good workout I should keep lifting weights I do not want to lose any more weight but it would be nice to gain some muscle Ill keep lifting weights Oh have to meet Jen tomorrow for Cru She is nice I just do not know if Ill have time to meet in the small group regularly That Is terrible I should never pick other things over Bible study But I pray and I should study on my own I hope Annah starts going to church with me Texas eleven Are they still in New Mexico  Is that where they went I do not think so Wow this feels like when I Am working out and waiting for the twenty minutes to be up I keep looking and the clock Maybe I should put on some socks these floors are really cold and I think they are pretty dirty too Yuck who else has been barefoot here  Where Is Sarah have not seen her today Where Is my roommate  She is always here Its ok this is nice I need to go to the eye doctor because I Am having trouble focusing Glasses would be such a pain I hope my vision gets better on its own Will I have time to take Spanish every semester of college  I hope so it would be nice to be fluent Very useful also if I work in Texas I have to stay in Texas its too cold everywhere else I love Texas anyway Austin too Its so great to finally live here And home is not too far away I Am not homesick yet I just want my own bed Jester beds suck I have to be exhausted to get comfortable in them I hope Jenny takes me out again soon I had lots of fun with her I need to spend time with Kim too I Am so glad we have been friends for so long Even when we do not talk for a long time she is always there My eyes are tired What Is on tv  Absolutely nothing interesting Where Is Matt  Maybe Ill call him No he is with a friend He will call later So many books where to start  Probably Spanish I have that first I need to stop eating so much candy Its bad for my teeth and my body Look times almost up Yep they are in New Mexico but only ten left What Is the point  Who cares  Does anybody pay attention anymore  Did I ever  Not me ',\n",
       "  'I cannot believe I Am doing this assignment should be asleep right now I wish that my roommate would quit playing his music My other roommate is a dork hes always talking about god and crap and telling me that I should not drink and this and that fuck him hes no better than me hes just as bad in other ways I really hate it when all his friends come over here its like fucking chinatown that is what my whole dorm is like just a bunch of asians and arabs except for the 22nd floor all the people on that floor seem to be white and that is where all the hot girls are I need to get on that floor I should have just lived in towers that would have been better speaking of hot girls I wonder what stephanie is doing right now I really should call her and try and hook up with her I cannot tell if she is putting me off or if shit really keeps coming up that she has to do instead of going out with me but oh well that girl susan is really nice and she seems genuinely interested but its hard to tell but she does have really nice tits why did I just write that whoever is grading this is going to think that I am just a perverted moron but that is not true I do not know why people think that about me but it really pisses me off in fact nothing pisses me off more than when people think I am stupid especially when I am smarter than that person that really sucks that vinny testaverde is out for the season the jets are going to suck this year and I cannot believe that the cowboys won today that was just unbelievable I wonder if my pledge brothers were watching the game I really hate my pledge brother Nayel that guy seems so shady if hes not acting like a greedy little son of a bitch hes acting like a fucking tool that should be Nayels new nickname tool oh well its been 20 minutes and I am tired of doing this so no more words goodbye ',\n",
       "  'I have been asked to do similar exercises in the past in which I was supposed to just write nonstop and track my thoughts or create a story a cell phone is going off right now but it is not mine I just got a brand new phone it is a really cool camera phone sometimes I hate having my cell phone because people just will not stop calling me and it gets really irritating especially if you do not want to speak to the person who keeps calling you I met this one girl Amy and she called me so many times but the problem was I was trying to avoid her because I was not really interested in her But I did not want to hurt her feelings because I know there are times when I have felt lonely or hurt myself Anyways I would rather too many people call me then nobody call me Last year I did not have a cell phone and I was not really as socially active as much as people expected me to be or as much as my friends were I really hate the keyboard that I am typing on I am in the library right now in the RLM building I came here to come to a spanish class to see if I could get into a class I was not registered for I promised my mom I would come and check this class out because most of my classes right now are not to difficult and I have a lot of time Something I am not really used to Anyways my mom has been bugging me about taking a foreign language for some time now because she desperately wants me to learn something she owns a translation company and thinks it is vital that I be able to communicate at least in Spanish if I am going to live in texas I really do agree with her but I do not really want to learn a foreign language I took french in high school and it was really tough but maybe that was because I did not really work hard my first two years of high school and I never really paid attention in class Maybe I will be better now Anyways before when I was asked to do similar assignments I never was really able to write anything down I remember one time I was asked to just write nonstop and then later what ever I wrote about I would use later for the topic of a story The problem is that I really was not able to write anything down at all Usually when I write something I like to think long and hard about what I am writing about and then phrase whatever I am writing in a very articulate and cleaver way I am really hungry right now I never ate breakfast I usually do not eat breakfast but I usually do not get up this late on the weekdays I had a rough night last night could not fall asleep and I did not wake up till 1225 I had a class at one otherwise I might have slept later There are some people passing by me and I keep looking over wishing for some reason that I recognized them or that they went to my high school my eating pattern since I got to college has taken a weird patternback to my no breakfastI have 14 meal tickets back at the dorm but a lot of times I will only use 510 of my meals a week and that is being generous the first week I had 10 meals left last week I had 6 or 7 meals left I am trying to get my brother to come to towers and eat with me he can use one of my tickets but he will not come because 2 years ago he got kicked out of towers and I guess he is afraid of going back somebody must have really scared him or something because fear or boundaries are not usually things that get in edwards way he has no problem breaking rules or trespassing or anything like that if he wants something or wants to have a good time He is by no means a bad person he just does not like to be told what he can and cannot do if he does not agree or approve of limitations he also can not work on someone elses time schedule He use to be different he use to be such a little goody good he would follow all the rules and stuff like that he was such a wimp I use to hate him when we were little and then other times I would love him but mostly I would hate him Now I think he is one of my best friendsI think that this is because ever since I have been around him in the last year or so he has been really great and accommodating to me he always makes me feel good and tries to make me feel welcome and special my parents will say the exact opposite about him they will say he is selfish and inconsideratethey fight a lotand in a lot of ways they are exactly right but in other ways they do not see things that I see I am really grateful to my brother because in a lot of ways since I have been around him he has somehow taught me how to relax and have a good time My parents will say that this is his specialtyrelaxing and having a good timethey think he is really lazy and cannot    be bothered to ever move but actually I have noticed that when edward wants something he will do whatever is necessary to accomplish his task since I Have been in Austin it has been him who has called me several times to play tennis and he also is surrounded by his friends and by womenthis is not by chance well my 20 minutes already passed ',\n",
       "  'well I Am thinking right now about how thinking about what I Am going to write is going to effect what I Am going to write I Am thinking that 20 minutes is a long time to write considering that I type at a fairly good clip I Am thinking I will not start each sentence with I think I Have come up with the idea for the perfect television show it will be a cross between chips and pacific blue it will be about moped cops in missouri it will be called M o p d it will star katie holmes and busta rhymes as the street savy ex con turned cop no one on the force knows if he can be trusted but hes found a friend in katie or sam mcgillaway on the show I Have decided that I really like fencing and that at least at this early state I have a better mastery of the sport than most people in my class I Am really thinking that this is going to be hard to to for twenty minutes I miss my girlfriend my ear itches my roomate displaces much ground when he walks or at least it sounds as if he does I guess that is me thinking about my sensory preception I hear him playing quake in the background or should I say behind my head I wonder if Ill get full credit for my Different EQ assignment do teenage cats drink hairspray so their hairballs will look good  always wondered that its amazing how well I can get my ideas to flow from my brain to my hands I Am sure its a combination of my typing savvy and my slowing of the thought process so I can type everything I think my roomates whistling the daily show theme I like john stewart movies I like patrick stewart movies I wonder how many degrees it would take to connect him to kevin bacon I wonder how I come up with connections like this my Instant messanger sounds are starting to get on even my nerves I wonder how Ill do this semester I know the 5hrs of credit I got for spanish will help my GPA but will they offset the potential disaster that is either different eq and or computer science 310  do I really want to be a computer science major  I really like cooking BAM that is what emeril says its only been 5 minutes since I last looked at the clock and that was maybe a total of 10 minutes ago hmm minutes and minutes were in the same position on those two lines although they may not be when you read this I wonder if my roomates going to play the same song he always does I miss home mostly because of my girlfirend I wonder if I Am supposed to put a comma in the name field if obi wan kenobi has the ability to run with incredible speed then why does he wait for the force field things to close and thus causing the death of his mentor what is the deal with all the star wars major light sabre scenes or most of them ending with some guy falling down a large pitshaft type thing  is George lucas trying to tell us something  I can hear real songs in my roomates playing neither of us have been playing that long I just showered but my nose already feels oily I think my legs asleep there is two asses in assassination I think my whole leg is asleep or getting there fast I Am not used to sitting normally in my chair but I did it to facilitate my typing I wonder if facil or something like that is a latin root spanish for easy is facil facilitate means to make easy makes sense to me sounds like my roomates trying to learn the solo to breakfast at tiffanies its not that hard I wonder if I Am catching mostly audio cues because my eyes are focused on a particular task  that is my guess well that looks like about 20 minutes ',\n",
       "  'So school has been interesting so far I Have come into this with preconceived notions of what it was going to be like and I Have surprised myself to find that it would be completely different At the time I have become increasingly known by a nickname that was not even self imposed I Have created a superficial personality that people associate with and attach themselves to People love dat Boi Tony but hey I guess I Am not too mad about it its good in the end in some ways and in some ways not like for example if I want people to know who I am then they really do know who I am and the introductory part of conversation is out of the way but on the other hand since people think they know who I am they will not bother to finish out the conversation and actually get to know who I am really who am I anyway  can it be defined by a label or name  does it matter if I am Anthony Derrell Williams Tony or Dat Boi Tony because some people can remember my name at all I guess in some facets it really is irrelevant but nobody really wants to be considered irrelevant lol its like significance drives us like a since of purpose much like Agent Smith from the Matrix but that movie was flawed in itself It had no purpose It started out as a great action flick that wanted to mean something in the end  but that just did not work However Quentin Tarentino did it right when I he made Kill Bill  it was a simple plot with a unique character development and that was the important part many people thought that it was the action but it truly was the characters that made the movie that is why vol 2 is better than vol 1 no matter what the next person tells you sure vol 1 was composed of the best action sequences since the old Bruce Lee days who is still better than Jackie Chan and Jet Li but the story itself is what should draw you on another note a friend of mine has been dealing with several issues and decided he would post his thoughts and troubles on the internet for everybody to see and now hes getting chewed out by a lot of people because nobody really has it in their hearts to really care The problem here really is that he thinks he is opening his mind but he really has closed the port and he has yet to mature he cannot take in new ideas or criticisms to better himself the thinks he is fine as who he is Emo SUCKS though I had no formulated opinion about it until I seen what it is doing to him he needs help for real the funniest part about it is that my friend ended his cruel conversation with him by quoting Nietzsche God is Dead   which is a very interesting quote a statement made just to test the bounds of control that the state held on the people thought their interpretation of religion if the person blindly tries to refute the statement without the use of reason they are a tool if they inject reason and use logic to prove why God is alive then they are less of one the point is that the religious texts such as the Koran the Bible etc were written by man inspired by God which means they are subject to flaws inherently and maybe intentionally   if you could tell the people thus said the lord and you did not want them to kill or steal or eat shellfish then that is what you would tell them after all some people read from texts translated by Shakespeare but I digress I as a Christian would only have this much to say in return if God is dead then that is irrefutable evidence to the fact that he existed And if he truly is God and did exist  Death has no binding power defining death would then become the point and focus of reason and logic What is death what is death to a man what is death to a beast what is death to a god And then I would say yes God in the form of man Jesus did die for you and I there is always a way to explain something in the logical realm however some people are too closed minded to see even that Sometimes philosophy even pomo philosophy can be used to solidify faith because it makes somebody question themselves and why the believe what they believe and if the answers to the self examination are satisfactory that persons faith has become that much stronger Well yester I went to a labor day cookout and there were some fine ladies there You never notice how good somebody looks until they try to look good for you that is the funny part about it all I do not try that hard enough I just wonder what other peoples perception is of me could I have had a chance with any of those girls probably but not likely and this is where my reckoning begins what are these girls looking for attention relationships  or just good sex   I could provide them with all 3 but hey there is only a small amount of me to go around all jokes aside with the truth being told I really think attention is the centric thing that girls want how they translate different actions to be attention is a different story because girls are all so different but all so much the same when the picture is generalized and magnified to show detail and I like to look at detail that is why I think I might be staying single for a while even as hard as that is in a place like UT Austin ',\n",
       "  '     I Am uncertain what to write I can feel my unwashed body because I just woke up and i am wondering how to put my words into the correct phrases and i am focusing on how to follow my stream of thought the refrigerator i had trouble spelling that word is making a blanked out for a second a very fuzzy kind of comforting machine noise everything is quiet kate is my roommate i feel like i have to explain it to you even though you are a computer or something a program i guess crap i am digressing well she is asleep i did not know that i had so much trouble typing when i was tired and what time is i do not know has it really only been 2 minutes or so what am i supposed to type about i think i am stressing out scientolgists expelled me they told me i was too stressed i guess i am the stress test that was free my elbows are stiff went ballistic when i tried it only 2 minutes this is harder than i though stream of conscious makes me think of finnigans wake only 4 people in the world know exactly how to interpret finnigans wake its the hardest book in the world tim introduced that book to me he tried to read it stupid cheating bastard i hope language is not a problem i curse but this is a school assignment grr i feel dumb and that is not good i should not feel dumb neck is getting stiff i guess my train of thought is confusing who is going to read this and why and should i be using punctuation neil is asleep too i should eat my stomach grumbling breathing in and out this totally does not make sense what makes a really good stream of conscious writing i guess it does not matter that is not the point of this excercise i really like psychology its really interesting dumb scientologists told me that it was a overrated science and that more people were killed in the era that psychology was born i wonder if it was because more people were killed that psychology became more important i thought more peeps were killed because technology was greater potential to kill was greater scientologists are creepy they are so cultist i wonder if they are as brainwashed as i feel they are and i am just rambling but i guess that is what were supposed to do my hands are just doing what they normally do when they type i kind of am randomly putting punctuation does stream of conscious require punctuation i hope not this is getting rather tedious but i have to finish it my feel are getting cold and i am getting kind of bored i think i should raise the blinds to let more sunlight in and put on a sweater the ac is really high in my room antartica aruna calls it i love aruna she is such a great sister is this a narrative or a record of my thoughts and feelings i feel like i should be telling about what i am doing but maybe i should just put down what i am thinking what am i thinking ear itches got to scratch it and my hands are like a separate entity they keep on continuously typing and my mind is just running in a completely different direction i guess it is easier to do this sort of thing online and on the computer if I was writing i would hate this it would not flow as much wow so i think i am lining up thoughts in my head to put down on paper is this what i do in essays maybe that is why my essays are not very great i do not really think them out i just blurt them out on to paper like i do in conversation that is a bad trait i type kind of fast how long is this supposed to be i am glad i am getting this down i am curious as to what the results are and i really want to do well in this class its really cool too bad i had to sit in the very back last time i feel sort of like an outcast do i feel like an outcast in other situations i used to wanted to be a psychologists why did i decide against that again and am i getting down the connections of why i am thinking this thought then that thought should i be writing that down that this makes me think of that and that is why i said this i guess thoughts just spontaneously came to my mind and i write them down maybe this makes me more impulsive in my regular life am i weird am i blanked out for a second i keep blocking out the sensation of my body except for the feeling of my elbows continously rubbing against the table the the palms of my hands against the keyboard crick in neck again i wonder if i have trouble studying because i get into uncomfortable positions and that is why i cannot lose myself into the words on the text like i do when reading novels it would be interesting to hear or see other peoples stream of conscious writing if you are writing a novel in the stream of conscious way can you go back and edit it i guess so that is a dumb question its a novel meant to guide you through the stream of conscious not actually a stream of conscious writing that would be messed up if you did a story i do not think i know what i am trying to say next topic 14 minutes wow i did not think time was flying by so fast 1tym with that song is good i wish i could understand korean good songs what does this stream of conscious say about me i keep shifting and my butts going numb and little patches of skin are itchy i have to go at 4 to port aransas i hope its worth it i have a lot of catching up to do i had so much fun yesterday i wish that that could happen more often allen is awesome too bad soap operas and stuff happen too bad  i like both guys is that a problem who wants to hear about this not me its just a bad cycle of thought better think positively scientologists look all blank behind the eyes very creepy as if their cultish mindset has washed all personality way and they are all clones or machines programmed to thinki and persuade in a certain way that is too weird i cannot believe i almost bought into it actually i can i just want to be a better me who does not that   easy   solution they provide is really attractive if it works but look at them they are creepy and give me strange vibes only 4 more minutes yay i am not depressed like they said that is really sad i just like to analyze and see why people do morbid bad things i just like listening and now i am all defensive i should not do that i have nothing to defend against no one is attacking me silly iim just writing down my thoughts i guess that whole experience traumatized me and i have more stress because of it my hair is tickling me its so quiet i heard a door slam i wonder who that is i need to talk to more people on my wing i guess i can do that this weekend but i should really focus more on studying i have such a distracted personality but i guess i have charm so its okay that is what i am told but what do i want  i have to figure that out my legs are crossed its a cool feeling but at the same time i cannot hold that position for long my mind really makes some strange leaps but what about geniuses how do they think do their minds differ all that much I wonder if they really have a different brain wave or patter oon 19 minutes ooh 30 seconds i am almost through i wonder what they have to say this is exciting very cool very very cool i should have solved math equations that would have been cool but that is not the point of this i am such a nerd do i FINISHED SWEET ',\n",
       "  'Oh damn  Wednesday was awesome please give me some water My  friends are funny and so is this movie the brain is really cool with all its disorders  and shit for the love my friends are so sarcastic but I love it and I do it too damn I  need to stop smoking I Am like a chimney they joke about killing themselves which  is really funny because  i9 no they are joking I Am normally a good writer damn sorry the  critic is awesome and my professor is so fucking funny I lived in midland too for  awhile cool I Am a psychology major I need gum can I have some Sweet I got some I Am not suicidal or anything so do not worry I just sneezed and it hurt I hope I do not  wake up my roommate this late I Am tired it seems like all my professors smoke weed tight anyways puppies hahahaha anyway I miss my dog and my dead cat I have  ocd not surprising I think its genetic but my mom will not admit it and I just realized  how much I love them because I could imagine them at my age and relate I almost  feel sorry for being so hard on them almost hahahaha I Am hungry I Am good at  Spanish TACO C sweet please help me just joking again god damn this is so  fucking long oohh sexual stimulation like the rat that was so funny the astros suck  dave chappelle rox ooooowwwww shit that hurt whatever the simpsons sweet  ummm sleep balh blah balh blah blah I cannot think my friends are heavy wow I miss  my friend in the air force he says it sucks   like that insert I like my linguistics class  this is all bullshit and so is life why are we here oohh too clich sorry I Am i am I Am i am  I Am   I Am i am I Am i am I Am whatever because this is my united states of whatever I do not mind  bush or Kerry they are both right but I do not see why shit I forgot oh people in Austin  are so liberal to the point of offense maybe I Am blind not literally sigh puke no  pee oh I love the graduate and Donnie darko is my favorite movie ever but I  actually saw it when it first came out I like I like I like I like maybe its a hotel sorry  took a brake oh I think I can actually relate a lot to the movie because my family is  just like that children with problems with drugs psychiatric or other in a wealthy  family with the money craved superficial mom and many marriages on either side  and divorce with children all over the place and step dad lawyer asshole did good  in school mental problems family support of prescription drugs grandmother and  ',\n",
       "  ' Wow this is actually a cool writing assignment I would have never expected to be asked to sit here at my computer and just write what I am thinking for a 20 minute period I have just gotten back from a meeting about the Texas Lonestars organization and LOVED it  The only problem is that I am just a freshman still getting use to the whole college life and time management thing I am kind of stressed out but not nearly as bad as I know I can get sometimes just because I am pre med and I know that I really need to concentrate on my grades and school work while also getting involved Getting involved however has never been a problem for me I love to be involved in everything Now that is a problem because if I spread myself too thin I am not going to be able to put forth my best in each venue I know for sure that I want to do something involving dance because it has been such an intricate part of my life for so long and is truly one of my passions I am going to try out for the Roustabouts and the Steel Dance Company I am beginning to get nervous just because I have not really gotten the chance to practice anywhere here since I Have been away from home I hope that I am able to keep my grades really good while also having fun and enjoying my college experience I know that I am here to get an education but its obvious to everyone that college does not just teach you knowlege in your courses that are suppose to be preparation for your career but its also a learning experience for life lessons I feel that just in the week and a half that I have been here I have already become more responsible and determined      It has been kind of hard switching from not only my hometown to a new huge city but also from summer and relaxation and the feeling of yey school is over to wow my life is just beginning along with lots of studying that I do not really want to do   My life has just been kind of awkward lately anyway I know that things are suppose to change when you go off to college in so many ways especially through your habits and relationships and mine definitely has The fact that my family has been going through changes of its own has made me feel somewhat distant and like I do not belong Yet the funny thing is that I do not really care or maybe its that I do not know how to make the effort to fit in again My first time to go home will be to a different home than the one that I Have lived in for the past four years even though I lived there when I was younger and I feel like it will just be weird to see how my familys lives have just king of carried on without me I will not really understand my moms relationship with the guy she is dating or how my brother is experiencing or enjoying high school My dad is perhaps the only one that I will probably still feel just about the same with because I am use to not seeing him all the time My time is almost up and as of right now I am just really hoping that even though I may not be showing my priority to God right now he will really just step into my life and help me control it in the right direction '],\n",
       " 'input_ids_roberta': tensor([[    0, 28165,    16,  ...,  6319,   450,     2],\n",
       "         [    0,   100,   109,  ...,     1,     1,     1],\n",
       "         [    0, 27172,   187,  ...,     1,     1,     1],\n",
       "         ...,\n",
       "         [    0,  1437,  1437,  ...,     5,  7709,     2],\n",
       "         [    0,  7516, 16490,  ...,  1272,    19,     2],\n",
       "         [    0, 22545,    42,  ...,    77,    38,     2]]),\n",
       " 'attention_mask_roberta': tensor([[1, 1, 1,  ..., 1, 1, 1],\n",
       "         [1, 1, 1,  ..., 0, 0, 0],\n",
       "         [1, 1, 1,  ..., 0, 0, 0],\n",
       "         ...,\n",
       "         [1, 1, 1,  ..., 1, 1, 1],\n",
       "         [1, 1, 1,  ..., 1, 1, 1],\n",
       "         [1, 1, 1,  ..., 1, 1, 1]]),\n",
       " 'token_type_ids_roberta': tensor([[0, 0, 0,  ..., 0, 0, 0],\n",
       "         [0, 0, 0,  ..., 0, 0, 0],\n",
       "         [0, 0, 0,  ..., 0, 0, 0],\n",
       "         ...,\n",
       "         [0, 0, 0,  ..., 0, 0, 0],\n",
       "         [0, 0, 0,  ..., 0, 0, 0],\n",
       "         [0, 0, 0,  ..., 0, 0, 0]]),\n",
       " 'targets': tensor([[1., 0., 1., 1., 1.],\n",
       "         [1., 0., 0., 0., 0.],\n",
       "         [1., 1., 1., 1., 0.],\n",
       "         [1., 1., 0., 0., 1.],\n",
       "         [0., 1., 0., 0., 0.],\n",
       "         [1., 0., 1., 0., 1.],\n",
       "         [1., 1., 0., 0., 1.],\n",
       "         [1., 0., 1., 1., 1.],\n",
       "         [1., 0., 1., 0., 1.],\n",
       "         [0., 1., 1., 0., 1.],\n",
       "         [1., 0., 1., 1., 0.],\n",
       "         [0., 0., 0., 0., 1.],\n",
       "         [1., 1., 0., 0., 1.],\n",
       "         [0., 0., 1., 0., 1.],\n",
       "         [1., 0., 0., 0., 1.],\n",
       "         [1., 1., 0., 0., 1.],\n",
       "         [1., 1., 0., 0., 1.],\n",
       "         [1., 0., 1., 1., 1.]])}"
      ]
     },
     "execution_count": 8,
     "metadata": {},
     "output_type": "execute_result"
    }
   ],
   "source": [
    "batch=next(iter(train_data_loader))\n",
    "print('Input ids shape:',batch['input_ids_roberta'].shape, 'Attention mask shape:',batch['attention_mask_roberta'].shape, 'Token type ids shape:',batch['token_type_ids_roberta'].shape, 'Targets shape:',batch['targets'].shape)\n",
    "batch"
   ]
  },
  {
   "cell_type": "markdown",
   "metadata": {},
   "source": [
    "### Models "
   ]
  },
  {
   "cell_type": "code",
   "execution_count": 9,
   "metadata": {},
   "outputs": [],
   "source": [
    "class BERTClass(torch.nn.Module):\n",
    "    def __init__(self, PRE_TRAINED_MODEL_NAME, num_classes=5, dropout=0.3):\n",
    "        super(BERTClass, self).__init__()\n",
    "        self.bert_model = AutoModel.from_pretrained(PRE_TRAINED_MODEL_NAME, return_dict=True, output_attentions=True)\n",
    "        self.dropout = torch.nn.Dropout(dropout)\n",
    "        self.linear = torch.nn.Linear(768, num_classes)\n",
    "\n",
    "    def forward(self, input_ids, attn_mask, token_type_ids):\n",
    "        output = self.bert_model(\n",
    "            input_ids, \n",
    "            attention_mask=attn_mask, \n",
    "            token_type_ids=token_type_ids\n",
    "        )\n",
    "        attentions=output.attentions\n",
    "        output_dropout = self.dropout(output.pooler_output)\n",
    "        output = self.linear(output_dropout)\n",
    "        return output, attentions"
   ]
  },
  {
   "cell_type": "markdown",
   "metadata": {},
   "source": [
    "### Training"
   ]
  },
  {
   "cell_type": "code",
   "execution_count": 10,
   "metadata": {},
   "outputs": [],
   "source": [
    "import tqdm.notebook as tq\n",
    "# Training of the model for one epoch\n",
    "\n",
    "def train_model(training_loader, model, optimizer,loss_fn, scheduler=None, device=device, model_name='roberta'):\n",
    "\n",
    "    losses = []\n",
    "    correct_predictions = 0\n",
    "    num_samples = 0\n",
    "    # set model to training mode (activate droput, batch norm)\n",
    "    model.train()\n",
    "    # initialize the progress bar\n",
    "    loop = tq.tqdm(enumerate(training_loader), total=len(training_loader), \n",
    "                      leave=True, colour='steelblue')\n",
    "    for _, data in loop:\n",
    "        ids = data[f'input_ids_{model_name}'].to(device, dtype = torch.long)\n",
    "        mask = data[f'attention_mask_{model_name}'].to(device, dtype = torch.long)\n",
    "        token_type_ids = data[f'token_type_ids_{model_name}'].to(device, dtype = torch.long)\n",
    "        targets = data['targets'].to(device, dtype = torch.float)\n",
    "        \n",
    "        # forward\n",
    "        outputs,_ = model(ids, mask, token_type_ids) # (batch,predict)=(32,8)\n",
    "        ids = ids.cpu().detach().numpy()\n",
    "        mask = mask.cpu().detach().numpy()\n",
    "        loss = loss_fn(outputs, targets)\n",
    "        losses.append(loss.item())\n",
    "        # training accuracy, apply sigmoid, round (apply thresh 0.5)\n",
    "        outputs = torch.sigmoid(outputs).cpu().detach().numpy().round()\n",
    "        targets = targets.cpu().detach().numpy()\n",
    "        correct_predictions += np.sum(outputs==targets)\n",
    "        num_samples += targets.size   # total number of elements in the 2D array\n",
    "       \n",
    "        # backward\n",
    "        optimizer.zero_grad()\n",
    "        loss.backward()\n",
    "        nn.utils.clip_grad_norm_(model.parameters(), max_norm=2.0)\n",
    "        # grad descent step\n",
    "        optimizer.step()\n",
    "\n",
    "    # returning: trained model, model accuracy, mean loss\n",
    "    return model, float(correct_predictions)/num_samples, np.mean(losses)\n"
   ]
  },
  {
   "cell_type": "code",
   "execution_count": 11,
   "metadata": {},
   "outputs": [],
   "source": [
    "# evaluation of the model\n",
    "\n",
    "def eval_model(validation_loader, model,loss_fn,model_name='roberta'):\n",
    "    losses = []\n",
    "    correct_predictions = 0\n",
    "    num_samples = 0\n",
    "    # set model to eval mode (turn off dropout, fix batch norm)\n",
    "    model.eval()\n",
    "\n",
    "    with torch.no_grad():\n",
    "        for btch_idx, data in enumerate(validation_loader, 0):\n",
    "            ids = data[f'input_ids_{model_name}'].to(device, dtype = torch.long)\n",
    "            mask = data[f'attention_mask_{model_name}'].to(device, dtype = torch.long)\n",
    "            token_type_ids = data[f'token_type_ids_{model_name}'].to(device, dtype = torch.long)\n",
    "            targets = data['targets'].to(device, dtype = torch.float)\n",
    "            outputs,_ = model(ids, mask, token_type_ids)\n",
    "\n",
    "            loss = loss_fn(outputs, targets)\n",
    "            losses.append(loss.item())\n",
    "\n",
    "            # validation accuracy\n",
    "            # add sigmoid, for the training sigmoid is in BCEWithLogitsLoss\n",
    "            outputs = torch.sigmoid(outputs).cpu().detach().numpy().round()\n",
    "            targets = targets.cpu().detach().numpy()\n",
    "            correct_predictions += np.sum(outputs==targets)\n",
    "            num_samples += targets.size   # total number of elements in the 2D array\n",
    "    return float(correct_predictions)/num_samples, np.mean(losses)"
   ]
  },
  {
   "cell_type": "code",
   "execution_count": 12,
   "metadata": {},
   "outputs": [],
   "source": [
    "# BCEWithLogitsLoss combines a Sigmoid layer and the BCELoss in one single class. \n",
    "# This version is more numerically stable than using a plain Sigmoid followed \n",
    "# by a BCELoss as, by combining the operations into one layer, \n",
    "# we take advantage of the log-sum-exp trick for numerical stability.\n",
    "def loss_fn(preds, labels):\n",
    "    return torch.nn.BCEWithLogitsLoss()(preds, labels) "
   ]
  },
  {
   "cell_type": "code",
   "execution_count": 13,
   "metadata": {},
   "outputs": [],
   "source": [
    "from collections import defaultdict\n",
    "\n",
    "def train(PRE_TRAINED_MODEL_NAME, model_name, early_stopping_patience=5):\n",
    "    model = BERTClass(PRE_TRAINED_MODEL_NAME)\n",
    "    model.to(device)\n",
    "\n",
    "    # Setting the optimizer\n",
    "    optimizer = torch.optim.Adam(model.parameters(), lr=1e-5)    \n",
    "\n",
    "    history = defaultdict(list)\n",
    "    best_accuracy = 0\n",
    "    best_val_loss = float('inf')\n",
    "    epochs_without_improvement = 0  # Counter for tracking consecutive epochs without improvement\n",
    "\n",
    "    print(f'{PRE_TRAINED_MODEL_NAME}')\n",
    "    for epoch in range(1, EPOCHS + 1):\n",
    "        print(f'Epoch {epoch}/{EPOCHS}')\n",
    "        model, train_acc, train_loss = train_model(train_data_loader, model, optimizer, loss_fn=loss_fn, model_name=model_name)\n",
    "        val_acc, val_loss = eval_model(val_data_loader, model, loss_fn=loss_fn, model_name=model_name)\n",
    "\n",
    "        print(f'train_loss={train_loss:.4f}, val_loss={val_loss:.4f} train_acc={train_acc:.4f}, val_acc={val_acc:.4f}')\n",
    "\n",
    "        history['train_acc'].append(train_acc)\n",
    "        history['train_loss'].append(train_loss)\n",
    "        history['val_acc'].append(val_acc)\n",
    "        history['val_loss'].append(val_loss)\n",
    "\n",
    "        # Check for early stopping\n",
    "        if val_loss < best_val_loss:\n",
    "            best_val_loss = val_loss\n",
    "            epochs_without_improvement = 0\n",
    "            # Save the best model\n",
    "            torch.save(model.state_dict(), CHECKPOINTPATH + f'_{PRE_TRAINED_MODEL_NAME}.bin')\n",
    "            best_accuracy = val_acc\n",
    "        else:\n",
    "            epochs_without_improvement += 1\n",
    "            if epochs_without_improvement >= early_stopping_patience:\n",
    "                print(f'Early stopping triggered after {epoch} epochs without improvement.')\n",
    "                break\n",
    "\n",
    "    print(f'{PRE_TRAINED_MODEL_NAME} Best accuracy: {best_accuracy}')\n"
   ]
  },
  {
   "cell_type": "code",
   "execution_count": 14,
   "metadata": {},
   "outputs": [
    {
     "name": "stderr",
     "output_type": "stream",
     "text": [
      "Some weights of the model checkpoint at roberta-base were not used when initializing RobertaModel: ['lm_head.layer_norm.weight', 'lm_head.decoder.weight', 'lm_head.bias', 'lm_head.dense.bias', 'lm_head.dense.weight', 'lm_head.layer_norm.bias']\n",
      "- This IS expected if you are initializing RobertaModel from the checkpoint of a model trained on another task or with another architecture (e.g. initializing a BertForSequenceClassification model from a BertForPreTraining model).\n",
      "- This IS NOT expected if you are initializing RobertaModel from the checkpoint of a model that you expect to be exactly identical (initializing a BertForSequenceClassification model from a BertForSequenceClassification model).\n"
     ]
    },
    {
     "name": "stdout",
     "output_type": "stream",
     "text": [
      "roberta-base\n",
      "Epoch 1/40\n"
     ]
    },
    {
     "data": {
      "application/vnd.jupyter.widget-view+json": {
       "model_id": "8e953f2696ff498f87b0f311a393700b",
       "version_major": 2,
       "version_minor": 0
      },
      "text/plain": [
       "  0%|          | 0/96 [00:00<?, ?it/s]"
      ]
     },
     "metadata": {},
     "output_type": "display_data"
    },
    {
     "name": "stdout",
     "output_type": "stream",
     "text": [
      "train_loss=0.6940, val_loss=0.6925 train_acc=0.5128, val_acc=0.5137\n",
      "Epoch 2/40\n"
     ]
    },
    {
     "data": {
      "application/vnd.jupyter.widget-view+json": {
       "model_id": "5ecfaddb4ffa4339ac6b61fdf18bf97f",
       "version_major": 2,
       "version_minor": 0
      },
      "text/plain": [
       "  0%|          | 0/96 [00:00<?, ?it/s]"
      ]
     },
     "metadata": {},
     "output_type": "display_data"
    },
    {
     "name": "stdout",
     "output_type": "stream",
     "text": [
      "train_loss=0.6866, val_loss=0.6845 train_acc=0.5423, val_acc=0.5337\n",
      "Epoch 3/40\n"
     ]
    },
    {
     "data": {
      "application/vnd.jupyter.widget-view+json": {
       "model_id": "0753e882424d441a872d7b9a91b98136",
       "version_major": 2,
       "version_minor": 0
      },
      "text/plain": [
       "  0%|          | 0/96 [00:00<?, ?it/s]"
      ]
     },
     "metadata": {},
     "output_type": "display_data"
    },
    {
     "name": "stdout",
     "output_type": "stream",
     "text": [
      "train_loss=0.6740, val_loss=0.6770 train_acc=0.5805, val_acc=0.5666\n",
      "Epoch 4/40\n"
     ]
    },
    {
     "data": {
      "application/vnd.jupyter.widget-view+json": {
       "model_id": "68ed886c1112414a89219565651eb578",
       "version_major": 2,
       "version_minor": 0
      },
      "text/plain": [
       "  0%|          | 0/96 [00:00<?, ?it/s]"
      ]
     },
     "metadata": {},
     "output_type": "display_data"
    },
    {
     "name": "stdout",
     "output_type": "stream",
     "text": [
      "train_loss=0.6621, val_loss=0.6865 train_acc=0.6027, val_acc=0.5741\n",
      "Epoch 5/40\n"
     ]
    },
    {
     "data": {
      "application/vnd.jupyter.widget-view+json": {
       "model_id": "e08f9eefbc8e43ab9f9bd2a0a6466e9b",
       "version_major": 2,
       "version_minor": 0
      },
      "text/plain": [
       "  0%|          | 0/96 [00:00<?, ?it/s]"
      ]
     },
     "metadata": {},
     "output_type": "display_data"
    },
    {
     "name": "stdout",
     "output_type": "stream",
     "text": [
      "train_loss=0.6303, val_loss=0.6890 train_acc=0.6394, val_acc=0.5752\n",
      "Epoch 6/40\n"
     ]
    },
    {
     "data": {
      "application/vnd.jupyter.widget-view+json": {
       "model_id": "3d71814f294d48de9889c1610f4d4858",
       "version_major": 2,
       "version_minor": 0
      },
      "text/plain": [
       "  0%|          | 0/96 [00:00<?, ?it/s]"
      ]
     },
     "metadata": {},
     "output_type": "display_data"
    },
    {
     "name": "stdout",
     "output_type": "stream",
     "text": [
      "train_loss=0.5872, val_loss=0.7077 train_acc=0.6870, val_acc=0.5714\n",
      "Epoch 7/40\n"
     ]
    },
    {
     "data": {
      "application/vnd.jupyter.widget-view+json": {
       "model_id": "485e2b8670834400a654673535badda6",
       "version_major": 2,
       "version_minor": 0
      },
      "text/plain": [
       "  0%|          | 0/96 [00:00<?, ?it/s]"
      ]
     },
     "metadata": {},
     "output_type": "display_data"
    },
    {
     "name": "stdout",
     "output_type": "stream",
     "text": [
      "train_loss=0.5484, val_loss=0.7795 train_acc=0.7265, val_acc=0.5666\n",
      "Epoch 8/40\n"
     ]
    },
    {
     "data": {
      "application/vnd.jupyter.widget-view+json": {
       "model_id": "a436881a0e4345b0960a253b9c889585",
       "version_major": 2,
       "version_minor": 0
      },
      "text/plain": [
       "  0%|          | 0/96 [00:00<?, ?it/s]"
      ]
     },
     "metadata": {},
     "output_type": "display_data"
    },
    {
     "name": "stdout",
     "output_type": "stream",
     "text": [
      "train_loss=0.5063, val_loss=0.7755 train_acc=0.7539, val_acc=0.5677\n",
      "Early stopping triggered after 8 epochs without improvement.\n",
      "roberta-base Best accuracy: 0.5665768194070081\n"
     ]
    }
   ],
   "source": [
    "# train both models\n",
    "train(PRE_TRAINED_MODEL_NAME,\"roberta\")\n"
   ]
  },
  {
   "cell_type": "code",
   "execution_count": 15,
   "metadata": {},
   "outputs": [],
   "source": [
    "import gc         # garbage collect library\n",
    "gc.collect()\n",
    "torch.cuda.empty_cache() "
   ]
  },
  {
   "cell_type": "markdown",
   "metadata": {},
   "source": [
    "### Testing the models"
   ]
  },
  {
   "cell_type": "code",
   "execution_count": 16,
   "metadata": {},
   "outputs": [],
   "source": [
    "# get the predictions\n",
    "def get_predictions(model,data_loader,model_name):\n",
    "    model.eval()\n",
    "    text=[]\n",
    "    predictions = []\n",
    "    predictions_probs = []\n",
    "    real_values = []\n",
    "    with torch.no_grad():\n",
    "        for data in data_loader:\n",
    "            text.extend(data['text'])\n",
    "            ids = data[f'input_ids_{model_name}'].to(device, dtype = torch.long)\n",
    "            mask = data[f'attention_mask_{model_name}'].to(device, dtype = torch.long)\n",
    "            token_type_ids = data[f'token_type_ids_{model_name}'].to(device, dtype = torch.long)\n",
    "            targets = data['targets'].to(device, dtype = torch.float)\n",
    "            outputs,_ = model(ids, mask, token_type_ids)\n",
    "            outputs = torch.sigmoid(outputs)\n",
    "            predictions.extend(outputs.cpu().detach().round())\n",
    "            real_values.extend(targets.cpu().detach())\n",
    "            predictions_probs.extend(outputs.cpu().detach())      \n",
    "    predictions = torch.stack(predictions)\n",
    "    predictions_probs = torch.stack(predictions_probs)\n",
    "    real_values = torch.stack(real_values)\n",
    "    return text,predictions,predictions_probs, real_values"
   ]
  },
  {
   "cell_type": "code",
   "execution_count": 17,
   "metadata": {},
   "outputs": [],
   "source": [
    "from sklearn.metrics import classification_report, accuracy_score, f1_score"
   ]
  },
  {
   "cell_type": "code",
   "execution_count": 18,
   "metadata": {},
   "outputs": [],
   "source": [
    "def get_metrics(model,test_data_loader,model_name):\n",
    "    # get predictions for the test data\n",
    "    text, predictions, prediction_probs, real_values = get_predictions(model, test_data_loader,model_name)\n",
    "    accuracy = accuracy_score(real_values.view(-1), predictions.view(-1))\n",
    "    accuracy_scores = {}\n",
    "    for i in range(len(target_list)):\n",
    "        accuracy_scores[target_list[i]] = accuracy_score(real_values[:,i], predictions[:,i])\n",
    "    report=classification_report(real_values, predictions, target_names=target_list)\n",
    "    print(f\"Accuracy {accuracy}\")\n",
    "    print(f'Accuracy Scores {accuracy_scores}')\n",
    "    print(f\"classification_report{report}\")\n",
    "    return accuracy,accuracy_score,report"
   ]
  },
  {
   "cell_type": "code",
   "execution_count": 19,
   "metadata": {},
   "outputs": [
    {
     "name": "stderr",
     "output_type": "stream",
     "text": [
      "Some weights of the model checkpoint at roberta-base were not used when initializing RobertaModel: ['lm_head.layer_norm.weight', 'lm_head.decoder.weight', 'lm_head.bias', 'lm_head.dense.bias', 'lm_head.dense.weight', 'lm_head.layer_norm.bias']\n",
      "- This IS expected if you are initializing RobertaModel from the checkpoint of a model trained on another task or with another architecture (e.g. initializing a BertForSequenceClassification model from a BertForPreTraining model).\n",
      "- This IS NOT expected if you are initializing RobertaModel from the checkpoint of a model that you expect to be exactly identical (initializing a BertForSequenceClassification model from a BertForSequenceClassification model).\n"
     ]
    },
    {
     "data": {
      "text/plain": [
       "BERTClass(\n",
       "  (bert_model): RobertaModel(\n",
       "    (embeddings): RobertaEmbeddings(\n",
       "      (word_embeddings): Embedding(50265, 768, padding_idx=1)\n",
       "      (position_embeddings): Embedding(514, 768, padding_idx=1)\n",
       "      (token_type_embeddings): Embedding(1, 768)\n",
       "      (LayerNorm): LayerNorm((768,), eps=1e-05, elementwise_affine=True)\n",
       "      (dropout): Dropout(p=0.1, inplace=False)\n",
       "    )\n",
       "    (encoder): RobertaEncoder(\n",
       "      (layer): ModuleList(\n",
       "        (0): RobertaLayer(\n",
       "          (attention): RobertaAttention(\n",
       "            (self): RobertaSelfAttention(\n",
       "              (query): Linear(in_features=768, out_features=768, bias=True)\n",
       "              (key): Linear(in_features=768, out_features=768, bias=True)\n",
       "              (value): Linear(in_features=768, out_features=768, bias=True)\n",
       "              (dropout): Dropout(p=0.1, inplace=False)\n",
       "            )\n",
       "            (output): RobertaSelfOutput(\n",
       "              (dense): Linear(in_features=768, out_features=768, bias=True)\n",
       "              (LayerNorm): LayerNorm((768,), eps=1e-05, elementwise_affine=True)\n",
       "              (dropout): Dropout(p=0.1, inplace=False)\n",
       "            )\n",
       "          )\n",
       "          (intermediate): RobertaIntermediate(\n",
       "            (dense): Linear(in_features=768, out_features=3072, bias=True)\n",
       "            (intermediate_act_fn): GELUActivation()\n",
       "          )\n",
       "          (output): RobertaOutput(\n",
       "            (dense): Linear(in_features=3072, out_features=768, bias=True)\n",
       "            (LayerNorm): LayerNorm((768,), eps=1e-05, elementwise_affine=True)\n",
       "            (dropout): Dropout(p=0.1, inplace=False)\n",
       "          )\n",
       "        )\n",
       "        (1): RobertaLayer(\n",
       "          (attention): RobertaAttention(\n",
       "            (self): RobertaSelfAttention(\n",
       "              (query): Linear(in_features=768, out_features=768, bias=True)\n",
       "              (key): Linear(in_features=768, out_features=768, bias=True)\n",
       "              (value): Linear(in_features=768, out_features=768, bias=True)\n",
       "              (dropout): Dropout(p=0.1, inplace=False)\n",
       "            )\n",
       "            (output): RobertaSelfOutput(\n",
       "              (dense): Linear(in_features=768, out_features=768, bias=True)\n",
       "              (LayerNorm): LayerNorm((768,), eps=1e-05, elementwise_affine=True)\n",
       "              (dropout): Dropout(p=0.1, inplace=False)\n",
       "            )\n",
       "          )\n",
       "          (intermediate): RobertaIntermediate(\n",
       "            (dense): Linear(in_features=768, out_features=3072, bias=True)\n",
       "            (intermediate_act_fn): GELUActivation()\n",
       "          )\n",
       "          (output): RobertaOutput(\n",
       "            (dense): Linear(in_features=3072, out_features=768, bias=True)\n",
       "            (LayerNorm): LayerNorm((768,), eps=1e-05, elementwise_affine=True)\n",
       "            (dropout): Dropout(p=0.1, inplace=False)\n",
       "          )\n",
       "        )\n",
       "        (2): RobertaLayer(\n",
       "          (attention): RobertaAttention(\n",
       "            (self): RobertaSelfAttention(\n",
       "              (query): Linear(in_features=768, out_features=768, bias=True)\n",
       "              (key): Linear(in_features=768, out_features=768, bias=True)\n",
       "              (value): Linear(in_features=768, out_features=768, bias=True)\n",
       "              (dropout): Dropout(p=0.1, inplace=False)\n",
       "            )\n",
       "            (output): RobertaSelfOutput(\n",
       "              (dense): Linear(in_features=768, out_features=768, bias=True)\n",
       "              (LayerNorm): LayerNorm((768,), eps=1e-05, elementwise_affine=True)\n",
       "              (dropout): Dropout(p=0.1, inplace=False)\n",
       "            )\n",
       "          )\n",
       "          (intermediate): RobertaIntermediate(\n",
       "            (dense): Linear(in_features=768, out_features=3072, bias=True)\n",
       "            (intermediate_act_fn): GELUActivation()\n",
       "          )\n",
       "          (output): RobertaOutput(\n",
       "            (dense): Linear(in_features=3072, out_features=768, bias=True)\n",
       "            (LayerNorm): LayerNorm((768,), eps=1e-05, elementwise_affine=True)\n",
       "            (dropout): Dropout(p=0.1, inplace=False)\n",
       "          )\n",
       "        )\n",
       "        (3): RobertaLayer(\n",
       "          (attention): RobertaAttention(\n",
       "            (self): RobertaSelfAttention(\n",
       "              (query): Linear(in_features=768, out_features=768, bias=True)\n",
       "              (key): Linear(in_features=768, out_features=768, bias=True)\n",
       "              (value): Linear(in_features=768, out_features=768, bias=True)\n",
       "              (dropout): Dropout(p=0.1, inplace=False)\n",
       "            )\n",
       "            (output): RobertaSelfOutput(\n",
       "              (dense): Linear(in_features=768, out_features=768, bias=True)\n",
       "              (LayerNorm): LayerNorm((768,), eps=1e-05, elementwise_affine=True)\n",
       "              (dropout): Dropout(p=0.1, inplace=False)\n",
       "            )\n",
       "          )\n",
       "          (intermediate): RobertaIntermediate(\n",
       "            (dense): Linear(in_features=768, out_features=3072, bias=True)\n",
       "            (intermediate_act_fn): GELUActivation()\n",
       "          )\n",
       "          (output): RobertaOutput(\n",
       "            (dense): Linear(in_features=3072, out_features=768, bias=True)\n",
       "            (LayerNorm): LayerNorm((768,), eps=1e-05, elementwise_affine=True)\n",
       "            (dropout): Dropout(p=0.1, inplace=False)\n",
       "          )\n",
       "        )\n",
       "        (4): RobertaLayer(\n",
       "          (attention): RobertaAttention(\n",
       "            (self): RobertaSelfAttention(\n",
       "              (query): Linear(in_features=768, out_features=768, bias=True)\n",
       "              (key): Linear(in_features=768, out_features=768, bias=True)\n",
       "              (value): Linear(in_features=768, out_features=768, bias=True)\n",
       "              (dropout): Dropout(p=0.1, inplace=False)\n",
       "            )\n",
       "            (output): RobertaSelfOutput(\n",
       "              (dense): Linear(in_features=768, out_features=768, bias=True)\n",
       "              (LayerNorm): LayerNorm((768,), eps=1e-05, elementwise_affine=True)\n",
       "              (dropout): Dropout(p=0.1, inplace=False)\n",
       "            )\n",
       "          )\n",
       "          (intermediate): RobertaIntermediate(\n",
       "            (dense): Linear(in_features=768, out_features=3072, bias=True)\n",
       "            (intermediate_act_fn): GELUActivation()\n",
       "          )\n",
       "          (output): RobertaOutput(\n",
       "            (dense): Linear(in_features=3072, out_features=768, bias=True)\n",
       "            (LayerNorm): LayerNorm((768,), eps=1e-05, elementwise_affine=True)\n",
       "            (dropout): Dropout(p=0.1, inplace=False)\n",
       "          )\n",
       "        )\n",
       "        (5): RobertaLayer(\n",
       "          (attention): RobertaAttention(\n",
       "            (self): RobertaSelfAttention(\n",
       "              (query): Linear(in_features=768, out_features=768, bias=True)\n",
       "              (key): Linear(in_features=768, out_features=768, bias=True)\n",
       "              (value): Linear(in_features=768, out_features=768, bias=True)\n",
       "              (dropout): Dropout(p=0.1, inplace=False)\n",
       "            )\n",
       "            (output): RobertaSelfOutput(\n",
       "              (dense): Linear(in_features=768, out_features=768, bias=True)\n",
       "              (LayerNorm): LayerNorm((768,), eps=1e-05, elementwise_affine=True)\n",
       "              (dropout): Dropout(p=0.1, inplace=False)\n",
       "            )\n",
       "          )\n",
       "          (intermediate): RobertaIntermediate(\n",
       "            (dense): Linear(in_features=768, out_features=3072, bias=True)\n",
       "            (intermediate_act_fn): GELUActivation()\n",
       "          )\n",
       "          (output): RobertaOutput(\n",
       "            (dense): Linear(in_features=3072, out_features=768, bias=True)\n",
       "            (LayerNorm): LayerNorm((768,), eps=1e-05, elementwise_affine=True)\n",
       "            (dropout): Dropout(p=0.1, inplace=False)\n",
       "          )\n",
       "        )\n",
       "        (6): RobertaLayer(\n",
       "          (attention): RobertaAttention(\n",
       "            (self): RobertaSelfAttention(\n",
       "              (query): Linear(in_features=768, out_features=768, bias=True)\n",
       "              (key): Linear(in_features=768, out_features=768, bias=True)\n",
       "              (value): Linear(in_features=768, out_features=768, bias=True)\n",
       "              (dropout): Dropout(p=0.1, inplace=False)\n",
       "            )\n",
       "            (output): RobertaSelfOutput(\n",
       "              (dense): Linear(in_features=768, out_features=768, bias=True)\n",
       "              (LayerNorm): LayerNorm((768,), eps=1e-05, elementwise_affine=True)\n",
       "              (dropout): Dropout(p=0.1, inplace=False)\n",
       "            )\n",
       "          )\n",
       "          (intermediate): RobertaIntermediate(\n",
       "            (dense): Linear(in_features=768, out_features=3072, bias=True)\n",
       "            (intermediate_act_fn): GELUActivation()\n",
       "          )\n",
       "          (output): RobertaOutput(\n",
       "            (dense): Linear(in_features=3072, out_features=768, bias=True)\n",
       "            (LayerNorm): LayerNorm((768,), eps=1e-05, elementwise_affine=True)\n",
       "            (dropout): Dropout(p=0.1, inplace=False)\n",
       "          )\n",
       "        )\n",
       "        (7): RobertaLayer(\n",
       "          (attention): RobertaAttention(\n",
       "            (self): RobertaSelfAttention(\n",
       "              (query): Linear(in_features=768, out_features=768, bias=True)\n",
       "              (key): Linear(in_features=768, out_features=768, bias=True)\n",
       "              (value): Linear(in_features=768, out_features=768, bias=True)\n",
       "              (dropout): Dropout(p=0.1, inplace=False)\n",
       "            )\n",
       "            (output): RobertaSelfOutput(\n",
       "              (dense): Linear(in_features=768, out_features=768, bias=True)\n",
       "              (LayerNorm): LayerNorm((768,), eps=1e-05, elementwise_affine=True)\n",
       "              (dropout): Dropout(p=0.1, inplace=False)\n",
       "            )\n",
       "          )\n",
       "          (intermediate): RobertaIntermediate(\n",
       "            (dense): Linear(in_features=768, out_features=3072, bias=True)\n",
       "            (intermediate_act_fn): GELUActivation()\n",
       "          )\n",
       "          (output): RobertaOutput(\n",
       "            (dense): Linear(in_features=3072, out_features=768, bias=True)\n",
       "            (LayerNorm): LayerNorm((768,), eps=1e-05, elementwise_affine=True)\n",
       "            (dropout): Dropout(p=0.1, inplace=False)\n",
       "          )\n",
       "        )\n",
       "        (8): RobertaLayer(\n",
       "          (attention): RobertaAttention(\n",
       "            (self): RobertaSelfAttention(\n",
       "              (query): Linear(in_features=768, out_features=768, bias=True)\n",
       "              (key): Linear(in_features=768, out_features=768, bias=True)\n",
       "              (value): Linear(in_features=768, out_features=768, bias=True)\n",
       "              (dropout): Dropout(p=0.1, inplace=False)\n",
       "            )\n",
       "            (output): RobertaSelfOutput(\n",
       "              (dense): Linear(in_features=768, out_features=768, bias=True)\n",
       "              (LayerNorm): LayerNorm((768,), eps=1e-05, elementwise_affine=True)\n",
       "              (dropout): Dropout(p=0.1, inplace=False)\n",
       "            )\n",
       "          )\n",
       "          (intermediate): RobertaIntermediate(\n",
       "            (dense): Linear(in_features=768, out_features=3072, bias=True)\n",
       "            (intermediate_act_fn): GELUActivation()\n",
       "          )\n",
       "          (output): RobertaOutput(\n",
       "            (dense): Linear(in_features=3072, out_features=768, bias=True)\n",
       "            (LayerNorm): LayerNorm((768,), eps=1e-05, elementwise_affine=True)\n",
       "            (dropout): Dropout(p=0.1, inplace=False)\n",
       "          )\n",
       "        )\n",
       "        (9): RobertaLayer(\n",
       "          (attention): RobertaAttention(\n",
       "            (self): RobertaSelfAttention(\n",
       "              (query): Linear(in_features=768, out_features=768, bias=True)\n",
       "              (key): Linear(in_features=768, out_features=768, bias=True)\n",
       "              (value): Linear(in_features=768, out_features=768, bias=True)\n",
       "              (dropout): Dropout(p=0.1, inplace=False)\n",
       "            )\n",
       "            (output): RobertaSelfOutput(\n",
       "              (dense): Linear(in_features=768, out_features=768, bias=True)\n",
       "              (LayerNorm): LayerNorm((768,), eps=1e-05, elementwise_affine=True)\n",
       "              (dropout): Dropout(p=0.1, inplace=False)\n",
       "            )\n",
       "          )\n",
       "          (intermediate): RobertaIntermediate(\n",
       "            (dense): Linear(in_features=768, out_features=3072, bias=True)\n",
       "            (intermediate_act_fn): GELUActivation()\n",
       "          )\n",
       "          (output): RobertaOutput(\n",
       "            (dense): Linear(in_features=3072, out_features=768, bias=True)\n",
       "            (LayerNorm): LayerNorm((768,), eps=1e-05, elementwise_affine=True)\n",
       "            (dropout): Dropout(p=0.1, inplace=False)\n",
       "          )\n",
       "        )\n",
       "        (10): RobertaLayer(\n",
       "          (attention): RobertaAttention(\n",
       "            (self): RobertaSelfAttention(\n",
       "              (query): Linear(in_features=768, out_features=768, bias=True)\n",
       "              (key): Linear(in_features=768, out_features=768, bias=True)\n",
       "              (value): Linear(in_features=768, out_features=768, bias=True)\n",
       "              (dropout): Dropout(p=0.1, inplace=False)\n",
       "            )\n",
       "            (output): RobertaSelfOutput(\n",
       "              (dense): Linear(in_features=768, out_features=768, bias=True)\n",
       "              (LayerNorm): LayerNorm((768,), eps=1e-05, elementwise_affine=True)\n",
       "              (dropout): Dropout(p=0.1, inplace=False)\n",
       "            )\n",
       "          )\n",
       "          (intermediate): RobertaIntermediate(\n",
       "            (dense): Linear(in_features=768, out_features=3072, bias=True)\n",
       "            (intermediate_act_fn): GELUActivation()\n",
       "          )\n",
       "          (output): RobertaOutput(\n",
       "            (dense): Linear(in_features=3072, out_features=768, bias=True)\n",
       "            (LayerNorm): LayerNorm((768,), eps=1e-05, elementwise_affine=True)\n",
       "            (dropout): Dropout(p=0.1, inplace=False)\n",
       "          )\n",
       "        )\n",
       "        (11): RobertaLayer(\n",
       "          (attention): RobertaAttention(\n",
       "            (self): RobertaSelfAttention(\n",
       "              (query): Linear(in_features=768, out_features=768, bias=True)\n",
       "              (key): Linear(in_features=768, out_features=768, bias=True)\n",
       "              (value): Linear(in_features=768, out_features=768, bias=True)\n",
       "              (dropout): Dropout(p=0.1, inplace=False)\n",
       "            )\n",
       "            (output): RobertaSelfOutput(\n",
       "              (dense): Linear(in_features=768, out_features=768, bias=True)\n",
       "              (LayerNorm): LayerNorm((768,), eps=1e-05, elementwise_affine=True)\n",
       "              (dropout): Dropout(p=0.1, inplace=False)\n",
       "            )\n",
       "          )\n",
       "          (intermediate): RobertaIntermediate(\n",
       "            (dense): Linear(in_features=768, out_features=3072, bias=True)\n",
       "            (intermediate_act_fn): GELUActivation()\n",
       "          )\n",
       "          (output): RobertaOutput(\n",
       "            (dense): Linear(in_features=3072, out_features=768, bias=True)\n",
       "            (LayerNorm): LayerNorm((768,), eps=1e-05, elementwise_affine=True)\n",
       "            (dropout): Dropout(p=0.1, inplace=False)\n",
       "          )\n",
       "        )\n",
       "      )\n",
       "    )\n",
       "    (pooler): RobertaPooler(\n",
       "      (dense): Linear(in_features=768, out_features=768, bias=True)\n",
       "      (activation): Tanh()\n",
       "    )\n",
       "  )\n",
       "  (dropout): Dropout(p=0.3, inplace=False)\n",
       "  (linear): Linear(in_features=768, out_features=5, bias=True)\n",
       ")"
      ]
     },
     "execution_count": 19,
     "metadata": {},
     "output_type": "execute_result"
    }
   ],
   "source": [
    "# load roberta\n",
    "model_roberta=BERTClass(PRE_TRAINED_MODEL_NAME)\n",
    "model_roberta.load_state_dict(torch.load(CHECKPOINTPATH+f'_{PRE_TRAINED_MODEL_NAME}.bin'))\n",
    "model_roberta.eval()\n",
    "model_roberta.to(device)\n"
   ]
  },
  {
   "cell_type": "code",
   "execution_count": 20,
   "metadata": {},
   "outputs": [
    {
     "name": "stdout",
     "output_type": "stream",
     "text": [
      "Accuracy 0.5756756756756757\n",
      "Accuracy Scores {'cEXT': 0.5540540540540541, 'cNEU': 0.6054054054054054, 'cAGR': 0.5432432432432432, 'cCON': 0.5621621621621622, 'cOPN': 0.6135135135135135}\n",
      "classification_report              precision    recall  f1-score   support\n",
      "\n",
      "        cEXT       0.55      0.74      0.63       192\n",
      "        cNEU       0.60      0.56      0.58       178\n",
      "        cAGR       0.56      0.70      0.63       201\n",
      "        cCON       0.57      0.67      0.61       192\n",
      "        cOPN       0.58      0.70      0.64       178\n",
      "\n",
      "   micro avg       0.57      0.68      0.62       941\n",
      "   macro avg       0.57      0.68      0.62       941\n",
      "weighted avg       0.57      0.68      0.62       941\n",
      " samples avg       0.58      0.66      0.57       941\n",
      "\n"
     ]
    },
    {
     "name": "stderr",
     "output_type": "stream",
     "text": [
      "/usr/local/lib/python3.9/dist-packages/sklearn/metrics/_classification.py:1334: UndefinedMetricWarning: Recall and F-score are ill-defined and being set to 0.0 in samples with no true labels. Use `zero_division` parameter to control this behavior.\n",
      "  _warn_prf(average, modifier, msg_start, len(result))\n"
     ]
    },
    {
     "data": {
      "text/plain": [
       "(0.5756756756756757,\n",
       " <function sklearn.metrics._classification.accuracy_score(y_true, y_pred, *, normalize=True, sample_weight=None)>,\n",
       " '              precision    recall  f1-score   support\\n\\n        cEXT       0.55      0.74      0.63       192\\n        cNEU       0.60      0.56      0.58       178\\n        cAGR       0.56      0.70      0.63       201\\n        cCON       0.57      0.67      0.61       192\\n        cOPN       0.58      0.70      0.64       178\\n\\n   micro avg       0.57      0.68      0.62       941\\n   macro avg       0.57      0.68      0.62       941\\nweighted avg       0.57      0.68      0.62       941\\n samples avg       0.58      0.66      0.57       941\\n')"
      ]
     },
     "execution_count": 20,
     "metadata": {},
     "output_type": "execute_result"
    }
   ],
   "source": [
    "# get metrics for both models\n",
    "get_metrics(model_roberta,test_data_loader,\"roberta\")"
   ]
  },
  {
   "cell_type": "markdown",
   "metadata": {},
   "source": [
    "### ATTENTION GRADS:"
   ]
  },
  {
   "cell_type": "code",
   "execution_count": 21,
   "metadata": {},
   "outputs": [],
   "source": [
    "# get the predictions for the test data\n",
    "text,predictions,predictions_probs, real_values=get_predictions(model_roberta,test_data_loader,\"roberta\")"
   ]
  },
  {
   "cell_type": "code",
   "execution_count": 22,
   "metadata": {},
   "outputs": [
    {
     "name": "stdout",
     "output_type": "stream",
     "text": [
      "Truely predicted essay: I am sitting in my room watching the sandlot Alessandra my roommate is here too She Is getting ready to go home for the weekend Shelley and Liz are both going home to They offered me a ride but I Am not going to go because I went home last weekend and I do not want to go home two weekends in a row Although I would really like to see Jordan my boyfriend Hes at work right now and I Am waiting for him to call The sandlot is on the part where Benny decides to jump the fence and get the baseball back from the neighbors yard I Have seen this movie a thousand times the next thing to happen will be the dog chasing all the boys all around the town This is probably one of my favorite baseball movies My favorite of all time is definitely Field of Dreams I always cry in the end where Kevin Costners character plays catch with his dad They did not get along when he was younger and he never got to say that he was sorry for everything before he died My dad and I have been getting along a lot more lately than we have been I know that I would regret it if I just gave up on us getting along and said fuck it so I Am glad we are at least trying to work things out He apologized to Jordan this weekend for all the things he said to him this summer Jordan came over and they had a talk on the back porch I stayed inside and folded laundry because I felt awkward and tense about the whole thing But apparently it went alright I need to talk to my dad and tell him that I appreciate him doing that I forgot to before Actually I just realized now that that is something I need to do Probably should have said it earlier I hope I did not hurt his feelings Oh well like I said I felt awkward about the whole thing in general Which reminds me of a funny awkward moment I had today I was at the Union with Shelley and I went to the bathroom Another girl was going in just as I was and this made my shy bladder act up She went into one stall I went into the other and I just could not go Well she was not going either apparently so we both just sat there for about a minute I was trying hard to relax and finally I peed a little but then it stopped So the girl pees a little and I pee a little more but I still cannot go all the way I guess she gave up because I heard the toilet flush and she left so I was finally able to go I went back to Shelley and told her the story We were cracking up in the quietness of the Union 3rd floor We started talking about Alexs engagement again which I feel guilty about because I am usually not the type to gossip but its hard to avoid talking about it Before I saw Alexs ring which is her grandmothers Joe did not buy it Shelley told me that it was 1 7 carats which is pretty impressive but then I saw it and looked at it closely and its not that great Its color is not that good and it has a gigantic flaw in the side which I suppose Alex either has not seen or is just pretending that she cannot see it Jordan just called and I told him I need to call him back in eight minutes Anyway Alex is being really unrealistic about the whole engagement wedding thing She wants to get all these diamonds and a new setting for her ring and she is looking at dresses that are 30000 dollar designer dresses and the whole thing is just like a little girl planning some fantasy wedding She does not seem to realize that the average middle class family cannot afford something like that But who knows maybe her parents have more money than I think Also I do not know how seriously her parents have been taken her engagement She Is only been with Joe for about two months I can hardly think about my future with Jordan now and I definitely could not have thought about it after two months The only thing I can say is that if were still together when I graduate Ill probably marry him But I find myself thinking a lot that I want to be single and I want to do all these things like travel and study aboard and maybe live in New York and if someone is going to hold me back from those things then I have to wonder if that is the person from me I love him so much but I also feel like I might be holding on to him because hes my first love and all that Hes such a great person though I hope no matter what happens that he will always be in my life I just do not want to break his heart or have my heart broken I hope when it stops working it just stops working for both of us and we can still be friends Well I have ten seconds left so I think I Am going to call him now   \n",
      "Columns: ['cEXT', 'cNEU', 'cAGR', 'cCON', 'cOPN']\n",
      "Predictions: tensor([1., 0., 1., 1., 1.])\n",
      "Real values: tensor([1., 0., 1., 1., 1.])\n"
     ]
    }
   ],
   "source": [
    "# get the first truely predicted essay\n",
    "truely_predicted_essay=None\n",
    "for i in range(len(predictions)):\n",
    "    if torch.all(predictions[i]==real_values[i])==True:\n",
    "        print(f'Truely predicted essay: {text[i]}')\n",
    "        # print column names\n",
    "        print(f'Columns: {target_list}')\n",
    "        print(f'Predictions: {predictions[i]}')\n",
    "        print(f'Real values: {real_values[i]}')\n",
    "        truely_predicted_essay=text[i]\n",
    "        break  \n"
   ]
  },
  {
   "cell_type": "code",
   "execution_count": 23,
   "metadata": {},
   "outputs": [],
   "source": [
    "# get the model attention\n",
    "def get_attention(model,text):\n",
    "    model.eval()\n",
    "    \n",
    "    inputs = tokenizer.encode_plus(\n",
    "        text,\n",
    "        max_length=MAX_LEN,\n",
    "        padding='max_length',\n",
    "        truncation=True,\n",
    "        return_attention_mask=True,\n",
    "        return_token_type_ids=True,\n",
    "        return_tensors='pt'\n",
    "    )\n",
    "    ids = inputs['input_ids'].to(device, dtype = torch.long)\n",
    "    mask = inputs['attention_mask'].to(device, dtype = torch.long)\n",
    "    token_type_ids = inputs['token_type_ids'].to(device, dtype = torch.long)\n",
    "    outputs,attentions = model(ids, mask, token_type_ids)\n",
    "    # outputs = torch.sigmoid(outputs)\n",
    "    return attentions,outputs,inputs"
   ]
  },
  {
   "cell_type": "code",
   "execution_count": 24,
   "metadata": {},
   "outputs": [
    {
     "data": {
      "text/plain": [
       "tensor([[ 0.2584, -0.1485,  0.2386,  0.0760,  0.1333]], device='cuda:0',\n",
       "       grad_fn=<AddmmBackward0>)"
      ]
     },
     "execution_count": 24,
     "metadata": {},
     "output_type": "execute_result"
    }
   ],
   "source": [
    "attentions,output,inputs=get_attention(model_roberta,truely_predicted_essay)\n",
    "output"
   ]
  },
  {
   "cell_type": "code",
   "execution_count": 25,
   "metadata": {},
   "outputs": [
    {
     "data": {
      "text/plain": [
       "torch.Size([1, 12, 512, 512])"
      ]
     },
     "execution_count": 25,
     "metadata": {},
     "output_type": "execute_result"
    }
   ],
   "source": [
    "# last attention layer shape\n",
    "attentions[-1].shape # (batch_size, num_heads, seq_len, seq_len)"
   ]
  },
  {
   "cell_type": "code",
   "execution_count": 26,
   "metadata": {},
   "outputs": [
    {
     "data": {
      "text/plain": [
       "torch.Size([1, 12, 512, 512])"
      ]
     },
     "execution_count": 26,
     "metadata": {},
     "output_type": "execute_result"
    }
   ],
   "source": [
    "# get the attention gradients for the last layer\n",
    "attentions_grad = torch.autograd.grad(outputs=output, inputs=attentions[-1], grad_outputs=torch.ones_like(output), retain_graph=True)[0]\n",
    "attentions_grad.shape"
   ]
  },
  {
   "cell_type": "code",
   "execution_count": 27,
   "metadata": {},
   "outputs": [
    {
     "data": {
      "text/plain": [
       "torch.Size([1, 12, 512, 512])"
      ]
     },
     "execution_count": 27,
     "metadata": {},
     "output_type": "execute_result"
    }
   ],
   "source": [
    "# calculate the relevance scores (-gradient * attention)\n",
    "relevance_scores = -attentions_grad * attentions[-1]\n",
    "relevance_scores.shape"
   ]
  },
  {
   "cell_type": "code",
   "execution_count": 28,
   "metadata": {},
   "outputs": [
    {
     "data": {
      "text/plain": [
       "torch.Size([512, 512])"
      ]
     },
     "execution_count": 28,
     "metadata": {},
     "output_type": "execute_result"
    }
   ],
   "source": [
    "# average the relevance scores over the heads\n",
    "relevance_scores = relevance_scores.mean(dim=1).squeeze(0)\n",
    "relevance_scores.shape"
   ]
  },
  {
   "cell_type": "code",
   "execution_count": 29,
   "metadata": {},
   "outputs": [
    {
     "data": {
      "text/plain": [
       "torch.Size([512])"
      ]
     },
     "execution_count": 29,
     "metadata": {},
     "output_type": "execute_result"
    }
   ],
   "source": [
    "# sum the relevance scores over the tokens\n",
    "relevance_scores = relevance_scores.sum(dim=0)\n",
    "relevance_scores.shape"
   ]
  },
  {
   "cell_type": "code",
   "execution_count": 30,
   "metadata": {},
   "outputs": [
    {
     "data": {
      "text/plain": [
       "(510, torch.Size([510]))"
      ]
     },
     "execution_count": 30,
     "metadata": {},
     "output_type": "execute_result"
    }
   ],
   "source": [
    "# get the tokens\n",
    "tokens = tokenizer.convert_ids_to_tokens(inputs['input_ids'].squeeze(0))\n",
    "# remove the padding tokens using attention mask\n",
    "attention_mask = inputs['attention_mask'].squeeze(0)\n",
    "tokens = [token for token, mask in zip(tokens, attention_mask) if mask != 0]\n",
    "relevance_scores_final=relevance_scores[:len(tokens)]\n",
    "# remove the special tokens\n",
    "tokens = tokens[1:-1]\n",
    "relevance_scores_final = relevance_scores_final[1:-1]\n",
    "len(tokens),relevance_scores_final.shape"
   ]
  },
  {
   "cell_type": "code",
   "execution_count": 31,
   "metadata": {},
   "outputs": [
    {
     "data": {
      "text/plain": [
       "(torch.return_types.topk(\n",
       " values=tensor([0.0005, 0.0004, 0.0002, 0.0002, 0.0002], device='cuda:0',\n",
       "        grad_fn=<TopkBackward0>),\n",
       " indices=tensor([144, 128,  10, 154,  99], device='cuda:0')),\n",
       " torch.return_types.topk(\n",
       " values=tensor([-0.0013, -0.0007, -0.0005, -0.0004, -0.0004], device='cuda:0',\n",
       "        grad_fn=<TopkBackward0>),\n",
       " indices=tensor([ 11, 195,   9,  97,   7], device='cuda:0')))"
      ]
     },
     "execution_count": 31,
     "metadata": {},
     "output_type": "execute_result"
    }
   ],
   "source": [
    "# get the tokens and relevance scores for the highest 5 relevance scores and the lowest 5 relevance scores\n",
    "highest_relevance_scores = relevance_scores_final.topk(5)\n",
    "lowest_relevance_scores = relevance_scores_final.topk(5, largest=False)\n",
    "highest_relevance_scores,lowest_relevance_scores"
   ]
  },
  {
   "cell_type": "code",
   "execution_count": 32,
   "metadata": {},
   "outputs": [
    {
     "name": "stdout",
     "output_type": "stream",
     "text": [
      "Ġbaseball : 0.0005011267494410276\n",
      "Ġdog : 0.00035388575633987784\n",
      "ĠAless : 0.00021983965416438878\n",
      "Ġof : 0.00018301402451470494\n",
      "Ġto : 0.00015080792945809662\n"
     ]
    }
   ],
   "source": [
    "# print the list of values for the highest relevance scores\n",
    "for i in range(len(highest_relevance_scores.indices)):\n",
    "    print(f'{tokens[highest_relevance_scores.indices[i]]} : {highest_relevance_scores.values[i]}')"
   ]
  },
  {
   "cell_type": "code",
   "execution_count": null,
   "metadata": {},
   "outputs": [
    {
     "ename": "",
     "evalue": "",
     "output_type": "error",
     "traceback": [
      "\u001b[1;31mFailed to connect to the remote Jupyter Server 'https://ntk1jje3xl.clg07azjl.paperspacegradient.com/'. Verify the server is running and reachable."
     ]
    }
   ],
   "source": [
    "# concatenate the highest and lowest relevance scores\n",
    "relevance_scores_graph=torch.cat([highest_relevance_scores.values,lowest_relevance_scores.values])\n",
    "# get the words for the highest and lowest relevance scores\n",
    "tokens_graph=torch.cat([highest_relevance_scores.indices,lowest_relevance_scores.indices])\n",
    "# get the input ids for the tokens in tokens graph and decode\n",
    "input_ids=inputs['input_ids'].squeeze(0)\n",
    "tokens_graph=[tokenizer.decode(input_ids[token]) for token in tokens_graph]\n",
    "print(tokens_graph)\n",
    "# change to numpy arrays\n",
    "relevance_scores_graph=relevance_scores_graph.cpu().detach().numpy()\n",
    "tokens_graph=tokens_graph"
   ]
  },
  {
   "cell_type": "code",
   "execution_count": null,
   "metadata": {},
   "outputs": [
    {
     "data": {
      "image/png": "[encoded data removed]",
      "text/plain": [
       "<Figure size 1000x500 with 1 Axes>"
      ]
     },
     "metadata": {},
     "output_type": "display_data"
    }
   ],
   "source": [
    "import matplotlib.pyplot as plt\n",
    "\n",
    "# plot the relevance scores\n",
    "\n",
    "plt.figure(figsize=(10,5))\n",
    "plt.bar(tokens_graph, relevance_scores_graph, color='blue')\n",
    "plt.xticks(tokens_graph, tokens_graph, rotation='vertical')\n",
    "plt.ylabel('Relevance score')\n",
    "plt.xlabel('Token')\n",
    "plt.title('Relevance scores for the tokens')\n",
    "plt.grid(True)\n",
    "plt.show()"
   ]
  },
  {
   "cell_type": "code",
   "execution_count": null,
   "metadata": {},
   "outputs": [
    {
     "data": {
      "image/png": "[encoded data removed]",
      "text/plain": [
       "<Figure size 640x480 with 2 Axes>"
      ]
     },
     "metadata": {},
     "output_type": "display_data"
    }
   ],
   "source": [
    "plt.imshow(attentions[-1].squeeze(0)[-1].cpu().detach().numpy(), cmap='viridis', aspect='auto')\n",
    "plt.xlabel(\"Tokens\")\n",
    "plt.ylabel(\"Tokens\")\n",
    "plt.title(\"Attention Weights Heatmap\")\n",
    "plt.colorbar()\n",
    "plt.show()"
   ]
  }
 ],
 "metadata": {
  "kernelspec": {
   "display_name": "Python 3 (ipykernel)",
   "language": "python",
   "name": "python3"
  },
  "language_info": {
   "name": "python",
   "version": "3.11.4"
  }
 },
 "nbformat": 4,
 "nbformat_minor": 2
}
