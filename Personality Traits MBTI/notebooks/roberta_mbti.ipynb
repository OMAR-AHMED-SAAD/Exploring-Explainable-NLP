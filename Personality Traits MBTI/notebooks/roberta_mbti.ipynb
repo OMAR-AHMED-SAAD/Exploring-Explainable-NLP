{
 "cells": [
  {
   "cell_type": "code",
   "execution_count": 1,
   "metadata": {},
   "outputs": [
    {
     "name": "stdout",
     "output_type": "stream",
     "text": [
      "Sun Mar 31 13:08:11 2024       \n",
      "+-----------------------------------------------------------------------------+\n",
      "| NVIDIA-SMI 525.116.04   Driver Version: 525.116.04   CUDA Version: 12.0     |\n",
      "|-------------------------------+----------------------+----------------------+\n",
      "| GPU  Name        Persistence-M| Bus-Id        Disp.A | Volatile Uncorr. ECC |\n",
      "| Fan  Temp  Perf  Pwr:Usage/Cap|         Memory-Usage | GPU-Util  Compute M. |\n",
      "|                               |                      |               MIG M. |\n",
      "|===============================+======================+======================|\n",
      "|   0  Quadro P5000        Off  | 00000000:00:05.0 Off |                  Off |\n",
      "| 26%   37C    P8     7W / 180W |      2MiB / 16384MiB |      0%      Default |\n",
      "|                               |                      |                  N/A |\n",
      "+-------------------------------+----------------------+----------------------+\n",
      "                                                                               \n",
      "+-----------------------------------------------------------------------------+\n",
      "| Processes:                                                                  |\n",
      "|  GPU   GI   CI        PID   Type   Process name                  GPU Memory |\n",
      "|        ID   ID                                                   Usage      |\n",
      "|=============================================================================|\n",
      "|  No running processes found                                                 |\n",
      "+-----------------------------------------------------------------------------+\n"
     ]
    }
   ],
   "source": [
    "!nvidia-smi"
   ]
  },
  {
   "cell_type": "markdown",
   "metadata": {},
   "source": [
    "## Roberta Base Model"
   ]
  },
  {
   "cell_type": "code",
   "execution_count": 2,
   "metadata": {},
   "outputs": [],
   "source": [
    "import os\n",
    "import pandas as pd\n",
    "import numpy as np\n",
    "\n",
    "import torch\n",
    "import torch.nn as nn\n",
    "import torch.optim as optim\n",
    "from torch.utils.data import Dataset, DataLoader, random_split\n",
    "\n",
    "from transformers import AutoTokenizer, AutoModel\n",
    "import tqdm.notebook as tq\n",
    "\n",
    "from utils import saveHistory,printHistory, plot_training_history,get_metrics,get_predictions\n",
    "\n"
   ]
  },
  {
   "cell_type": "code",
   "execution_count": 3,
   "metadata": {},
   "outputs": [
    {
     "data": {
      "application/vnd.jupyter.widget-view+json": {
       "model_id": "3cec7324f59d497dbe3f960c4095ec33",
       "version_major": 2,
       "version_minor": 0
      },
      "text/plain": [
       "Downloading tokenizer_config.json:   0%|          | 0.00/25.0 [00:00<?, ?B/s]"
      ]
     },
     "metadata": {},
     "output_type": "display_data"
    },
    {
     "data": {
      "application/vnd.jupyter.widget-view+json": {
       "model_id": "9a97d8fbe5bd42e0a58bd73968fb420f",
       "version_major": 2,
       "version_minor": 0
      },
      "text/plain": [
       "Downloading config.json:   0%|          | 0.00/481 [00:00<?, ?B/s]"
      ]
     },
     "metadata": {},
     "output_type": "display_data"
    },
    {
     "data": {
      "application/vnd.jupyter.widget-view+json": {
       "model_id": "cfc42cab031e402da7a19b3c2be1f532",
       "version_major": 2,
       "version_minor": 0
      },
      "text/plain": [
       "Downloading vocab.json:   0%|          | 0.00/878k [00:00<?, ?B/s]"
      ]
     },
     "metadata": {},
     "output_type": "display_data"
    },
    {
     "data": {
      "application/vnd.jupyter.widget-view+json": {
       "model_id": "c579463a229240a5aa56527f36b9667f",
       "version_major": 2,
       "version_minor": 0
      },
      "text/plain": [
       "Downloading merges.txt:   0%|          | 0.00/446k [00:00<?, ?B/s]"
      ]
     },
     "metadata": {},
     "output_type": "display_data"
    },
    {
     "data": {
      "application/vnd.jupyter.widget-view+json": {
       "model_id": "8a58d7963e294f8cb96587d61ffc4ca2",
       "version_major": 2,
       "version_minor": 0
      },
      "text/plain": [
       "Downloading tokenizer.json:   0%|          | 0.00/1.29M [00:00<?, ?B/s]"
      ]
     },
     "metadata": {},
     "output_type": "display_data"
    }
   ],
   "source": [
    "# setting the model name\n",
    "PRE_TRAINED_MODEL_NAME = 'roberta-base'\n",
    "\n",
    "# setting the dataset\n",
    "dataset='MBTI 500 multi_label.csv'\n",
    "\n",
    "# setting the data path\n",
    "if os.path.exists(f'/datasets/mbti/{dataset}'):\n",
    "    DATAPATH=f'/datasets/mbti/{dataset}'\n",
    "else:\n",
    "    DATAPATH=f'../data/{dataset}'\n",
    "\n",
    "# setting the checkpoint path \n",
    "if os.path.exists('ckpts'):\n",
    "    CHECKPOINTPATH = 'ckpts/Persnality_MBTI'\n",
    "else:\n",
    "    CHECKPOINTPATH = '../ckpts/Persnality_MBTI'\n",
    "\n",
    "# training parameters\n",
    "MAX_LEN = 512\n",
    "TRAIN_BATCH_SIZE = 20\n",
    "VALID_BATCH_SIZE = 16\n",
    "TEST_BATCH_SIZE = 16\n",
    "EPOCHS = 10\n",
    "THRESHOLD = 0.5 # threshold for the sigmoid function\n",
    "\n",
    "# TOKENIZER\n",
    "tokenizer = AutoTokenizer.from_pretrained(PRE_TRAINED_MODEL_NAME)\n",
    "\n",
    "# setting the device\n",
    "device = torch.device(\"cuda\" if torch.cuda.is_available() else \"cpu\")\n",
    "\n",
    "# setting the random seed\n",
    "torch.manual_seed(99)\n",
    "torch.cuda.manual_seed(99)\n",
    "torch.cuda.manual_seed_all(99)\n",
    "np.random.seed(99)"
   ]
  },
  {
   "cell_type": "code",
   "execution_count": 4,
   "metadata": {},
   "outputs": [
    {
     "data": {
      "text/plain": [
       "('/datasets/mbti/MBTI 500 multi_label.csv', 'ckpts/Persnality_MBTI')"
      ]
     },
     "execution_count": 4,
     "metadata": {},
     "output_type": "execute_result"
    }
   ],
   "source": [
    "DATAPATH,CHECKPOINTPATH"
   ]
  },
  {
   "cell_type": "markdown",
   "metadata": {},
   "source": [
    "### Loading the Data"
   ]
  },
  {
   "cell_type": "code",
   "execution_count": 5,
   "metadata": {},
   "outputs": [],
   "source": [
    "# load the data\n",
    "data = pd.read_csv(DATAPATH,encoding='utf-8')"
   ]
  },
  {
   "cell_type": "code",
   "execution_count": 47,
   "metadata": {},
   "outputs": [],
   "source": [
    "# create the dataset class\n",
    "class MBTIDataset(Dataset):\n",
    "    def __init__(self, data, labels_list, tokenizer, max_len):\n",
    "        self.data = data\n",
    "        self.tokenizer = tokenizer\n",
    "        self.max_len = max_len\n",
    "        self.targets = self.data[labels_list].values\n",
    "        \n",
    "    def __len__(self):\n",
    "        return len(self.data)\n",
    "    \n",
    "    def __getitem__(self, index):\n",
    "        text=self.data.posts[index]\n",
    "        encoding = self.tokenizer.encode_plus(\n",
    "            text,\n",
    "            add_special_tokens=True,\n",
    "            max_length=self.max_len,\n",
    "            return_token_type_ids=True,\n",
    "            padding='max_length',\n",
    "            return_attention_mask=True,\n",
    "            return_tensors='pt',\n",
    "            truncation=True,\n",
    "        )\n",
    "        return {\n",
    "            'text': text,\n",
    "            'input_ids': encoding['input_ids'].flatten(),\n",
    "            'attention_mask': encoding['attention_mask'].flatten(),\n",
    "            'token_type_ids': encoding['token_type_ids'].flatten(),\n",
    "            'targets': torch.tensor(self.targets[index], dtype=torch.float)\n",
    "        }"
   ]
  },
  {
   "cell_type": "code",
   "execution_count": 7,
   "metadata": {},
   "outputs": [
    {
     "name": "stdout",
     "output_type": "stream",
     "text": [
      "Labels list: ['IE', 'NS', 'TF', 'JP']\n"
     ]
    }
   ],
   "source": [
    "# get the labels list\n",
    "labels_list = data.columns[2:].tolist()\n",
    "print(f'Labels list: {labels_list}')"
   ]
  },
  {
   "cell_type": "code",
   "execution_count": 8,
   "metadata": {},
   "outputs": [],
   "source": [
    "# create the dataset\n",
    "dataset = MBTIDataset(data, labels_list, tokenizer, MAX_LEN)\n",
    "\n",
    "# split the data\n",
    "train_size = int(0.8 * len(dataset))\n",
    "val_size = int(0.1 * len(dataset))\n",
    "test_size = len(dataset) - train_size - val_size\n",
    "\n",
    "train_dataset, val_dataset, test_dataset = random_split(dataset, [train_size, val_size, test_size])\n",
    "\n",
    "# create the data loaders\n",
    "train_data_loader = DataLoader(train_dataset, batch_size=TRAIN_BATCH_SIZE, shuffle=True)\n",
    "val_data_loader = DataLoader(val_dataset, batch_size=VALID_BATCH_SIZE, shuffle=True)\n",
    "test_data_loader = DataLoader(test_dataset, batch_size=TEST_BATCH_SIZE, shuffle=True)"
   ]
  },
  {
   "cell_type": "code",
   "execution_count": 9,
   "metadata": {},
   "outputs": [
    {
     "data": {
      "text/plain": [
       "(torch.Size([20, 512]), torch.Size([20, 512]), torch.Size([20, 4]))"
      ]
     },
     "execution_count": 9,
     "metadata": {},
     "output_type": "execute_result"
    }
   ],
   "source": [
    "batch=next(iter(train_data_loader))\n",
    "batch['input_ids'].shape, batch['attention_mask'].shape, batch['targets'].shape"
   ]
  },
  {
   "cell_type": "code",
   "execution_count": 10,
   "metadata": {},
   "outputs": [],
   "source": [
    "# batch"
   ]
  },
  {
   "cell_type": "code",
   "execution_count": 11,
   "metadata": {},
   "outputs": [],
   "source": [
    "class ROBERTAClass(torch.nn.Module):\n",
    "    def __init__(self, PRE_TRAINED_MODEL_NAME, num_classes=4, dropout=0.3):\n",
    "        super(ROBERTAClass, self).__init__()\n",
    "        self.bert_model = AutoModel.from_pretrained(PRE_TRAINED_MODEL_NAME, return_dict=True, output_attentions=True)\n",
    "        self.dropout = torch.nn.Dropout(dropout)\n",
    "        self.linear = torch.nn.Linear(768, num_classes)\n",
    "\n",
    "    def forward(self, input_ids, attn_mask, token_type_ids):\n",
    "        output = self.bert_model(\n",
    "            input_ids, \n",
    "            attention_mask=attn_mask, \n",
    "            token_type_ids=token_type_ids\n",
    "        )\n",
    "        output_dropout = self.dropout(output.pooler_output)\n",
    "        output = self.linear(output_dropout)\n",
    "        return output\n",
    "    def getAttention(self, input_ids, attn_mask, token_type_ids):\n",
    "        output = self.bert_model(\n",
    "            input_ids, \n",
    "            attention_mask=attn_mask, \n",
    "            token_type_ids=token_type_ids\n",
    "        )\n",
    "        return output.attentions\n",
    "    def getPrediction(self, output):\n",
    "        # apply sigmoid function and round the result\n",
    "        prediction=torch.sigmoid(output)\n",
    "        prediction=torch.round(prediction)\n",
    "        return prediction"
   ]
  },
  {
   "cell_type": "code",
   "execution_count": 12,
   "metadata": {},
   "outputs": [],
   "source": [
    "# train the model for one epoch\n",
    "def train_epoch(dataloader, model, loss_fn, optimizer, scheduler=None):\n",
    "    model = model.train()\n",
    "    losses = []\n",
    "    correct_predictions = 0\n",
    "    sample_size=0\n",
    "\n",
    "    loop = tq.tqdm(enumerate(dataloader), total=len(dataloader), \n",
    "                      leave=True, colour='steelblue')\n",
    "\n",
    "    for _,d in loop:\n",
    "\n",
    "        # get the input data\n",
    "        input_ids = d[\"input_ids\"].to(device, dtype = torch.long)\n",
    "        attention_mask = d[\"attention_mask\"].to(device, dtype = torch.long)\n",
    "        token_type_ids = d[\"token_type_ids\"].to(device, dtype = torch.long)\n",
    "\n",
    "        # get the targets\n",
    "        targets = d[\"targets\"].to(device)\n",
    "\n",
    "        # get the outputs\n",
    "        outputs = model(input_ids=input_ids, attn_mask=attention_mask, token_type_ids=token_type_ids)\n",
    "        loss = loss_fn(outputs, targets)\n",
    "\n",
    "        # backward pass\n",
    "        optimizer.zero_grad()\n",
    "        loss.backward()\n",
    "        nn.utils.clip_grad_norm_(model.parameters(), max_norm=2.0)\n",
    "\n",
    "        # grad descent step\n",
    "        optimizer.step()\n",
    "        if scheduler is not None:\n",
    "            scheduler.step()\n",
    "       \n",
    "        # get the predictions and update the correct predictions\n",
    "        preds=model.getPrediction(outputs)\n",
    "        correct_predictions += torch.sum(preds == targets).item()\n",
    "        sample_size+=targets.cpu().detach().numpy().size\n",
    "        losses.append(loss.item())\n",
    "\n",
    "        # get the accuracy and loss\n",
    "    return correct_predictions *1.0 / sample_size, np.mean(losses)"
   ]
  },
  {
   "cell_type": "code",
   "execution_count": 13,
   "metadata": {},
   "outputs": [],
   "source": [
    "# evaluate the model\n",
    "\n",
    "def eval_model(dataloader, model, loss_fn):\n",
    "    model = model.eval()\n",
    "    losses = []\n",
    "    correct_predictions = 0\n",
    "    sample_size=0\n",
    "    with torch.no_grad():\n",
    "        for _,d in enumerate(dataloader, 0):\n",
    "            input_ids = d[\"input_ids\"].to(device, dtype = torch.long)\n",
    "            attention_mask = d[\"attention_mask\"].to(device, dtype = torch.long)\n",
    "            token_type_ids = d[\"token_type_ids\"].to(device, dtype = torch.long)\n",
    "            targets = d[\"targets\"].to(device, dtype=torch.float)\n",
    "\n",
    "            outputs = model(input_ids=input_ids, attn_mask=attention_mask, token_type_ids=token_type_ids)\n",
    "           \n",
    "            loss = loss_fn(outputs, targets)\n",
    "            preds=model.getPrediction(outputs)\n",
    "            correct_predictions += torch.sum(preds == targets).item()\n",
    "            sample_size+=targets.cpu().detach().numpy().size\n",
    "            losses.append(loss.item())\n",
    "            \n",
    "    return correct_predictions * 1.0 / sample_size, np.mean(losses)"
   ]
  },
  {
   "cell_type": "code",
   "execution_count": 13,
   "metadata": {},
   "outputs": [],
   "source": [
    "# BCEWithLogitsLoss combines a Sigmoid layer and the BCELoss in one single class. \n",
    "def loss_fn(outputs, targets):\n",
    "    return nn.BCEWithLogitsLoss()(outputs, targets)"
   ]
  },
  {
   "cell_type": "code",
   "execution_count": 15,
   "metadata": {},
   "outputs": [],
   "source": [
    "import torch\n",
    "import os\n",
    "\n",
    "def save_checkpoint(model, optimizer, epoch, best_val_loss, best_accuracy, checkpoint_path,history):\n",
    "    checkpoint = {\n",
    "        'epoch': epoch,\n",
    "        'model_state_dict': model.state_dict(),\n",
    "        'optimizer_state_dict': optimizer.state_dict(),\n",
    "        'best_val_loss': best_val_loss,\n",
    "        'best_accuracy': best_accuracy,\n",
    "        'history': history\n",
    "    }\n",
    "    torch.save(checkpoint, checkpoint_path)\n",
    "\n",
    "def load_checkpoint(model, optimizer, checkpoint_path):\n",
    "    if not os.path.exists(checkpoint_path):\n",
    "        raise FileNotFoundError(f\"Checkpoint file '{checkpoint_path}' not found.\")\n",
    "    \n",
    "    checkpoint = torch.load(checkpoint_path)\n",
    "    model.load_state_dict(checkpoint['model_state_dict'])\n",
    "    optimizer.load_state_dict(checkpoint['optimizer_state_dict'])\n",
    "    epoch = checkpoint['epoch']\n",
    "    best_val_loss = checkpoint['best_val_loss']\n",
    "    best_accuracy = checkpoint['best_accuracy']\n",
    "    history = checkpoint['history']\n",
    "    \n",
    "    return model, optimizer, epoch, best_val_loss, best_accuracy, history"
   ]
  },
  {
   "cell_type": "code",
   "execution_count": 16,
   "metadata": {},
   "outputs": [],
   "source": [
    "from collections import defaultdict\n",
    "\n",
    "def train(PRE_TRAINED_MODEL_NAME, model_name, early_stopping_patience=3,resume_training=False):\n",
    "    model = ROBERTAClass(PRE_TRAINED_MODEL_NAME)\n",
    "    model.to(device)\n",
    "\n",
    "    # Setting the optimizer\n",
    "    optimizer = torch.optim.Adam(model.parameters(), lr=1e-5)    \n",
    "\n",
    "    history = defaultdict(list)\n",
    "    best_accuracy = 0\n",
    "    best_val_loss = float('inf')\n",
    "    epochs_without_improvement = 0  # Counter for tracking consecutive epochs without improvement\n",
    "\n",
    "    if resume_training:\n",
    "        model, optimizer, start_epoch, best_val_loss, best_accuracy,history = load_checkpoint(model, optimizer, CHECKPOINTPATH + f'_Best_{PRE_TRAINED_MODEL_NAME}.bin')\n",
    "        start_epoch += 1  # Start from the next epoch\n",
    "\n",
    "    print(f'{PRE_TRAINED_MODEL_NAME}')\n",
    "    for epoch in range(1, EPOCHS + 1):\n",
    "        print(f'Epoch {epoch}/{EPOCHS}')\n",
    "        train_acc, train_loss= train_epoch(train_data_loader,model,loss_fn,optimizer)\n",
    "        val_acc, val_loss=eval_model(val_data_loader,model,loss_fn)\n",
    "\n",
    "        print(f'train_loss={train_loss:.4f}, val_loss={val_loss:.4f} train_acc={train_acc:.4f}, val_acc={val_acc:.4f}')\n",
    "\n",
    "        history['train_acc'].append(train_acc)\n",
    "        history['train_loss'].append(train_loss)\n",
    "        history['val_acc'].append(val_acc)\n",
    "        history['val_loss'].append(val_loss)\n",
    "\n",
    "        \n",
    "        # Check for early stopping\n",
    "        if val_loss < best_val_loss:\n",
    "            best_val_loss = val_loss\n",
    "            epochs_without_improvement = 0\n",
    "            # Save the best model\n",
    "            torch.save(model.state_dict(), CHECKPOINTPATH + f'_Best_{PRE_TRAINED_MODEL_NAME}.bin')\n",
    "            best_accuracy = val_acc\n",
    "            save_checkpoint(model, optimizer, epoch, best_val_loss, best_accuracy, CHECKPOINTPATH + f'_{epoch}_{PRE_TRAINED_MODEL_NAME}.bin',history)\n",
    "        else:\n",
    "            epochs_without_improvement += 1\n",
    "            save_checkpoint(model, optimizer, epoch, best_val_loss, best_accuracy, CHECKPOINTPATH + f'_{epoch}_{PRE_TRAINED_MODEL_NAME}.bin',history)\n",
    "            if epochs_without_improvement >= early_stopping_patience:\n",
    "                print(f'Early stopping triggered after {epoch} epochs without improvement.')\n",
    "                break\n",
    "\n",
    "    print(f'{PRE_TRAINED_MODEL_NAME} Best val accuracy: {best_accuracy}')\n",
    "    print(f'{PRE_TRAINED_MODEL_NAME} Best val loss: {best_val_loss}')\n",
    "    return history\n"
   ]
  },
  {
   "cell_type": "code",
   "execution_count": 17,
   "metadata": {},
   "outputs": [
    {
     "name": "stderr",
     "output_type": "stream",
     "text": [
      "Some weights of the model checkpoint at roberta-base were not used when initializing RobertaModel: ['lm_head.dense.bias', 'lm_head.layer_norm.bias', 'lm_head.layer_norm.weight', 'lm_head.decoder.weight', 'lm_head.bias', 'lm_head.dense.weight']\n",
      "- This IS expected if you are initializing RobertaModel from the checkpoint of a model trained on another task or with another architecture (e.g. initializing a BertForSequenceClassification model from a BertForPreTraining model).\n",
      "- This IS NOT expected if you are initializing RobertaModel from the checkpoint of a model that you expect to be exactly identical (initializing a BertForSequenceClassification model from a BertForSequenceClassification model).\n"
     ]
    },
    {
     "name": "stdout",
     "output_type": "stream",
     "text": [
      "roberta-base\n",
      "Epoch 1/10\n"
     ]
    },
    {
     "data": {
      "application/vnd.jupyter.widget-view+json": {
       "model_id": "493f7d6289fd4bd49afbe5eb023598d4",
       "version_major": 2,
       "version_minor": 0
      },
      "text/plain": [
       "  0%|          | 0/4243 [00:00<?, ?it/s]"
      ]
     },
     "metadata": {},
     "output_type": "display_data"
    },
    {
     "name": "stdout",
     "output_type": "stream",
     "text": [
      "train_loss=0.2435, val_loss=0.1778 train_acc=0.9024, val_acc=0.9341\n",
      "Epoch 2/10\n"
     ]
    },
    {
     "data": {
      "application/vnd.jupyter.widget-view+json": {
       "model_id": "78ffaaf08f0d41deaf51a4954e091dd9",
       "version_major": 2,
       "version_minor": 0
      },
      "text/plain": [
       "  0%|          | 0/4243 [00:00<?, ?it/s]"
      ]
     },
     "metadata": {},
     "output_type": "display_data"
    },
    {
     "name": "stdout",
     "output_type": "stream",
     "text": [
      "train_loss=0.1649, val_loss=0.1593 train_acc=0.9373, val_acc=0.9403\n",
      "Epoch 3/10\n"
     ]
    },
    {
     "data": {
      "application/vnd.jupyter.widget-view+json": {
       "model_id": "32bcd71a1d85416c84b876a0fdadb746",
       "version_major": 2,
       "version_minor": 0
      },
      "text/plain": [
       "  0%|          | 0/4243 [00:00<?, ?it/s]"
      ]
     },
     "metadata": {},
     "output_type": "display_data"
    },
    {
     "name": "stdout",
     "output_type": "stream",
     "text": [
      "train_loss=0.1392, val_loss=0.1514 train_acc=0.9480, val_acc=0.9430\n",
      "Epoch 4/10\n"
     ]
    },
    {
     "data": {
      "application/vnd.jupyter.widget-view+json": {
       "model_id": "b11d124a656c4b0ab01262065f881047",
       "version_major": 2,
       "version_minor": 0
      },
      "text/plain": [
       "  0%|          | 0/4243 [00:00<?, ?it/s]"
      ]
     },
     "metadata": {},
     "output_type": "display_data"
    },
    {
     "ename": "",
     "evalue": "",
     "output_type": "error",
     "traceback": [
      "\u001b[1;31mFailed to connect to the remote Jupyter Server 'https://n8gyb4lnkv.clg07azjl.paperspacegradient.com/'. Verify the server is running and reachable."
     ]
    }
   ],
   "source": [
    "# if the checkpoint exist load the model else train the model\n",
    "\n",
    "history=None\n",
    "if not os.path.exists(CHECKPOINTPATH + f'_{PRE_TRAINED_MODEL_NAME}.bin'):\n",
    "   history= train(PRE_TRAINED_MODEL_NAME, 'Roberta MBTI')\n",
    "   saveHistory(history) \n",
    "   plot_training_history(history)  "
   ]
  },
  {
   "cell_type": "code",
   "execution_count": 14,
   "metadata": {},
   "outputs": [
    {
     "data": {
      "application/vnd.jupyter.widget-view+json": {
       "model_id": "e3786b6fd3134d05867a41f921d25ef8",
       "version_major": 2,
       "version_minor": 0
      },
      "text/plain": [
       "Downloading pytorch_model.bin:   0%|          | 0.00/478M [00:00<?, ?B/s]"
      ]
     },
     "metadata": {},
     "output_type": "display_data"
    },
    {
     "name": "stderr",
     "output_type": "stream",
     "text": [
      "Some weights of the model checkpoint at roberta-base were not used when initializing RobertaModel: ['lm_head.dense.weight', 'lm_head.layer_norm.bias', 'lm_head.dense.bias', 'lm_head.decoder.weight', 'lm_head.bias', 'lm_head.layer_norm.weight']\n",
      "- This IS expected if you are initializing RobertaModel from the checkpoint of a model trained on another task or with another architecture (e.g. initializing a BertForSequenceClassification model from a BertForPreTraining model).\n",
      "- This IS NOT expected if you are initializing RobertaModel from the checkpoint of a model that you expect to be exactly identical (initializing a BertForSequenceClassification model from a BertForSequenceClassification model).\n"
     ]
    },
    {
     "name": "stdout",
     "output_type": "stream",
     "text": [
      "roberta-base loaded\n"
     ]
    }
   ],
   "source": [
    "model = ROBERTAClass(PRE_TRAINED_MODEL_NAME)\n",
    "model.load_state_dict(torch.load(CHECKPOINTPATH + f'_Best_{PRE_TRAINED_MODEL_NAME}.bin'))\n",
    "model.to(device)\n",
    "print(f'{PRE_TRAINED_MODEL_NAME} loaded')"
   ]
  },
  {
   "cell_type": "code",
   "execution_count": 17,
   "metadata": {},
   "outputs": [
    {
     "name": "stdout",
     "output_type": "stream",
     "text": [
      "Epoch 1/3\n",
      "train_loss=0.2435, val_loss=0.1778 train_acc=0.9024, val_acc=0.9341\n",
      "-----------------------------------------\n",
      "Epoch 2/3\n",
      "train_loss=0.1649, val_loss=0.1593 train_acc=0.9373, val_acc=0.9403\n",
      "-----------------------------------------\n",
      "Epoch 3/3\n",
      "train_loss=0.1392, val_loss=0.1514 train_acc=0.9480, val_acc=0.9430\n",
      "-----------------------------------------\n"
     ]
    }
   ],
   "source": [
    "printHistory(history)"
   ]
  },
  {
   "cell_type": "markdown",
   "metadata": {},
   "source": [
    "### Testing the model"
   ]
  },
  {
   "cell_type": "code",
   "execution_count": 15,
   "metadata": {},
   "outputs": [
    {
     "name": "stdout",
     "output_type": "stream",
     "text": [
      "Accuracy 0.9417892156862745\n",
      "Accuracy Scores\n",
      "{'IE': 0.9404223227752639, 'NS': 0.9759615384615384, 'TF': 0.9443815987933635, 'JP': 0.9063914027149321}\n",
      "classification_report\n",
      "              precision    recall  f1-score   support\n",
      "\n",
      "          IE       0.93      0.81      0.87      2513\n",
      "          NS       0.90      0.79      0.84       869\n",
      "          TF       0.90      0.94      0.92      3621\n",
      "          JP       0.89      0.95      0.92      6091\n",
      "\n",
      "   micro avg       0.90      0.91      0.91     13094\n",
      "   macro avg       0.91      0.87      0.89     13094\n",
      "weighted avg       0.90      0.91      0.91     13094\n",
      " samples avg       0.73      0.72      0.72     13094\n",
      "\n"
     ]
    },
    {
     "name": "stderr",
     "output_type": "stream",
     "text": [
      "/usr/local/lib/python3.9/dist-packages/sklearn/metrics/_classification.py:1334: UndefinedMetricWarning: Precision and F-score are ill-defined and being set to 0.0 in samples with no predicted labels. Use `zero_division` parameter to control this behavior.\n",
      "  _warn_prf(average, modifier, msg_start, len(result))\n",
      "/usr/local/lib/python3.9/dist-packages/sklearn/metrics/_classification.py:1334: UndefinedMetricWarning: Recall and F-score are ill-defined and being set to 0.0 in samples with no true labels. Use `zero_division` parameter to control this behavior.\n",
      "  _warn_prf(average, modifier, msg_start, len(result))\n"
     ]
    }
   ],
   "source": [
    "# get the metrics \"in utils.py\"\n",
    "get_metrics(model,test_data_loader,labels_list,device)"
   ]
  },
  {
   "cell_type": "markdown",
   "metadata": {},
   "source": [
    "### Testing the model #2"
   ]
  },
  {
   "cell_type": "code",
   "execution_count": 79,
   "metadata": {},
   "outputs": [],
   "source": [
    "testing_dataset=pd.read_csv('/datasets/mbti_test_1/mbti_1_cleaned.csv',encoding='utf-8')"
   ]
  },
  {
   "cell_type": "code",
   "execution_count": 80,
   "metadata": {},
   "outputs": [
    {
     "name": "stdout",
     "output_type": "stream",
     "text": [
      "<class 'pandas.core.frame.DataFrame'>\n",
      "RangeIndex: 8674 entries, 0 to 8673\n",
      "Data columns (total 5 columns):\n",
      " #   Column  Non-Null Count  Dtype \n",
      "---  ------  --------------  ----- \n",
      " 0   IE      8674 non-null   int64 \n",
      " 1   NS      8674 non-null   int64 \n",
      " 2   TF      8674 non-null   int64 \n",
      " 3   JP      8674 non-null   int64 \n",
      " 4   posts   8674 non-null   object\n",
      "dtypes: int64(4), object(1)\n",
      "memory usage: 339.0+ KB\n"
     ]
    }
   ],
   "source": [
    "testing_dataset.info()"
   ]
  },
  {
   "cell_type": "code",
   "execution_count": 81,
   "metadata": {},
   "outputs": [],
   "source": [
    "# create the dataset\n",
    "testing_dataset = MBTIDataset(testing_dataset, labels_list, tokenizer, MAX_LEN)\n",
    "testing_data_loader = DataLoader(testing_dataset, batch_size=20, shuffle=True, drop_last=True)"
   ]
  },
  {
   "cell_type": "code",
   "execution_count": 83,
   "metadata": {},
   "outputs": [
    {
     "name": "stdout",
     "output_type": "stream",
     "text": [
      "Accuracy 0.8955254041570438\n",
      "Accuracy Scores\n",
      "{'IE': 0.9005773672055427, 'NS': 0.9333718244803695, 'TF': 0.8862586605080831, 'JP': 0.8618937644341801}\n",
      "classification_report\n",
      "              precision    recall  f1-score   support\n",
      "\n",
      "          IE       0.84      0.70      0.77      1996\n",
      "          NS       0.85      0.63      0.72      1194\n",
      "          TF       0.87      0.93      0.90      4689\n",
      "          JP       0.85      0.93      0.89      5227\n",
      "\n",
      "   micro avg       0.86      0.87      0.86     13106\n",
      "   macro avg       0.85      0.80      0.82     13106\n",
      "weighted avg       0.86      0.87      0.86     13106\n",
      " samples avg       0.77      0.77      0.76     13106\n",
      "\n"
     ]
    },
    {
     "name": "stderr",
     "output_type": "stream",
     "text": [
      "/usr/local/lib/python3.9/dist-packages/sklearn/metrics/_classification.py:1334: UndefinedMetricWarning: Precision and F-score are ill-defined and being set to 0.0 in samples with no predicted labels. Use `zero_division` parameter to control this behavior.\n",
      "  _warn_prf(average, modifier, msg_start, len(result))\n",
      "/usr/local/lib/python3.9/dist-packages/sklearn/metrics/_classification.py:1334: UndefinedMetricWarning: Recall and F-score are ill-defined and being set to 0.0 in samples with no true labels. Use `zero_division` parameter to control this behavior.\n",
      "  _warn_prf(average, modifier, msg_start, len(result))\n"
     ]
    }
   ],
   "source": [
    "get_metrics(model,testing_data_loader,labels_list,device)"
   ]
  }
 ],
 "metadata": {
  "kernelspec": {
   "display_name": "Python 3 (ipykernel)",
   "language": "python",
   "name": "python3"
  },
  "language_info": {
   "codemirror_mode": {
    "name": "ipython",
    "version": 3
   },
   "file_extension": ".py",
   "mimetype": "text/x-python",
   "name": "python",
   "nbconvert_exporter": "python",
   "pygments_lexer": "ipython3",
   "version": "3.9.16"
  }
 },
 "nbformat": 4,
 "nbformat_minor": 2
}
