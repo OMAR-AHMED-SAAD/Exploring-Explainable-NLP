{
 "cells": [
  {
   "cell_type": "code",
   "execution_count": 1,
   "metadata": {},
   "outputs": [
    {
     "name": "stdout",
     "output_type": "stream",
     "text": [
      "zsh:1: command not found: nvidia-smi\n"
     ]
    }
   ],
   "source": [
    "!nvidia-smi"
   ]
  },
  {
   "cell_type": "markdown",
   "metadata": {},
   "source": [
    "## Roberta Base Model"
   ]
  },
  {
   "cell_type": "code",
   "execution_count": 2,
   "metadata": {},
   "outputs": [],
   "source": [
    "import os\n",
    "import pandas as pd\n",
    "import numpy as np\n",
    "import torch"
   ]
  },
  {
   "cell_type": "code",
   "execution_count": 3,
   "metadata": {},
   "outputs": [],
   "source": [
    "# setting the model name\n",
    "PRE_TRAINED_MODEL_NAME = 'roberta-base'\n",
    "\n",
    "\n",
    "# setting the checkpoint path \n",
    "if os.path.exists('ckpts'):\n",
    "    CHECKPOINTPATH = 'ckpts/Persnality_MBTI'\n",
    "else:\n",
    "    CHECKPOINTPATH = '../ckpts/Persnality_MBTI'\n",
    "\n",
    "# setting the device\n",
    "device = torch.device(\"cuda\" if torch.cuda.is_available() else \"cpu\")\n",
    "\n",
    "# setting the random seed\n",
    "torch.manual_seed(99)\n",
    "torch.cuda.manual_seed(99)\n",
    "torch.cuda.manual_seed_all(99)\n",
    "np.random.seed(99)"
   ]
  },
  {
   "cell_type": "code",
   "execution_count": 4,
   "metadata": {},
   "outputs": [
    {
     "data": {
      "text/plain": [
       "'../ckpts/Persnality_MBTI'"
      ]
     },
     "execution_count": 4,
     "metadata": {},
     "output_type": "execute_result"
    }
   ],
   "source": [
    "CHECKPOINTPATH"
   ]
  },
  {
   "cell_type": "markdown",
   "metadata": {},
   "source": [
    "#### Load the model"
   ]
  },
  {
   "cell_type": "code",
   "execution_count": 5,
   "metadata": {},
   "outputs": [
    {
     "name": "stderr",
     "output_type": "stream",
     "text": [
      "[nltk_data] Downloading package stopwords to\n",
      "[nltk_data]     /Users/omarahmed/nltk_data...\n",
      "[nltk_data]   Package stopwords is already up-to-date!\n",
      "[nltk_data] Downloading package punkt to /Users/omarahmed/nltk_data...\n",
      "[nltk_data]   Package punkt is already up-to-date!\n"
     ]
    }
   ],
   "source": [
    "# import model\n",
    "import sys\n",
    "sys.path.append('../Models')\n",
    "import roberta_mbti as model\n"
   ]
  },
  {
   "cell_type": "code",
   "execution_count": 6,
   "metadata": {},
   "outputs": [
    {
     "name": "stderr",
     "output_type": "stream",
     "text": [
      "Some weights of RobertaModel were not initialized from the model checkpoint at roberta-base and are newly initialized: ['roberta.pooler.dense.bias', 'roberta.pooler.dense.weight']\n",
      "You should probably TRAIN this model on a down-stream task to be able to use it for predictions and inference.\n"
     ]
    },
    {
     "name": "stdout",
     "output_type": "stream",
     "text": [
      "roberta-base_no_words loaded\n"
     ]
    },
    {
     "data": {
      "text/plain": [
       "<torch.autograd.grad_mode.set_grad_enabled at 0x165b72410>"
      ]
     },
     "execution_count": 6,
     "metadata": {},
     "output_type": "execute_result"
    }
   ],
   "source": [
    "roberta_model = model.ROBERTAClass(PRE_TRAINED_MODEL_NAME)\n",
    "roberta_model.load_state_dict(torch.load(CHECKPOINTPATH + f'_clean_Best_{PRE_TRAINED_MODEL_NAME}.bin', map_location=torch.device(device)))\n",
    "roberta_model.to(device)\n",
    "print(f'{PRE_TRAINED_MODEL_NAME}_no_words loaded')\n",
    "roberta_model.eval()\n",
    "\n",
    "torch.set_grad_enabled(False)"
   ]
  },
  {
   "cell_type": "markdown",
   "metadata": {},
   "source": [
    "### Load Data"
   ]
  },
  {
   "cell_type": "code",
   "execution_count": 7,
   "metadata": {},
   "outputs": [],
   "source": [
    "all_tweets_df=pd.read_csv('./data/tweets_uncleaned.csv')\n",
    "elon_tweets_df=all_tweets_df[all_tweets_df['author']=='elonmusk']\n",
    "elon_tweets_df=elon_tweets_df.reset_index(drop=True)\n",
    "bill_gates_tweets_df=all_tweets_df[all_tweets_df['author']=='BillGates']\n",
    "bill_gates_tweets_df=bill_gates_tweets_df.reset_index(drop=True)\n",
    "edlee_tweets_df=all_tweets_df[all_tweets_df['author']=='mayoredlee']\n",
    "edlee_tweets_df=edlee_tweets_df.reset_index(drop=True)"
   ]
  },
  {
   "cell_type": "code",
   "execution_count": 8,
   "metadata": {},
   "outputs": [
    {
     "name": "stdout",
     "output_type": "stream",
     "text": [
      "Elon Musk Tweets: (1832, 3)\n",
      "Bill Gates Tweets: (2060, 3)\n",
      "Ed Lee Tweets: (2403, 3)\n"
     ]
    }
   ],
   "source": [
    "print(f'Elon Musk Tweets: {elon_tweets_df.shape}')\n",
    "print(f'Bill Gates Tweets: {bill_gates_tweets_df.shape}')\n",
    "print(f'Ed Lee Tweets: {edlee_tweets_df.shape}')"
   ]
  },
  {
   "cell_type": "code",
   "execution_count": 9,
   "metadata": {},
   "outputs": [],
   "source": [
    "elon_predictions=roberta_model.getPrediction(elon_tweets_df['tweets'].to_list())"
   ]
  },
  {
   "cell_type": "code",
   "execution_count": 10,
   "metadata": {},
   "outputs": [
    {
     "data": {
      "text/plain": [
       "tensor([[0.8831, 0.0170, 0.0250, 0.2009],\n",
       "        [0.1805, 0.0644, 0.5008, 0.4542],\n",
       "        [0.1724, 0.0478, 0.0770, 0.6165],\n",
       "        ...,\n",
       "        [0.2714, 0.0433, 0.0673, 0.7551],\n",
       "        [0.3745, 0.0878, 0.3200, 0.5350],\n",
       "        [0.9520, 0.0204, 0.0154, 0.0247]])"
      ]
     },
     "execution_count": 10,
     "metadata": {},
     "output_type": "execute_result"
    }
   ],
   "source": [
    "elon_predictions"
   ]
  },
  {
   "cell_type": "code",
   "execution_count": 11,
   "metadata": {},
   "outputs": [
    {
     "data": {
      "text/plain": [
       "tensor([[1., 0., 0., 0.],\n",
       "        [0., 0., 1., 0.],\n",
       "        [0., 0., 0., 1.],\n",
       "        ...,\n",
       "        [0., 0., 0., 1.],\n",
       "        [0., 0., 0., 1.],\n",
       "        [1., 0., 0., 0.]])"
      ]
     },
     "execution_count": 11,
     "metadata": {},
     "output_type": "execute_result"
    }
   ],
   "source": [
    "elon_predictions=elon_predictions.round()\n",
    "elon_predictions"
   ]
  },
  {
   "cell_type": "code",
   "execution_count": 12,
   "metadata": {},
   "outputs": [],
   "source": [
    "def measure_traits_presence(predictions,print_out=True):\n",
    "    # Count the number of ones (1s) along each column (dimension 0)\n",
    "    ones_count = torch.sum(predictions, dim=0)\n",
    "    # Count the number of zeros (0s) along each column (dimension 0)\n",
    "    zeros_count = predictions.size(0) - ones_count\n",
    "    # Calculate the percentage of ones and zeros for each trait\n",
    "    ones_precentage=ones_count/predictions.size(0)\n",
    "    zeros_precentage=zeros_count/predictions.size(0)\n",
    "    # Round the percentage to 2 decimal places and multiply by 100 to get the percentage\n",
    "    ones_precentage=(torch.round(ones_precentage,decimals=2)*100).round()  \n",
    "    zeros_precentage=(torch.round(zeros_precentage,decimals=2)*100).round()  \n",
    "    if print_out:\n",
    "        print(\"Introvert(0) vs Extrovert(1):\", zeros_precentage[0].item(),\"% vs\", ones_precentage[0].item(),\"%\")\n",
    "        print(\"Intuition(0) vs Sensing(1):\", zeros_precentage[1].item(),\"% vs\", ones_precentage[1].item(),\"%\")\n",
    "        print(\"Thinking(0) vs Feeling(1):\", zeros_precentage[2].item(),\"% vs\", ones_precentage[2].item(),\"%\")\n",
    "        print(\"Judging(0) vs Perceiving(1):\", zeros_precentage[3].item(),\"% vs\", ones_precentage[3].item(),\"%\")\n",
    "\n",
    "    return ones_precentage,zeros_precentage"
   ]
  },
  {
   "cell_type": "code",
   "execution_count": 13,
   "metadata": {},
   "outputs": [
    {
     "name": "stdout",
     "output_type": "stream",
     "text": [
      "Introvert(0) vs Extrovert(1): 67.0 % vs 33.0 %\n",
      "Intuition(0) vs Sensing(1): 100.0 % vs 0.0 %\n",
      "Thinking(0) vs Feeling(1): 83.0 % vs 17.0 %\n",
      "Judging(0) vs Perceiving(1): 50.0 % vs 50.0 %\n"
     ]
    },
    {
     "data": {
      "text/plain": [
       "(tensor([33.,  0., 17., 50.]), tensor([ 67., 100.,  83.,  50.]))"
      ]
     },
     "execution_count": 13,
     "metadata": {},
     "output_type": "execute_result"
    }
   ],
   "source": [
    "#example\n",
    "tensor_data = torch.tensor([[1., 0., 0., 0.],\n",
    "                            [0., 0., 1., 0.],\n",
    "                            [0., 0., 0., 1.],\n",
    "                            [0., 0., 0., 1.],\n",
    "                            [0., 0., 0., 1.],\n",
    "                            [1., 0., 0., 0.]])\n",
    "measure_traits_presence(tensor_data)\n",
    "# Ones count per column: [2.0, 0.0, 1.0, 3.0]\n",
    "# Zeros count per column: [4.0, 6.0, 5.0, 3.0]"
   ]
  },
  {
   "cell_type": "code",
   "execution_count": 14,
   "metadata": {},
   "outputs": [
    {
     "name": "stdout",
     "output_type": "stream",
     "text": [
      "Introvert(0) vs Extrovert(1): 96.0 % vs 4.0 %\n",
      "Intuition(0) vs Sensing(1): 96.0 % vs 4.0 %\n",
      "Thinking(0) vs Feeling(1): 94.0 % vs 6.0 %\n",
      "Judging(0) vs Perceiving(1): 28.0 % vs 72.0 %\n"
     ]
    },
    {
     "data": {
      "text/plain": [
       "(tensor([ 4.,  4.,  6., 72.]), tensor([96., 96., 94., 28.]))"
      ]
     },
     "execution_count": 14,
     "metadata": {},
     "output_type": "execute_result"
    }
   ],
   "source": [
    "measure_traits_presence(elon_predictions)"
   ]
  },
  {
   "cell_type": "code",
   "execution_count": 15,
   "metadata": {},
   "outputs": [
    {
     "data": {
      "text/plain": [
       "tensor([[0., 0., 0., 0.],\n",
       "        [0., 0., 0., 0.],\n",
       "        [0., 0., 0., 1.],\n",
       "        ...,\n",
       "        [0., 0., 1., 0.],\n",
       "        [0., 0., 1., 0.],\n",
       "        [0., 0., 0., 0.]])"
      ]
     },
     "execution_count": 15,
     "metadata": {},
     "output_type": "execute_result"
    }
   ],
   "source": [
    "bgates_predictions=roberta_model.getPrediction(bill_gates_tweets_df['tweets'].to_list())\n",
    "bgates_predictions=bgates_predictions.round()\n",
    "bgates_predictions"
   ]
  },
  {
   "cell_type": "code",
   "execution_count": 16,
   "metadata": {},
   "outputs": [
    {
     "name": "stdout",
     "output_type": "stream",
     "text": [
      "Introvert(0) vs Extrovert(1): 98.0 % vs 2.0 %\n",
      "Intuition(0) vs Sensing(1): 100.0 % vs 0.0 %\n",
      "Thinking(0) vs Feeling(1): 81.0 % vs 19.0 %\n",
      "Judging(0) vs Perceiving(1): 36.0 % vs 64.0 %\n"
     ]
    },
    {
     "data": {
      "text/plain": [
       "(tensor([ 2.,  0., 19., 64.]), tensor([ 98., 100.,  81.,  36.]))"
      ]
     },
     "execution_count": 16,
     "metadata": {},
     "output_type": "execute_result"
    }
   ],
   "source": [
    "measure_traits_presence(bgates_predictions)"
   ]
  },
  {
   "cell_type": "code",
   "execution_count": 17,
   "metadata": {},
   "outputs": [
    {
     "data": {
      "text/plain": [
       "tensor([[0., 0., 0., 1.],\n",
       "        [0., 0., 0., 1.],\n",
       "        [0., 0., 0., 0.],\n",
       "        ...,\n",
       "        [0., 0., 1., 0.],\n",
       "        [0., 0., 1., 0.],\n",
       "        [0., 0., 0., 1.]])"
      ]
     },
     "execution_count": 17,
     "metadata": {},
     "output_type": "execute_result"
    }
   ],
   "source": [
    "edlee_predictions=roberta_model.getPrediction(edlee_tweets_df['tweets'].to_list())\n",
    "edlee_predictions=edlee_predictions.round()\n",
    "edlee_predictions"
   ]
  },
  {
   "cell_type": "code",
   "execution_count": 18,
   "metadata": {},
   "outputs": [
    {
     "name": "stdout",
     "output_type": "stream",
     "text": [
      "Introvert(0) vs Extrovert(1): 99.0 % vs 1.0 %\n",
      "Intuition(0) vs Sensing(1): 99.0 % vs 1.0 %\n",
      "Thinking(0) vs Feeling(1): 73.0 % vs 27.0 %\n",
      "Judging(0) vs Perceiving(1): 58.0 % vs 42.0 %\n"
     ]
    },
    {
     "data": {
      "text/plain": [
       "(tensor([ 1.,  1., 27., 42.]), tensor([99., 99., 73., 58.]))"
      ]
     },
     "execution_count": 18,
     "metadata": {},
     "output_type": "execute_result"
    }
   ],
   "source": [
    "measure_traits_presence(edlee_predictions)"
   ]
  },
  {
   "cell_type": "markdown",
   "metadata": {},
   "source": [
    "### Analyze Extracted Traits"
   ]
  },
  {
   "cell_type": "code",
   "execution_count": 19,
   "metadata": {},
   "outputs": [
    {
     "data": {
      "image/png": "[encoded data removed]",
      "text/plain": [
       "<Figure size 1400x400 with 3 Axes>"
      ]
     },
     "metadata": {},
     "output_type": "display_data"
    }
   ],
   "source": [
    "import matplotlib.pyplot as plt\n",
    "\n",
    "def plot(predictions_list, labels, names):\n",
    "    fig, axs = plt.subplots(1, 3, figsize=(14,4))\n",
    "    axs = axs.flatten()\n",
    "    fig.suptitle('Personality Traits Distribution')\n",
    "    \n",
    "    for i, predictions in enumerate(predictions_list):\n",
    "        # Round the percentages to two decimal places\n",
    "        ones_percentage_rounded,zeros_percentage_rounded =measure_traits_presence(predictions,print_out=False)\n",
    "        \n",
    "        # Plotting\n",
    "        ax = axs[i]\n",
    "        ax.bar(labels, zeros_percentage_rounded.tolist(), label='(0)')\n",
    "        ax.bar(labels, ones_percentage_rounded.tolist(), bottom=zeros_percentage_rounded.tolist(), label='(1)')\n",
    "        ax.set_ylim([0, 100])  # Set y-axis limit from 0 to 1\n",
    "        ax.set_ylabel('Percentage')\n",
    "        ax.set_title(names[i])\n",
    "        ax.legend()\n",
    "        # flip the x-axis labels\n",
    "        \n",
    "    \n",
    "    plt.tight_layout()\n",
    "    plt.show()\n",
    "\n",
    "# Example usage\n",
    "predictions_list = [elon_predictions, bgates_predictions, edlee_predictions]\n",
    "labels = ['I(0) vs E(1)', 'N(0) vs S(1)', 'T(0) vs F(1)', 'J(0) vs P(1)']\n",
    "plot(predictions_list, labels,['Elon Musk','Bill Gates','Mayor Ed Lee'])\n"
   ]
  }
 ],
 "metadata": {
  "kernelspec": {
   "display_name": "Python 3 (ipykernel)",
   "language": "python",
   "name": "python3"
  },
  "language_info": {
   "codemirror_mode": {
    "name": "ipython",
    "version": 3
   },
   "file_extension": ".py",
   "mimetype": "text/x-python",
   "name": "python",
   "nbconvert_exporter": "python",
   "pygments_lexer": "ipython3",
   "version": "3.11.4"
  }
 },
 "nbformat": 4,
 "nbformat_minor": 2
}
