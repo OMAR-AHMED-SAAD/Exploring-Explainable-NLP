{
 "cells": [
  {
   "cell_type": "code",
   "execution_count": 1,
   "metadata": {},
   "outputs": [
    {
     "name": "stderr",
     "output_type": "stream",
     "text": [
      "[nltk_data] Downloading package stopwords to\n",
      "[nltk_data]     C:\\Users\\user\\AppData\\Roaming\\nltk_data...\n",
      "[nltk_data]   Package stopwords is already up-to-date!\n",
      "[nltk_data] Downloading package punkt to\n",
      "[nltk_data]     C:\\Users\\user\\AppData\\Roaming\\nltk_data...\n",
      "[nltk_data]   Package punkt is already up-to-date!\n",
      "Some weights of RobertaModel were not initialized from the model checkpoint at roberta-base and are newly initialized: ['roberta.pooler.dense.bias', 'roberta.pooler.dense.weight']\n",
      "You should probably TRAIN this model on a down-stream task to be able to use it for predictions and inference.\n",
      "[nltk_data] Downloading package stopwords to\n",
      "[nltk_data]     C:\\Users\\user\\AppData\\Roaming\\nltk_data...\n",
      "[nltk_data]   Package stopwords is already up-to-date!\n",
      "[nltk_data] Downloading package punkt to\n",
      "[nltk_data]     C:\\Users\\user\\AppData\\Roaming\\nltk_data...\n",
      "[nltk_data]   Package punkt is already up-to-date!\n"
     ]
    }
   ],
   "source": [
    "from pipeline import *"
   ]
  },
  {
   "cell_type": "code",
   "execution_count": 2,
   "metadata": {},
   "outputs": [
    {
     "name": "stdout",
     "output_type": "stream",
     "text": [
      "Analyzing Jeff Bezos tweets\n",
      "dataset size after cleaning: 25049\n",
      "Introversion(0) vs Extroversion(1): 87.0 % vs 13.0 %\n",
      "Intuition(0) vs Sensing(1): 97.0 % vs 3.0 %\n",
      "Thinking(0) vs Feeling(1): 93.0 % vs 7.0 %\n",
      "Judging(0) vs Perceiving(1): 13.0 % vs 87.0 %\n"
     ]
    }
   ],
   "source": [
    "get_enterpreneur_traits(\"data2/BezosTweets.csv\",\"Tweets\",\"Jeff Bezos\")"
   ]
  },
  {
   "cell_type": "code",
   "execution_count": 2,
   "metadata": {},
   "outputs": [
    {
     "name": "stdout",
     "output_type": "stream",
     "text": [
      "Analyzing Elon Musk tweets\n",
      "dataset size after cleaning: 31658\n"
     ]
    },
    {
     "name": "stderr",
     "output_type": "stream",
     "text": [
      "100%|██████████| 990/990 [01:19<00:00, 12.45it/s]"
     ]
    },
    {
     "name": "stdout",
     "output_type": "stream",
     "text": [
      "Introversion(0) vs Extroversion(1): 88.0 % vs 12.0 %\n",
      "Intuition(0) vs Sensing(1): 95.0 % vs 5.0 %\n",
      "Thinking(0) vs Feeling(1): 92.0 % vs 8.0 %\n",
      "Judging(0) vs Perceiving(1): 13.0 % vs 87.0 %\n"
     ]
    },
    {
     "name": "stderr",
     "output_type": "stream",
     "text": [
      "\n"
     ]
    }
   ],
   "source": [
    "get_enterpreneur_traits(\"data2/MuskTweets.csv\",\"Tweets\",\"Elon Musk\")"
   ]
  },
  {
   "cell_type": "code",
   "execution_count": 3,
   "metadata": {},
   "outputs": [
    {
     "name": "stdout",
     "output_type": "stream",
     "text": [
      "Analyzing Tim Cook tweets\n",
      "dataset size after cleaning: 4168\n"
     ]
    },
    {
     "name": "stderr",
     "output_type": "stream",
     "text": [
      "100%|██████████| 131/131 [00:09<00:00, 13.38it/s]"
     ]
    },
    {
     "name": "stdout",
     "output_type": "stream",
     "text": [
      "Introversion(0) vs Extroversion(1): 93.0 % vs 7.0 %\n",
      "Intuition(0) vs Sensing(1): 95.0 % vs 5.0 %\n",
      "Thinking(0) vs Feeling(1): 88.0 % vs 12.0 %\n",
      "Judging(0) vs Perceiving(1): 20.0 % vs 80.0 %\n"
     ]
    },
    {
     "name": "stderr",
     "output_type": "stream",
     "text": [
      "\n"
     ]
    }
   ],
   "source": [
    "get_enterpreneur_traits(\"data2/CookTweets.csv\",\"Tweets\",\"Tim Cook\")"
   ]
  },
  {
   "cell_type": "code",
   "execution_count": 4,
   "metadata": {},
   "outputs": [
    {
     "name": "stdout",
     "output_type": "stream",
     "text": [
      "Analyzing Mark Zuckerberg tweets\n",
      "dataset size after cleaning: 7434\n"
     ]
    },
    {
     "name": "stderr",
     "output_type": "stream",
     "text": [
      "100%|██████████| 233/233 [00:17<00:00, 13.65it/s]"
     ]
    },
    {
     "name": "stdout",
     "output_type": "stream",
     "text": [
      "Introversion(0) vs Extroversion(1): 89.0 % vs 11.0 %\n",
      "Intuition(0) vs Sensing(1): 96.0 % vs 4.0 %\n",
      "Thinking(0) vs Feeling(1): 91.0 % vs 9.0 %\n",
      "Judging(0) vs Perceiving(1): 15.0 % vs 85.0 %\n"
     ]
    },
    {
     "name": "stderr",
     "output_type": "stream",
     "text": [
      "\n"
     ]
    }
   ],
   "source": [
    "get_enterpreneur_traits(\"data2/ZuckTweets.csv\",\"Tweets\",\"Mark Zuckerberg\")"
   ]
  },
  {
   "cell_type": "code",
   "execution_count": 5,
   "metadata": {},
   "outputs": [
    {
     "name": "stdout",
     "output_type": "stream",
     "text": [
      "Analyzing Jack Dorsey tweets\n",
      "dataset size after cleaning: 2239\n"
     ]
    },
    {
     "name": "stderr",
     "output_type": "stream",
     "text": [
      "100%|██████████| 70/70 [00:05<00:00, 12.78it/s]"
     ]
    },
    {
     "name": "stdout",
     "output_type": "stream",
     "text": [
      "Introversion(0) vs Extroversion(1): 91.0 % vs 9.0 %\n",
      "Intuition(0) vs Sensing(1): 95.0 % vs 5.0 %\n",
      "Thinking(0) vs Feeling(1): 94.0 % vs 6.0 %\n",
      "Judging(0) vs Perceiving(1): 13.0 % vs 87.0 %\n"
     ]
    },
    {
     "name": "stderr",
     "output_type": "stream",
     "text": [
      "\n"
     ]
    }
   ],
   "source": [
    "get_enterpreneur_traits(\"data2/DorseyTweets.csv\",\"Tweets\",\"Jack Dorsey\")"
   ]
  },
  {
   "cell_type": "code",
   "execution_count": 6,
   "metadata": {},
   "outputs": [
    {
     "name": "stdout",
     "output_type": "stream",
     "text": [
      "Analyzing Bill Gates tweets\n",
      "dataset size after cleaning: 33758\n"
     ]
    },
    {
     "name": "stderr",
     "output_type": "stream",
     "text": [
      "100%|██████████| 1055/1055 [01:34<00:00, 11.11it/s]\n"
     ]
    },
    {
     "name": "stdout",
     "output_type": "stream",
     "text": [
      "Introversion(0) vs Extroversion(1): 92.0 % vs 8.0 %\n",
      "Intuition(0) vs Sensing(1): 97.0 % vs 3.0 %\n",
      "Thinking(0) vs Feeling(1): 95.0 % vs 5.0 %\n",
      "Judging(0) vs Perceiving(1): 20.0 % vs 80.0 %\n"
     ]
    }
   ],
   "source": [
    "get_enterpreneur_traits(\"data2/GatesTweets.csv\",\"Tweets\",\"Bill Gates\")"
   ]
  }
 ],
 "metadata": {
  "kernelspec": {
   "display_name": ".venv",
   "language": "python",
   "name": "python3"
  },
  "language_info": {
   "codemirror_mode": {
    "name": "ipython",
    "version": 3
   },
   "file_extension": ".py",
   "mimetype": "text/x-python",
   "name": "python",
   "nbconvert_exporter": "python",
   "pygments_lexer": "ipython3",
   "version": "3.11.9"
  }
 },
 "nbformat": 4,
 "nbformat_minor": 2
}
