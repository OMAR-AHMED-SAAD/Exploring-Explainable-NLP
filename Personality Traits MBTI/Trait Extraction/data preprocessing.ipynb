{
 "cells": [
  {
   "cell_type": "markdown",
   "metadata": {},
   "source": [
    "### Pre-process tweets for trait extraction\n",
    "##### Tweets from kaggle with tweets of :\n",
    "- `#ElonMusk`\n",
    "- `#BillGates`\n",
    "- `#Ed Lee`\n",
    "\n",
    "#### Tweet pre-processing steps:\n",
    "- Remove URLs\n",
    "- Remove Punctuation\n",
    "- Remove Stopwords\n",
    "- Remove non-alphabetic characters"
   ]
  },
  {
   "cell_type": "code",
   "execution_count": 2,
   "metadata": {},
   "outputs": [],
   "source": [
    "import pandas as pd\n",
    "import numpy as np\n",
    "import matplotlib.pyplot as plt"
   ]
  },
  {
   "cell_type": "markdown",
   "metadata": {},
   "source": [
    "### Load Data"
   ]
  },
  {
   "cell_type": "code",
   "execution_count": 13,
   "metadata": {},
   "outputs": [
    {
     "name": "stdout",
     "output_type": "stream",
     "text": [
      "Number of tweets per user\n",
      "Bill Gates: 2087\n",
      "Elon Musk: 2678\n",
      "Ed Lee: 2447\n"
     ]
    }
   ],
   "source": [
    "bgates_df=pd.read_csv('./data/tweets_BillGates.csv')\n",
    "elon_df=pd.read_csv('./data/tweets_elonmusk.csv')\n",
    "edlee_df=pd.read_csv('./data/tweets_mayoredlee.csv')\n",
    "\n",
    "# number of tweets per user\n",
    "print('Number of tweets per user')\n",
    "print('Bill Gates:', bgates_df.shape[0])\n",
    "print('Elon Musk:', elon_df.shape[0])\n",
    "print('Ed Lee:', edlee_df.shape[0])"
   ]
  },
  {
   "cell_type": "code",
   "execution_count": 15,
   "metadata": {},
   "outputs": [
    {
     "name": "stdout",
     "output_type": "stream",
     "text": [
      "<class 'pandas.core.frame.DataFrame'>\n",
      "RangeIndex: 2678 entries, 0 to 2677\n",
      "Data columns (total 35 columns):\n",
      " #   Column                          Non-Null Count  Dtype  \n",
      "---  ------                          --------------  -----  \n",
      " 0   screen_name                     2678 non-null   object \n",
      " 1   user_id                         2678 non-null   int64  \n",
      " 2   created_at                      2678 non-null   object \n",
      " 3   status_id                       2678 non-null   float64\n",
      " 4   text                            2678 non-null   object \n",
      " 5   retweet_count                   2678 non-null   int64  \n",
      " 6   favorite_count                  2678 non-null   int64  \n",
      " 7   is_quote_status                 2678 non-null   bool   \n",
      " 8   quote_status_id                 97 non-null     float64\n",
      " 9   is_retweet                      2678 non-null   bool   \n",
      " 10  retweet_status_id               0 non-null      float64\n",
      " 11  in_reply_to_status_status_id    1564 non-null   float64\n",
      " 12  in_reply_to_status_user_id      1567 non-null   float64\n",
      " 13  in_reply_to_status_screen_name  1567 non-null   object \n",
      " 14  lang                            2678 non-null   object \n",
      " 15  source                          2678 non-null   object \n",
      " 16  media_id                        125 non-null    float64\n",
      " 17  media_url                       125 non-null    object \n",
      " 18  media_url_expanded              125 non-null    object \n",
      " 19  urls                            0 non-null      float64\n",
      " 20  urls_display                    680 non-null    object \n",
      " 21  urls_expanded                   680 non-null    object \n",
      " 22  mentions_screen_name            1499 non-null   object \n",
      " 23  mentions_user_id                1499 non-null   object \n",
      " 24  symbols                         2 non-null      object \n",
      " 25  hashtags                        4 non-null      object \n",
      " 26  coordinates                     0 non-null      float64\n",
      " 27  place_id                        0 non-null      float64\n",
      " 28  place_type                      0 non-null      float64\n",
      " 29  place_name                      0 non-null      float64\n",
      " 30  place_full_name                 0 non-null      float64\n",
      " 31  country_code                    0 non-null      float64\n",
      " 32  country                         0 non-null      float64\n",
      " 33  bounding_box_coordinates        0 non-null      float64\n",
      " 34  bounding_box_type               0 non-null      float64\n",
      "dtypes: bool(2), float64(16), int64(3), object(14)\n",
      "memory usage: 695.8+ KB\n"
     ]
    }
   ],
   "source": [
    "elon_df.info()  "
   ]
  },
  {
   "cell_type": "code",
   "execution_count": 17,
   "metadata": {},
   "outputs": [
    {
     "name": "stdout",
     "output_type": "stream",
     "text": [
      "<class 'pandas.core.frame.DataFrame'>\n",
      "Index: 7212 entries, 0 to 2446\n",
      "Data columns (total 35 columns):\n",
      " #   Column                          Non-Null Count  Dtype  \n",
      "---  ------                          --------------  -----  \n",
      " 0   screen_name                     7212 non-null   object \n",
      " 1   user_id                         7212 non-null   int64  \n",
      " 2   created_at                      7212 non-null   object \n",
      " 3   status_id                       7212 non-null   float64\n",
      " 4   text                            7212 non-null   object \n",
      " 5   retweet_count                   7212 non-null   int64  \n",
      " 6   favorite_count                  7212 non-null   int64  \n",
      " 7   is_quote_status                 7212 non-null   bool   \n",
      " 8   quote_status_id                 198 non-null    float64\n",
      " 9   is_retweet                      7212 non-null   bool   \n",
      " 10  retweet_status_id               0 non-null      float64\n",
      " 11  in_reply_to_status_status_id    1671 non-null   float64\n",
      " 12  in_reply_to_status_user_id      1679 non-null   float64\n",
      " 13  in_reply_to_status_screen_name  1679 non-null   object \n",
      " 14  lang                            7212 non-null   object \n",
      " 15  source                          7212 non-null   object \n",
      " 16  media_id                        1621 non-null   float64\n",
      " 17  media_url                       1621 non-null   object \n",
      " 18  media_url_expanded              1621 non-null   object \n",
      " 19  urls                            0 non-null      float64\n",
      " 20  urls_display                    3896 non-null   object \n",
      " 21  urls_expanded                   3896 non-null   object \n",
      " 22  mentions_screen_name            3094 non-null   object \n",
      " 23  mentions_user_id                3094 non-null   object \n",
      " 24  symbols                         2 non-null      object \n",
      " 25  hashtags                        2141 non-null   object \n",
      " 26  coordinates                     0 non-null      float64\n",
      " 27  place_id                        949 non-null    object \n",
      " 28  place_type                      949 non-null    object \n",
      " 29  place_name                      949 non-null    object \n",
      " 30  place_full_name                 949 non-null    object \n",
      " 31  country_code                    947 non-null    object \n",
      " 32  country                         947 non-null    object \n",
      " 33  bounding_box_coordinates        949 non-null    object \n",
      " 34  bounding_box_type               949 non-null    object \n",
      "dtypes: bool(2), float64(8), int64(3), object(22)\n",
      "memory usage: 1.9+ MB\n"
     ]
    }
   ],
   "source": [
    "# merge all dataframes\n",
    "all_df = pd.concat([bgates_df, elon_df, edlee_df], axis=0)"
   ]
  },
  {
   "cell_type": "code",
   "execution_count": 21,
   "metadata": {},
   "outputs": [
    {
     "name": "stdout",
     "output_type": "stream",
     "text": [
      "<class 'pandas.core.frame.DataFrame'>\n",
      "Index: 7212 entries, 0 to 2446\n",
      "Data columns (total 2 columns):\n",
      " #   Column       Non-Null Count  Dtype \n",
      "---  ------       --------------  ----- \n",
      " 0   text         7212 non-null   object\n",
      " 1   screen_name  7212 non-null   object\n",
      "dtypes: object(2)\n",
      "memory usage: 169.0+ KB\n"
     ]
    }
   ],
   "source": [
    "# drop all columns except 'text' & 'screen name'\n",
    "all_df = all_df[['text', 'screen_name']]\n",
    "all_df.info()\n"
   ]
  },
  {
   "cell_type": "code",
   "execution_count": 24,
   "metadata": {},
   "outputs": [
    {
     "data": {
      "text/html": [
       "<div>\n",
       "<style scoped>\n",
       "    .dataframe tbody tr th:only-of-type {\n",
       "        vertical-align: middle;\n",
       "    }\n",
       "\n",
       "    .dataframe tbody tr th {\n",
       "        vertical-align: top;\n",
       "    }\n",
       "\n",
       "    .dataframe thead th {\n",
       "        text-align: right;\n",
       "    }\n",
       "</style>\n",
       "<table border=\"1\" class=\"dataframe\">\n",
       "  <thead>\n",
       "    <tr style=\"text-align: right;\">\n",
       "      <th></th>\n",
       "      <th>tweets</th>\n",
       "      <th>author</th>\n",
       "    </tr>\n",
       "  </thead>\n",
       "  <tbody>\n",
       "    <tr>\n",
       "      <th>0</th>\n",
       "      <td>Tanzania hopes to eliminate one of the world’s...</td>\n",
       "      <td>BillGates</td>\n",
       "    </tr>\n",
       "    <tr>\n",
       "      <th>1</th>\n",
       "      <td>By investing in R&amp;amp;D, I know we can discove...</td>\n",
       "      <td>BillGates</td>\n",
       "    </tr>\n",
       "    <tr>\n",
       "      <th>2</th>\n",
       "      <td>This unusual tool for fighting disease turns o...</td>\n",
       "      <td>BillGates</td>\n",
       "    </tr>\n",
       "    <tr>\n",
       "      <th>3</th>\n",
       "      <td>My first trip to Africa with Melinda was the c...</td>\n",
       "      <td>BillGates</td>\n",
       "    </tr>\n",
       "    <tr>\n",
       "      <th>4</th>\n",
       "      <td>“The death that didn’t happen is not visible.\"...</td>\n",
       "      <td>BillGates</td>\n",
       "    </tr>\n",
       "  </tbody>\n",
       "</table>\n",
       "</div>"
      ],
      "text/plain": [
       "                                              tweets     author\n",
       "0  Tanzania hopes to eliminate one of the world’s...  BillGates\n",
       "1  By investing in R&amp;D, I know we can discove...  BillGates\n",
       "2  This unusual tool for fighting disease turns o...  BillGates\n",
       "3  My first trip to Africa with Melinda was the c...  BillGates\n",
       "4  “The death that didn’t happen is not visible.\"...  BillGates"
      ]
     },
     "execution_count": 24,
     "metadata": {},
     "output_type": "execute_result"
    }
   ],
   "source": [
    "# rename columns to tweets and author\n",
    "all_df.columns = ['tweets', 'author']\n",
    "all_df.head()"
   ]
  },
  {
   "cell_type": "code",
   "execution_count": 27,
   "metadata": {},
   "outputs": [
    {
     "name": "stdout",
     "output_type": "stream",
     "text": [
      "<class 'pandas.core.frame.DataFrame'>\n",
      "RangeIndex: 7181 entries, 0 to 7180\n",
      "Data columns (total 2 columns):\n",
      " #   Column  Non-Null Count  Dtype \n",
      "---  ------  --------------  ----- \n",
      " 0   tweets  7181 non-null   object\n",
      " 1   author  7181 non-null   object\n",
      "dtypes: object(2)\n",
      "memory usage: 112.3+ KB\n"
     ]
    }
   ],
   "source": [
    "# remove duplicates, rows with missing values and reset index\n",
    "all_df = all_df.drop_duplicates()\n",
    "all_df = all_df.dropna()\n",
    "all_df = all_df.reset_index(drop=True)\n",
    "all_df.info()"
   ]
  },
  {
   "cell_type": "code",
   "execution_count": 37,
   "metadata": {},
   "outputs": [
    {
     "data": {
      "text/plain": [
       "count    7181.000000\n",
       "mean       16.201086\n",
       "std         5.556391\n",
       "min         1.000000\n",
       "25%        14.000000\n",
       "50%        17.000000\n",
       "75%        20.000000\n",
       "max        31.000000\n",
       "Name: word_count, dtype: float64"
      ]
     },
     "execution_count": 37,
     "metadata": {},
     "output_type": "execute_result"
    }
   ],
   "source": [
    "# show the word count distribution\n",
    "all_df['word_count'] = all_df['tweets'].apply(lambda x: len(str(x).split()))\n",
    "all_df['word_count'].describe()"
   ]
  },
  {
   "cell_type": "code",
   "execution_count": 38,
   "metadata": {},
   "outputs": [
    {
     "data": {
      "image/png": "[encoded data removed]",
      "text/plain": [
       "<Figure size 1000x600 with 1 Axes>"
      ]
     },
     "metadata": {},
     "output_type": "display_data"
    }
   ],
   "source": [
    "# plot the word count distribution\n",
    "plt.figure(figsize=(10, 6))\n",
    "plt.hist(all_df['word_count'], bins=20, color='skyblue')\n",
    "plt.xlabel('Word Count')\n",
    "plt.ylabel('Frequency')\n",
    "plt.title('Word Count Distribution')\n",
    "plt.show()"
   ]
  },
  {
   "cell_type": "code",
   "execution_count": 36,
   "metadata": {},
   "outputs": [
    {
     "data": {
      "text/html": [
       "<div>\n",
       "<style scoped>\n",
       "    .dataframe tbody tr th:only-of-type {\n",
       "        vertical-align: middle;\n",
       "    }\n",
       "\n",
       "    .dataframe tbody tr th {\n",
       "        vertical-align: top;\n",
       "    }\n",
       "\n",
       "    .dataframe thead th {\n",
       "        text-align: right;\n",
       "    }\n",
       "</style>\n",
       "<table border=\"1\" class=\"dataframe\">\n",
       "  <thead>\n",
       "    <tr style=\"text-align: right;\">\n",
       "      <th></th>\n",
       "      <th>tweets</th>\n",
       "      <th>author</th>\n",
       "      <th>word_count</th>\n",
       "    </tr>\n",
       "  </thead>\n",
       "  <tbody>\n",
       "    <tr>\n",
       "      <th>0</th>\n",
       "      <td>Tanzania hopes to eliminate one of the world’s...</td>\n",
       "      <td>BillGates</td>\n",
       "      <td>22</td>\n",
       "    </tr>\n",
       "    <tr>\n",
       "      <th>1</th>\n",
       "      <td>By investing in R&amp;amp;D, I know we can discove...</td>\n",
       "      <td>BillGates</td>\n",
       "      <td>20</td>\n",
       "    </tr>\n",
       "    <tr>\n",
       "      <th>2</th>\n",
       "      <td>This unusual tool for fighting disease turns o...</td>\n",
       "      <td>BillGates</td>\n",
       "      <td>16</td>\n",
       "    </tr>\n",
       "    <tr>\n",
       "      <th>3</th>\n",
       "      <td>My first trip to Africa with Melinda was the c...</td>\n",
       "      <td>BillGates</td>\n",
       "      <td>17</td>\n",
       "    </tr>\n",
       "    <tr>\n",
       "      <th>4</th>\n",
       "      <td>“The death that didn’t happen is not visible.\"...</td>\n",
       "      <td>BillGates</td>\n",
       "      <td>16</td>\n",
       "    </tr>\n",
       "    <tr>\n",
       "      <th>...</th>\n",
       "      <td>...</td>\n",
       "      <td>...</td>\n",
       "      <td>...</td>\n",
       "    </tr>\n",
       "    <tr>\n",
       "      <th>7176</th>\n",
       "      <td>Bet fulfilled! Thank you Mayor Sly James for h...</td>\n",
       "      <td>mayoredlee</td>\n",
       "      <td>21</td>\n",
       "    </tr>\n",
       "    <tr>\n",
       "      <th>7177</th>\n",
       "      <td>Mayors who have raised the #MinimumWage includ...</td>\n",
       "      <td>mayoredlee</td>\n",
       "      <td>20</td>\n",
       "    </tr>\n",
       "    <tr>\n",
       "      <th>7178</th>\n",
       "      <td>Inspired by words of The Hon. @HillaryClinton ...</td>\n",
       "      <td>mayoredlee</td>\n",
       "      <td>20</td>\n",
       "    </tr>\n",
       "    <tr>\n",
       "      <th>7179</th>\n",
       "      <td>Made it across GGB with mayors including Mayor...</td>\n",
       "      <td>mayoredlee</td>\n",
       "      <td>20</td>\n",
       "    </tr>\n",
       "    <tr>\n",
       "      <th>7180</th>\n",
       "      <td>What an amazing way to celebrate our storied C...</td>\n",
       "      <td>mayoredlee</td>\n",
       "      <td>19</td>\n",
       "    </tr>\n",
       "  </tbody>\n",
       "</table>\n",
       "<p>7181 rows × 3 columns</p>\n",
       "</div>"
      ],
      "text/plain": [
       "                                                 tweets      author  \\\n",
       "0     Tanzania hopes to eliminate one of the world’s...   BillGates   \n",
       "1     By investing in R&amp;D, I know we can discove...   BillGates   \n",
       "2     This unusual tool for fighting disease turns o...   BillGates   \n",
       "3     My first trip to Africa with Melinda was the c...   BillGates   \n",
       "4     “The death that didn’t happen is not visible.\"...   BillGates   \n",
       "...                                                 ...         ...   \n",
       "7176  Bet fulfilled! Thank you Mayor Sly James for h...  mayoredlee   \n",
       "7177  Mayors who have raised the #MinimumWage includ...  mayoredlee   \n",
       "7178  Inspired by words of The Hon. @HillaryClinton ...  mayoredlee   \n",
       "7179  Made it across GGB with mayors including Mayor...  mayoredlee   \n",
       "7180  What an amazing way to celebrate our storied C...  mayoredlee   \n",
       "\n",
       "      word_count  \n",
       "0             22  \n",
       "1             20  \n",
       "2             16  \n",
       "3             17  \n",
       "4             16  \n",
       "...          ...  \n",
       "7176          21  \n",
       "7177          20  \n",
       "7178          20  \n",
       "7179          20  \n",
       "7180          19  \n",
       "\n",
       "[7181 rows x 3 columns]"
      ]
     },
     "execution_count": 36,
     "metadata": {},
     "output_type": "execute_result"
    }
   ],
   "source": [
    "all_df"
   ]
  },
  {
   "cell_type": "code",
   "execution_count": 39,
   "metadata": {},
   "outputs": [
    {
     "name": "stdout",
     "output_type": "stream",
     "text": [
      "Looks like the Model S P100D Easter egg will allow it to do 0 to 60 mph in 2.4 sec and a 10.6 sec 1/4 mile via software update next month\n"
     ]
    }
   ],
   "source": [
    "# print the text that has the highest word count\n",
    "print(all_df.loc[all_df['word_count'].idxmax()]['tweets'])"
   ]
  },
  {
   "cell_type": "code",
   "execution_count": 49,
   "metadata": {},
   "outputs": [
    {
     "data": {
      "text/html": [
       "<div>\n",
       "<style scoped>\n",
       "    .dataframe tbody tr th:only-of-type {\n",
       "        vertical-align: middle;\n",
       "    }\n",
       "\n",
       "    .dataframe tbody tr th {\n",
       "        vertical-align: top;\n",
       "    }\n",
       "\n",
       "    .dataframe thead th {\n",
       "        text-align: right;\n",
       "    }\n",
       "</style>\n",
       "<table border=\"1\" class=\"dataframe\">\n",
       "  <thead>\n",
       "    <tr style=\"text-align: right;\">\n",
       "      <th></th>\n",
       "      <th>tweets</th>\n",
       "      <th>author</th>\n",
       "      <th>word_count</th>\n",
       "    </tr>\n",
       "  </thead>\n",
       "  <tbody>\n",
       "    <tr>\n",
       "      <th>164</th>\n",
       "      <td>This is incredible to see: https://t.co/hkNqLn...</td>\n",
       "      <td>BillGates</td>\n",
       "      <td>7</td>\n",
       "    </tr>\n",
       "    <tr>\n",
       "      <th>196</th>\n",
       "      <td>Tennis, anyone? https://t.co/ns6teODBMW</td>\n",
       "      <td>BillGates</td>\n",
       "      <td>3</td>\n",
       "    </tr>\n",
       "    <tr>\n",
       "      <th>337</th>\n",
       "      <td>.@POTUS, welcome to the club. https://t.co/XNN...</td>\n",
       "      <td>BillGates</td>\n",
       "      <td>6</td>\n",
       "    </tr>\n",
       "    <tr>\n",
       "      <th>646</th>\n",
       "      <td>Thank You! https://t.co/pQZ85QpC6q</td>\n",
       "      <td>BillGates</td>\n",
       "      <td>3</td>\n",
       "    </tr>\n",
       "    <tr>\n",
       "      <th>829</th>\n",
       "      <td>This investment is a no brainer: http://t.co/T...</td>\n",
       "      <td>BillGates</td>\n",
       "      <td>7</td>\n",
       "    </tr>\n",
       "    <tr>\n",
       "      <th>...</th>\n",
       "      <td>...</td>\n",
       "      <td>...</td>\n",
       "      <td>...</td>\n",
       "    </tr>\n",
       "    <tr>\n",
       "      <th>6621</th>\n",
       "      <td>Great game @warriors! #DubNation #StrengthInNu...</td>\n",
       "      <td>mayoredlee</td>\n",
       "      <td>6</td>\n",
       "    </tr>\n",
       "    <tr>\n",
       "      <th>6624</th>\n",
       "      <td>LET'S GO, #DUBNATION! #StrengthInNumbers #NBAF...</td>\n",
       "      <td>mayoredlee</td>\n",
       "      <td>5</td>\n",
       "    </tr>\n",
       "    <tr>\n",
       "      <th>6638</th>\n",
       "      <td>Great game @warriors! #DubNation #StrengthInNu...</td>\n",
       "      <td>mayoredlee</td>\n",
       "      <td>5</td>\n",
       "    </tr>\n",
       "    <tr>\n",
       "      <th>7022</th>\n",
       "      <td>Thank you, #SFGiants. http://t.co/TNGN1Y0E1J</td>\n",
       "      <td>mayoredlee</td>\n",
       "      <td>4</td>\n",
       "    </tr>\n",
       "    <tr>\n",
       "      <th>7152</th>\n",
       "      <td>Have a happy &amp;amp; safe #FourthofJuly!</td>\n",
       "      <td>mayoredlee</td>\n",
       "      <td>6</td>\n",
       "    </tr>\n",
       "  </tbody>\n",
       "</table>\n",
       "<p>758 rows × 3 columns</p>\n",
       "</div>"
      ],
      "text/plain": [
       "                                                 tweets      author  \\\n",
       "164   This is incredible to see: https://t.co/hkNqLn...   BillGates   \n",
       "196             Tennis, anyone? https://t.co/ns6teODBMW   BillGates   \n",
       "337   .@POTUS, welcome to the club. https://t.co/XNN...   BillGates   \n",
       "646                  Thank You! https://t.co/pQZ85QpC6q   BillGates   \n",
       "829   This investment is a no brainer: http://t.co/T...   BillGates   \n",
       "...                                                 ...         ...   \n",
       "6621  Great game @warriors! #DubNation #StrengthInNu...  mayoredlee   \n",
       "6624  LET'S GO, #DUBNATION! #StrengthInNumbers #NBAF...  mayoredlee   \n",
       "6638  Great game @warriors! #DubNation #StrengthInNu...  mayoredlee   \n",
       "7022       Thank you, #SFGiants. http://t.co/TNGN1Y0E1J  mayoredlee   \n",
       "7152             Have a happy &amp; safe #FourthofJuly!  mayoredlee   \n",
       "\n",
       "      word_count  \n",
       "164            7  \n",
       "196            3  \n",
       "337            6  \n",
       "646            3  \n",
       "829            7  \n",
       "...          ...  \n",
       "6621           6  \n",
       "6624           5  \n",
       "6638           5  \n",
       "7022           4  \n",
       "7152           6  \n",
       "\n",
       "[758 rows x 3 columns]"
      ]
     },
     "execution_count": 49,
     "metadata": {},
     "output_type": "execute_result"
    }
   ],
   "source": [
    "# show tweets with word count less than 5\n",
    "all_df[all_df['word_count'] < 8]"
   ]
  },
  {
   "cell_type": "code",
   "execution_count": 50,
   "metadata": {},
   "outputs": [],
   "source": [
    "# remove tweets with less than 9 words\n",
    "all_df = all_df[all_df['word_count'] > 8]"
   ]
  },
  {
   "cell_type": "code",
   "execution_count": 52,
   "metadata": {},
   "outputs": [],
   "source": [
    "# save the dataframe to a csv file\n",
    "all_df.to_csv('./data/tweets_uncleaned.csv', index=False)"
   ]
  },
  {
   "cell_type": "markdown",
   "metadata": {},
   "source": [
    "### Clean Data"
   ]
  },
  {
   "cell_type": "code",
   "execution_count": 54,
   "metadata": {},
   "outputs": [
    {
     "name": "stderr",
     "output_type": "stream",
     "text": [
      "[nltk_data] Downloading package stopwords to\n",
      "[nltk_data]     /Users/omarahmed/nltk_data...\n",
      "[nltk_data]   Package stopwords is already up-to-date!\n",
      "[nltk_data] Downloading package punkt to /Users/omarahmed/nltk_data...\n",
      "[nltk_data]   Package punkt is already up-to-date!\n"
     ]
    }
   ],
   "source": [
    "#Functions for Preprocessing the text\n",
    "import nltk\n",
    "from nltk import word_tokenize\n",
    "nltk.download('stopwords')\n",
    "from nltk.corpus import stopwords\n",
    "nltk.download('punkt')\n",
    "stop_words = set(stopwords.words('english'))\n",
    "\n",
    "\n",
    "def mystopwords(text):\n",
    "    return ' '.join([w for w in word_tokenize(text) if not w in stop_words])\n",
    "\n",
    "import re\n",
    "def clean_text(string):\n",
    "  clean=re.sub(r'\\w+:\\/{2}[\\d\\w-]+(\\.[\\d\\w-]+)*(?:(?:\\/[^\\s/]*))*', ' ',string) #remove url\n",
    "  clean=re.sub('[\\n]',' ',clean) #remove newline character\n",
    "  clean=re.sub('[^a-zA-Z]',' ',clean.lower()) #remove non alphabetic characters\n",
    "  clean=re.sub(r'[,]', ' ', clean)\n",
    "  clean=mystopwords(clean) #remove stopwords\n",
    "  return clean"
   ]
  },
  {
   "cell_type": "code",
   "execution_count": 55,
   "metadata": {},
   "outputs": [
    {
     "name": "stderr",
     "output_type": "stream",
     "text": [
      "/var/folders/9m/_z9mps5d1f70mpcggw5t_pxm0000gn/T/ipykernel_37476/1278899282.py:1: SettingWithCopyWarning: \n",
      "A value is trying to be set on a copy of a slice from a DataFrame.\n",
      "Try using .loc[row_indexer,col_indexer] = value instead\n",
      "\n",
      "See the caveats in the documentation: https://pandas.pydata.org/pandas-docs/stable/user_guide/indexing.html#returning-a-view-versus-a-copy\n",
      "  all_df['tweets'] = all_df['tweets'].apply(clean_text)\n"
     ]
    },
    {
     "data": {
      "text/html": [
       "<div>\n",
       "<style scoped>\n",
       "    .dataframe tbody tr th:only-of-type {\n",
       "        vertical-align: middle;\n",
       "    }\n",
       "\n",
       "    .dataframe tbody tr th {\n",
       "        vertical-align: top;\n",
       "    }\n",
       "\n",
       "    .dataframe thead th {\n",
       "        text-align: right;\n",
       "    }\n",
       "</style>\n",
       "<table border=\"1\" class=\"dataframe\">\n",
       "  <thead>\n",
       "    <tr style=\"text-align: right;\">\n",
       "      <th></th>\n",
       "      <th>tweets</th>\n",
       "      <th>author</th>\n",
       "      <th>word_count</th>\n",
       "    </tr>\n",
       "  </thead>\n",
       "  <tbody>\n",
       "    <tr>\n",
       "      <th>0</th>\n",
       "      <td>tanzania hopes eliminate one world painful dis...</td>\n",
       "      <td>BillGates</td>\n",
       "      <td>22</td>\n",
       "    </tr>\n",
       "    <tr>\n",
       "      <th>1</th>\n",
       "      <td>investing r amp know discover new innovations ...</td>\n",
       "      <td>BillGates</td>\n",
       "      <td>20</td>\n",
       "    </tr>\n",
       "    <tr>\n",
       "      <th>2</th>\n",
       "      <td>unusual tool fighting disease turns old thinki...</td>\n",
       "      <td>BillGates</td>\n",
       "      <td>16</td>\n",
       "    </tr>\n",
       "    <tr>\n",
       "      <th>3</th>\n",
       "      <td>first trip africa melinda catalyst began mygiv...</td>\n",
       "      <td>BillGates</td>\n",
       "      <td>17</td>\n",
       "    </tr>\n",
       "    <tr>\n",
       "      <th>4</th>\n",
       "      <td>death happen visible fascinating conversation ...</td>\n",
       "      <td>BillGates</td>\n",
       "      <td>16</td>\n",
       "    </tr>\n",
       "  </tbody>\n",
       "</table>\n",
       "</div>"
      ],
      "text/plain": [
       "                                              tweets     author  word_count\n",
       "0  tanzania hopes eliminate one world painful dis...  BillGates          22\n",
       "1  investing r amp know discover new innovations ...  BillGates          20\n",
       "2  unusual tool fighting disease turns old thinki...  BillGates          16\n",
       "3  first trip africa melinda catalyst began mygiv...  BillGates          17\n",
       "4  death happen visible fascinating conversation ...  BillGates          16"
      ]
     },
     "execution_count": 55,
     "metadata": {},
     "output_type": "execute_result"
    }
   ],
   "source": [
    "all_df['tweets'] = all_df['tweets'].apply(clean_text)\n",
    "all_df.head()"
   ]
  },
  {
   "cell_type": "code",
   "execution_count": 56,
   "metadata": {},
   "outputs": [],
   "source": [
    "# save the cleaned dataframe to a csv file\n",
    "all_df.to_csv('./data/tweets_cleaned.csv', index=False)"
   ]
  }
 ],
 "metadata": {
  "kernelspec": {
   "display_name": ".venv",
   "language": "python",
   "name": "python3"
  },
  "language_info": {
   "codemirror_mode": {
    "name": "ipython",
    "version": 3
   },
   "file_extension": ".py",
   "mimetype": "text/x-python",
   "name": "python",
   "nbconvert_exporter": "python",
   "pygments_lexer": "ipython3",
   "version": "3.11.4"
  }
 },
 "nbformat": 4,
 "nbformat_minor": 2
}
